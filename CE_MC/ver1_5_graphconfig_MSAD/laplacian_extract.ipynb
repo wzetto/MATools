{
 "cells": [
  {
   "cell_type": "code",
   "execution_count": 1,
   "metadata": {},
   "outputs": [],
   "source": [
    "import numpy as np\n",
    "import matplotlib.pyplot as plt"
   ]
  },
  {
   "cell_type": "code",
   "execution_count": 26,
   "metadata": {},
   "outputs": [],
   "source": [
    "ind_1nn = np.load('/media/wz/7AD631A4D6316195/Projects/mc_pure_qua/fcc_32/ind_1nn.npy')\n",
    "ind_2nn = np.load('/media/wz/7AD631A4D6316195/Projects/mc_pure_qua/fcc_32/ind_2nn.npy')\n",
    "ind_3nn = np.load('/media/wz/7AD631A4D6316195/Projects/mc_pure_qua/fcc_32/ind_3nn.npy')\n",
    "ind_4nn = np.load('/media/wz/7AD631A4D6316195/Projects/mc_pure_qua/fcc_32/ind_4nn.npy')\n",
    "ind_5nn = np.load('/media/wz/7AD631A4D6316195/Projects/mc_pure_qua/fcc_32/ind_5nn.npy')\n",
    "ind_6nn = np.load('/media/wz/7AD631A4D6316195/Projects/mc_pure_qua/fcc_32/ind_6nn.npy')"
   ]
  },
  {
   "cell_type": "code",
   "execution_count": 193,
   "metadata": {},
   "outputs": [],
   "source": [
    "def laplacian_matrix(ind_nNN, epsilon=-1e-7):\n",
    "    d = np.zeros((32,32))\n",
    "    a = np.zeros((32,32))\n",
    "    for i in ind_nNN:\n",
    "        i1, i2 = i[0], i[1]\n",
    "        a[i1,i2] += 1\n",
    "        a[i2,i1] += 1\n",
    "    \n",
    "    d = np.zeros_like(a)\n",
    "    d[range(a.shape[0]), range(a.shape[0])] = np.sum(a, axis=1)\n",
    "\n",
    "    # Normalized Laplacian\n",
    "    d_inv = (d+epsilon)**(-1/2)\n",
    "    d_inv = np.nan_to_num(d_inv)\n",
    "\n",
    "    l = np.eye(32) + np.dot(d_inv, np.dot(a, d_inv))\n",
    "\n",
    "    l_ = d_inv*a*d_inv + np.eye(32)\n",
    "\n",
    "    return d_inv, a, l, l_"
   ]
  },
  {
   "cell_type": "code",
   "execution_count": 194,
   "metadata": {},
   "outputs": [
    {
     "name": "stderr",
     "output_type": "stream",
     "text": [
      "/tmp/ipykernel_2211920/3532674927.py:13: RuntimeWarning: invalid value encountered in power\n",
      "  d_inv = (d+epsilon)**(-1/2)\n"
     ]
    }
   ],
   "source": [
    "d_1nn, a_1nn, l_1nn, l_1nn_ = laplacian_matrix(ind_1nn)\n",
    "d_2nn, a_2nn, l_2nn, l_2nn_ = laplacian_matrix(ind_2nn)\n",
    "d_3nn, a_3nn, l_3nn, l_3nn_ = laplacian_matrix(ind_3nn)\n",
    "d_4nn, a_4nn, l_4nn, l_4nn_ = laplacian_matrix(ind_4nn)\n",
    "d_5nn, a_5nn, l_5nn, l_5nn_ = laplacian_matrix(ind_5nn)\n",
    "d_6nn, a_6nn, l_6nn, l_6nn_ = laplacian_matrix(ind_6nn)"
   ]
  },
  {
   "cell_type": "code",
   "execution_count": 75,
   "metadata": {},
   "outputs": [],
   "source": [
    "a_tilt_1nn = np.load('/media/wz/7AD631A4D6316195/Projects/SQS_drl/graph/fcc_32/a_tilt.npy')"
   ]
  },
  {
   "cell_type": "code",
   "execution_count": 197,
   "metadata": {},
   "outputs": [
    {
     "data": {
      "text/plain": [
       "<matplotlib.image.AxesImage at 0x7f3c8e524910>"
      ]
     },
     "execution_count": 197,
     "metadata": {},
     "output_type": "execute_result"
    },
    {
     "data": {
      "image/png": "[encoded data removed]",
      "text/plain": [
       "<Figure size 720x720 with 4 Axes>"
      ]
     },
     "metadata": {
      "needs_background": "light"
     },
     "output_type": "display_data"
    }
   ],
   "source": [
    "fig, ax = plt.subplots(2, 2, figsize=(10,10))\n",
    "\n",
    "ax[0,0].matshow(l_2nn)\n",
    "ax[0,1].matshow(l_2nn_)\n",
    "# ax[1,1].matshow(a_tilt_1nn)"
   ]
  }
 ],
 "metadata": {
  "kernelspec": {
   "display_name": "base",
   "language": "python",
   "name": "python3"
  },
  "language_info": {
   "codemirror_mode": {
    "name": "ipython",
    "version": 3
   },
   "file_extension": ".py",
   "mimetype": "text/x-python",
   "name": "python",
   "nbconvert_exporter": "python",
   "pygments_lexer": "ipython3",
   "version": "3.9.7"
  },
  "orig_nbformat": 4,
  "vscode": {
   "interpreter": {
    "hash": "68475d8e8ba7c27bff5b0c1dcce162ecdafd8f583568d2d03f898fe272d0ccc7"
   }
  }
 },
 "nbformat": 4,
 "nbformat_minor": 2
}
