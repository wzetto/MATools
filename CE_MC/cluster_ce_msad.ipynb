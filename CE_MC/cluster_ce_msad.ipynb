{
 "cells": [
  {
   "cell_type": "code",
   "execution_count": 8,
   "metadata": {},
   "outputs": [],
   "source": [
    "import math\n",
    "import numpy as np \n",
    "import sub_func_ce\n",
    "from sub_func_ce import abs_dis, find_overlap\n",
    "import matplotlib.pyplot as plt\n",
    "from itertools import combinations\n",
    "from sklearn.model_selection import train_test_split\n",
    "from sklearn.linear_model import RidgeCV\n",
    "from sklearn.linear_model import BayesianRidge\n",
    "from sklearn.linear_model import LogisticRegression\n",
    "from sklearn.gaussian_process import GaussianProcessRegressor\n",
    "from sklearn.gaussian_process.kernels import DotProduct, WhiteKernel, RationalQuadratic, Matern\n",
    "from sklearn import mixture\n",
    "from random import randrange\n",
    "from IPython.display import clear_output\n",
    "import os\n",
    "from matplotlib import cm\n",
    "import pickle\n",
    "from msad_ana import msad_ana_qua\n",
    "\n",
    "from torch.nn.utils import clip_grad_norm_\n",
    "import torch\n",
    "import torch.nn as nn\n",
    "import torch.nn.functional as F\n",
    "from torch.utils.data.sampler import BatchSampler, SubsetRandomSampler\n",
    "from torch.utils.tensorboard import SummaryWriter\n",
    "\n",
    "# %matplotlib widget\n",
    "%matplotlib inline\n",
    "\n",
    "def normal_dist(x, mu, std):\n",
    "    prob_density = (np.pi*std) * np.exp(-0.5*((x-mu)/std)**2)\n",
    "    return prob_density\n",
    "    \n",
    "def draw_3d(ind_raw):\n",
    "    ind_raw = np.array(ind_raw)\n",
    "    plt.rcParams[\"figure.figsize\"] = [5, 5]\n",
    "    # plt.rcParams[\"figure.autolayout\"] = True\n",
    "    fig = plt.figure()\n",
    "    ax = fig.add_subplot(111, projection='3d')\n",
    "    ax.scatter(ind_raw[:,0], ind_raw[:,1], ind_raw[:,2], alpha = 0.5, c = 'r')\n",
    "    plt.show()\n",
    "\n",
    "def ele_list_gen(cr_c, mn_c, co_c, ni_c, num_c, mode = 'randchoice'):\n",
    "    np.random.seed()\n",
    "\n",
    "    assert abs(cr_c + mn_c + co_c + ni_c - 1) < 0.001, 'Make sure atomic ratio sum to 1'\n",
    "\n",
    "    while True:\n",
    "        if mode == 'randchoice':\n",
    "            len_cr = randrange(int(cr_c*num_c),int(cr_c*num_c)+2)\n",
    "            len_mn = randrange(int(mn_c*num_c),int(mn_c*num_c)+2)\n",
    "            len_co = randrange(int(co_c*num_c),int(co_c*num_c)+2)\n",
    "        elif mode == 'int':\n",
    "            len_cr = int(cr_c*num_c)\n",
    "            len_mn = int(mn_c*num_c)\n",
    "            len_co = int(co_c*num_c)\n",
    "        \n",
    "        len_ni = num_c-len_cr-len_mn-len_co\n",
    "        if abs(len_ni-num_c*ni_c) <= 1:\n",
    "            break\n",
    "\n",
    "    ele_list_raw = np.concatenate([np.zeros(len_cr)+2,np.ones(len_mn),0-np.ones(len_co),-1-np.ones(len_ni)],axis=0)\n",
    "    np.random.shuffle(ele_list_raw)\n",
    "    \n",
    "    return ele_list_raw\n",
    "\n",
    "def swap_step(action, state,):\n",
    "\n",
    "    a1 = action[0]\n",
    "    a2 = action[1]\n",
    "\n",
    "    state[a2], state[a1] = state[a1], state[a2]\n",
    "\n",
    "    return state\n",
    "\n",
    "def create_dir(directory):\n",
    "    if not os.path.exists(directory):\n",
    "        os.makedirs(directory)\n",
    "        print(\"Created Directory : \", directory)\n",
    "    else:\n",
    "        print(\"Directory already existed : \", directory)\n",
    "    return directory\n",
    "\n",
    "class CE:\n",
    "    def __init__(self, ind_1nn, ind_2nn, ind_3nn, ind_4nn, \n",
    "                ind_5nn, ind_6nn, ind_qua1nn, ind_qua1nn2nn,\n",
    "\n",
    "                ind_trip111, ind_trip112, ind_trip113, ind_trip114,\n",
    "                ind_trip123, ind_trip125, ind_trip133, ind_trip134, \n",
    "                ind_trip135, ind_trip145, ind_trip155, ind_trip224,\n",
    "                ind_trip233, ind_trip255, ind_trip334, ind_trip335, \n",
    "                ind_trip345, ind_trip444, ind_trip455, \n",
    "\n",
    "                ind_1nn_pbc, ind_2nn_pbc, ind_3nn_pbc, ind_4nn_pbc, \n",
    "                ind_5nn_pbc, ind_6nn_pbc, ind_qua1nn_pbc, ind_qua1nn2nn_pbc, \n",
    "\n",
    "                ind_trip111_pbc, ind_trip112_pbc, ind_trip113_pbc, ind_trip114_pbc,\n",
    "                ind_trip123_pbc, ind_trip125_pbc, ind_trip133_pbc, ind_trip134_pbc, \n",
    "                ind_trip135_pbc, ind_trip145_pbc, ind_trip155_pbc, ind_trip224_pbc,\n",
    "                ind_trip233_pbc, ind_trip255_pbc, ind_trip334_pbc, ind_trip335_pbc, \n",
    "                ind_trip345_pbc, ind_trip444_pbc, ind_trip455_pbc, \n",
    "\n",
    "                ind_raw,):\n",
    "\n",
    "        #* Inner of 32-atom config.\n",
    "        self.ind_1nn = ind_1nn\n",
    "        self.ind_2nn = ind_2nn\n",
    "        self.ind_3nn = ind_3nn\n",
    "        self.ind_4nn = ind_4nn\n",
    "        self.ind_5nn = ind_5nn\n",
    "        self.ind_6nn = ind_6nn\n",
    "        self.ind_qua1nn = ind_qua1nn\n",
    "        self.ind_qua1nn2nn = ind_qua1nn2nn\n",
    "\n",
    "        #* Cluster on boundary of primary config.\n",
    "        self.ind_1nn_pbc = ind_1nn_pbc\n",
    "        self.ind_2nn_pbc = ind_2nn_pbc\n",
    "        self.ind_3nn_pbc = ind_3nn_pbc\n",
    "        self.ind_4nn_pbc = ind_4nn_pbc\n",
    "        self.ind_5nn_pbc = ind_5nn_pbc\n",
    "        self.ind_6nn_pbc = ind_6nn_pbc\n",
    "        self.ind_qua1nn_pbc = ind_qua1nn_pbc\n",
    "        self.ind_qua1nn2nn_pbc = ind_qua1nn2nn_pbc\n",
    "\n",
    "        #* Triplets.\n",
    "        self.ind_trip111, self.ind_trip111_pbc = ind_trip111, ind_trip111_pbc \n",
    "        self.ind_trip112, self.ind_trip112_pbc = ind_trip112, ind_trip112_pbc \n",
    "        self.ind_trip113, self.ind_trip113_pbc = ind_trip113, ind_trip113_pbc \n",
    "        self.ind_trip114, self.ind_trip114_pbc = ind_trip114, ind_trip114_pbc \n",
    "        self.ind_trip123, self.ind_trip123_pbc = ind_trip123, ind_trip123_pbc \n",
    "        self.ind_trip125, self.ind_trip125_pbc = ind_trip125, ind_trip125_pbc \n",
    "        self.ind_trip133, self.ind_trip133_pbc = ind_trip133, ind_trip133_pbc \n",
    "        self.ind_trip134, self.ind_trip134_pbc = ind_trip134, ind_trip134_pbc \n",
    "        self.ind_trip135, self.ind_trip135_pbc = ind_trip135, ind_trip135_pbc \n",
    "        self.ind_trip145, self.ind_trip145_pbc = ind_trip145, ind_trip145_pbc \n",
    "        self.ind_trip155, self.ind_trip155_pbc = ind_trip155, ind_trip155_pbc \n",
    "        self.ind_trip224, self.ind_trip224_pbc = ind_trip224, ind_trip224_pbc \n",
    "        self.ind_trip233, self.ind_trip233_pbc = ind_trip233, ind_trip233_pbc \n",
    "        self.ind_trip255, self.ind_trip255_pbc = ind_trip255, ind_trip255_pbc \n",
    "        self.ind_trip334, self.ind_trip334_pbc = ind_trip334, ind_trip334_pbc \n",
    "        self.ind_trip335, self.ind_trip335_pbc = ind_trip335, ind_trip335_pbc \n",
    "        self.ind_trip345, self.ind_trip345_pbc = ind_trip345, ind_trip345_pbc \n",
    "        self.ind_trip444, self.ind_trip444_pbc = ind_trip444, ind_trip444_pbc\n",
    "        self.ind_trip455, self.ind_trip455_pbc = ind_trip455, ind_trip455_pbc\n",
    "\n",
    "        self.ind_raw = ind_raw\n",
    "        # self.ind_pbc = ind_pbc\n",
    "\n",
    "        self.sym_oplist = np.array([2, 1, 1, 0, 6, 0, 4, 12, 24])\n",
    "        self.sym_optri = np.array([6, 3, 1])\n",
    "        self.sym_opqua = np.array([0, 0, 1, 0, 0, 0, 2, 0, 4])\n",
    "\n",
    "    #*Normalizaiton by the symmetry operation for each cluster\n",
    "    def sym_operator(self, cluster, mode='None'):\n",
    "        if mode == 'None':\n",
    "            mode_cluster = len(cluster)\n",
    "            uni, count_uni = np.unique(cluster, return_counts=True)\n",
    "            len_uni = len(uni)\n",
    "            count_uni = np.sort(count_uni)\n",
    "            mode_sym = mode_cluster - len(uni)\n",
    "            sym_op = self.sym_oplist[mode_sym+mode_cluster-2]\n",
    "\n",
    "        elif mode == 'tri1nn':\n",
    "            mode_cluster = len(cluster)\n",
    "            uni, count_uni = np.unique(cluster, return_counts=True)\n",
    "            len_uni = len(uni)\n",
    "            mode_sym = mode_cluster - len(uni)\n",
    "            sym_op = self.sym_optri[mode_sym]\n",
    "        \n",
    "        elif mode == 'qua1nn':\n",
    "            uni, count_uni = np.unique(cluster, return_counts=True)\n",
    "            len_uni = len(uni)\n",
    "            count_uni = np.sort(count_uni)\n",
    "            len_count = len(count_uni)\n",
    "            c_ind = len_uni+len_count+count_uni[-1]-count_uni[0]\n",
    "            sym_op = self.sym_oplist[c_ind]\n",
    "\n",
    "        elif mode == 'qua1nn2nn':\n",
    "            uni, count_uni = np.unique(cluster, return_counts=True)\n",
    "            len_uni = len(uni)\n",
    "            count_uni = np.sort(count_uni)\n",
    "            len_count = len(count_uni)\n",
    "            c_ind = len_uni+len_count+count_uni[-1]-count_uni[0]\n",
    "            single_list = np.array([2, 6, 8])\n",
    "            if c_ind in single_list:\n",
    "                sym_op = self.sym_opqua[c_ind]\n",
    "            else:\n",
    "                if c_ind == 4:\n",
    "                    if len(np.unique(cluster[:2])) == 2:\n",
    "                        sym_op = 4\n",
    "                    else:\n",
    "                        sym_op = 1\n",
    "\n",
    "                elif c_ind == 7:\n",
    "                    if len(np.unique(cluster[:2])) == 2 and len(np.unique(cluster[2:4])) == 2:\n",
    "                        sym_op = 4\n",
    "                    else:\n",
    "                        sym_op = 2\n",
    "\n",
    "            '''\n",
    "            Square configuration, could be verified by inputing cluster\n",
    "            [0,1,2,3] and check the number of symmetry operation.\n",
    "            '''\n",
    "        elif mode == 'qua111122': \n",
    "            sym_mat = np.tile(cluster,(8,1))\n",
    "            sym_mat[1] = np.concatenate([cluster[1:], cluster[:1]]) #* pi/2\n",
    "            sym_mat[2] = np.concatenate([cluster[2:], cluster[:2]]) #* pi\n",
    "            sym_mat[3] = np.concatenate([cluster[3:], cluster[:3]]) #* 3/2*pi\n",
    "            sym_mat[4][0], sym_mat[4][1], sym_mat[4][2], sym_mat[4][3] = (\n",
    "                cluster[1], cluster[0], cluster[3], cluster[2]\n",
    "            ) #* Reflection 1\n",
    "            sym_mat[5] = np.concatenate([sym_mat[4][2:], sym_mat[4][:2]]) #* Reflection 2\n",
    "            sym_mat[6] = np.concatenate([sym_mat[5][3:], sym_mat[5][:3]]) #* Centre 1\n",
    "            sym_mat[7] = np.concatenate([sym_mat[5][1:], sym_mat[5][:1]]) #* Centre 2\n",
    "\n",
    "            sym_op = len(np.unique(sym_mat, axis=0))\n",
    "\n",
    "        return sym_op\n",
    "\n",
    "    def phi1(self, x):\n",
    "        return 2/math.sqrt(10)*x\n",
    "\n",
    "    def phi2(self, x):\n",
    "        return -5/3 + 2/3*(x**2)\n",
    "\n",
    "    def phi3(self, x):\n",
    "        return -17/30*math.sqrt(10)*x + math.sqrt(10)/6*(x**3)\n",
    "    \n",
    "    #*Return the correlation function for each cluster\n",
    "    def cpr(self, val_list):\n",
    "        p1l = self.phi1(val_list).reshape(-1, 1)\n",
    "        p2l = self.phi2(val_list).reshape(-1, 1)\n",
    "        p3l = self.phi3(val_list).reshape(-1, 1)\n",
    "        pl = np.concatenate([p1l, p2l, p3l], 1).T\n",
    "        c_len = len(val_list)\n",
    "        atom = 1\n",
    "        for i in range(c_len):\n",
    "            atom_1 = pl[:, i]\n",
    "            atom = np.outer(atom_1, atom)\n",
    "\n",
    "        return atom.flatten()\n",
    "\n",
    "    def trip_extract(self, config, ind_trip_raw, ind_trip_pbc, type_trip, cpr):\n",
    "        #* Merge the pbc and raw indices list.\n",
    "        ind_trip_all = np.concatenate([ind_trip_raw, ind_trip_pbc], axis=0)\n",
    "\n",
    "        for i in ind_trip_all:\n",
    "            a1, a2, a3 = config[i[0]], config[i[1]], config[i[2]]\n",
    "            cluster = np.array([a1, a2, a3])\n",
    "\n",
    "            if type_trip == '111':\n",
    "                cpr += self.cpr(cluster)/self.sym_operator(cluster, mode='tri1nn')\n",
    "\n",
    "            elif type_trip == '112':\n",
    "                #* Symmetry operation will be done only in AAB or ABC form\n",
    "                # print(a1, a2, a3)\n",
    "                if ((a1 == a2 and a1 != a3) \n",
    "                    or (a1 == a3 and a1 != a2) \n",
    "                    or (len(np.unique(cluster)) == 3)):\n",
    "                    cpr += self.cpr(cluster)/2\n",
    "                else:\n",
    "                    cpr += self.cpr(cluster)\n",
    "\n",
    "            elif type_trip == '123':\n",
    "                cpr += self.cpr(cluster)\n",
    "        \n",
    "        cpr = np.array(cpr)/len(ind_trip_all)\n",
    "\n",
    "        return cpr\n",
    "\n",
    "    def cluster_extra(self, config, embed):\n",
    "        '''\n",
    "        Config in PBC must be in N*27 form.\n",
    "        '''\n",
    "        cpr_1nn = 0\n",
    "        if embed['pair1']:\n",
    "            for i in self.ind_1nn:\n",
    "                a1, a2 = config[i[0]], config[i[1]]\n",
    "                cluster = np.array([a1, a2])\n",
    "                cpr_1nn += (self.cpr(cluster)/self.sym_operator(cluster))\n",
    "\n",
    "            for i in self.ind_1nn_pbc:\n",
    "                a1, a2 = config[i[0]], config[i[1]]\n",
    "                cluster = np.array([a1, a2])\n",
    "                cpr_1nn += (self.cpr(cluster)/self.sym_operator(cluster))  \n",
    "            \n",
    "            cpr_1nn = np.array(cpr_1nn)/(len(self.ind_1nn)+len(self.ind_1nn_pbc))\n",
    "        else:\n",
    "            cpr_1nn = []\n",
    "\n",
    "        cpr_2nn = 0\n",
    "        if embed['pair2']:\n",
    "            for i in self.ind_2nn:\n",
    "                a1, a2 = config[i[0]], config[i[1]]\n",
    "                cluster = np.array([a1, a2])\n",
    "                cpr_2nn += (self.cpr(cluster)/self.sym_operator(cluster))\n",
    "\n",
    "            for i in self.ind_2nn_pbc:\n",
    "                a1, a2 = config[i[0]], config[i[1]]\n",
    "                cluster = np.array([a1, a2])\n",
    "                cpr_2nn += (self.cpr(cluster)/self.sym_operator(cluster))\n",
    "\n",
    "            cpr_2nn = np.array(cpr_2nn)/(len(self.ind_2nn)+len(self.ind_2nn_pbc))\n",
    "        else:\n",
    "            cpr_2nn = []\n",
    "        \n",
    "        cpr_3nn = 0\n",
    "        if embed['pair3']:\n",
    "            for i in self.ind_3nn:\n",
    "                a1, a2 = config[i[0]], config[i[1]]\n",
    "                cluster = np.array([a1, a2])\n",
    "                cpr_3nn += (self.cpr(cluster)/self.sym_operator(cluster))\n",
    "\n",
    "            for i in self.ind_3nn_pbc:\n",
    "                a1, a2 = config[i[0]], config[i[1]]\n",
    "                cluster = np.array([a1, a2])\n",
    "                cpr_3nn += (self.cpr(cluster)/self.sym_operator(cluster))\n",
    "\n",
    "            cpr_3nn = np.array(cpr_3nn)/(len(self.ind_3nn)+len(self.ind_3nn_pbc))\n",
    "        else:\n",
    "            cpr_3nn = []\n",
    "\n",
    "        cpr_4nn = 0\n",
    "        if embed['pair4']:\n",
    "            for i in self.ind_4nn:\n",
    "                a1, a2 = config[i[0]], config[i[1]]\n",
    "                cluster = np.array([a1, a2])\n",
    "                cpr_4nn += (self.cpr(cluster)/self.sym_operator(cluster))\n",
    "\n",
    "            for i in self.ind_4nn_pbc:\n",
    "                a1, a2 = config[i[0]], config[i[1]]\n",
    "                cluster = np.array([a1, a2])\n",
    "                cpr_4nn += (self.cpr(cluster)/self.sym_operator(cluster))\n",
    "\n",
    "            cpr_4nn = np.array(cpr_4nn)/(len(self.ind_4nn)+len(self.ind_4nn_pbc))\n",
    "        else:\n",
    "            cpr_4nn = []\n",
    "\n",
    "        cpr_5nn = 0\n",
    "        if embed['pair5']:\n",
    "            for i in self.ind_5nn:\n",
    "                a1, a2 = config[i[0]], config[i[1]]\n",
    "                cluster = np.array([a1, a2])\n",
    "                cpr_5nn += (self.cpr(cluster)/self.sym_operator(cluster))\n",
    "\n",
    "            for i in self.ind_5nn_pbc:\n",
    "                a1, a2 = config[i[0]], config[i[1]]\n",
    "                cluster = np.array([a1, a2])\n",
    "                cpr_5nn += (self.cpr(cluster)/self.sym_operator(cluster))\n",
    "\n",
    "            cpr_5nn = np.array(cpr_5nn)/(len(self.ind_5nn)+len(self.ind_5nn_pbc))\n",
    "        else:\n",
    "            cpr_5nn = []\n",
    "\n",
    "        cpr_6nn = 0\n",
    "        if embed['pair6']:\n",
    "            for i in self.ind_6nn:\n",
    "                a1, a2 = config[i[0]], config[i[1]]\n",
    "                cluster = np.array([a1, a2])\n",
    "                cpr_6nn += (self.cpr(cluster)/self.sym_operator(cluster))\n",
    "\n",
    "            for i in self.ind_6nn_pbc:\n",
    "                a1, a2 = config[i[0]], config[i[1]]\n",
    "                cluster = np.array([a1, a2])\n",
    "                cpr_6nn += (self.cpr(cluster)/self.sym_operator(cluster))\n",
    "\n",
    "            cpr_6nn = np.array(cpr_6nn)/(len(self.ind_6nn)+len(self.ind_6nn_pbc))\n",
    "        else:\n",
    "            cpr_6nn = []\n",
    "            \n",
    "        cpr_tri111 = 0\n",
    "        if embed['tri111']:\n",
    "            cpr_tri111 = self.trip_extract(config, self.ind_trip111,\n",
    "                self.ind_trip111_pbc, '111', cpr_tri111)\n",
    "        else:\n",
    "            cpr_tri111 = []\n",
    "\n",
    "        cpr_tri444 = 0\n",
    "        if embed['tri444']:\n",
    "            cpr_tri444 = self.trip_extract(config, self.ind_trip444,\n",
    "                self.ind_trip444_pbc, '111', cpr_tri444)\n",
    "        else:\n",
    "            cpr_tri444 = []\n",
    "            # for i in self.ind_trip1nn:\n",
    "            #     a1, a2, a3 = config[i[0]], config[i[1]], config[i[2]]\n",
    "            #     cluster = np.array([a1, a2, a3])\n",
    "            #     cpr_tri1nn += (self.cpr(cluster)/self.sym_operator(cluster, mode='tri1nn')).tolist()\n",
    "\n",
    "            # for i in self.ind_trip1nn_pbc:\n",
    "            #     a1, a2, a3 = config[i[0]], config[i[1]], config[i[2]]\n",
    "            #     cluster = np.array([a1, a2, a3])\n",
    "            #     cpr_tri1nn += (self.cpr(cluster)/self.sym_operator(cluster, mode='tri1nn')).tolist()\n",
    "\n",
    "            # cpr_tri1nn = np.array(cpr_tri1nn)/(len(self.ind_trip1nn)+len(self.ind_trip1nn_pbc))\n",
    "\n",
    "        cpr_tri112 = 0\n",
    "        if embed['tri112']:\n",
    "            cpr_tri112 = self.trip_extract(config, self.ind_trip112,\n",
    "                self.ind_trip112_pbc, '112', cpr_tri112)\n",
    "        else:\n",
    "            cpr_tri112 = []\n",
    "        \n",
    "        cpr_tri113 = 0\n",
    "        if embed['tri113']:\n",
    "            cpr_tri113 = self.trip_extract(config, self.ind_trip113,\n",
    "                self.ind_trip113_pbc, '112', cpr_tri113)\n",
    "        else:\n",
    "            cpr_tri113 = []\n",
    "\n",
    "        cpr_tri114 = 0\n",
    "        if embed['tri114']:\n",
    "            cpr_tri114 = self.trip_extract(config, self.ind_trip114,\n",
    "                self.ind_trip114_pbc, '112', cpr_tri114)\n",
    "        else:\n",
    "            cpr_tri114 = []\n",
    "        \n",
    "        cpr_tri133 = 0\n",
    "        if embed['tri133']:\n",
    "            cpr_tri133 = self.trip_extract(config, self.ind_trip133,\n",
    "                self.ind_trip133_pbc, '112', cpr_tri133)\n",
    "        else:\n",
    "            cpr_tri133 = []\n",
    "\n",
    "        cpr_tri155 = 0\n",
    "        if embed['tri155']:\n",
    "            cpr_tri155 = self.trip_extract(config, self.ind_trip155,\n",
    "                self.ind_trip155_pbc, '112', cpr_tri155)\n",
    "        else:\n",
    "            cpr_tri155 = []\n",
    "\n",
    "        cpr_tri224 = 0\n",
    "        if embed['tri224']:\n",
    "            cpr_tri224 = self.trip_extract(config, self.ind_trip224,\n",
    "                self.ind_trip224_pbc, '112', cpr_tri224)\n",
    "        else:\n",
    "            cpr_tri224 = []\n",
    "        \n",
    "        cpr_tri233 = 0\n",
    "        if embed['tri233']:\n",
    "            cpr_tri233 = self.trip_extract(config, self.ind_trip233,\n",
    "                self.ind_trip233_pbc, '112', cpr_tri233)\n",
    "        else:\n",
    "            cpr_tri233 = []\n",
    "\n",
    "        cpr_tri255 = 0\n",
    "        if embed['tri255']:\n",
    "            cpr_tri255 = self.trip_extract(config, self.ind_trip255,\n",
    "                self.ind_trip255_pbc, '112', cpr_tri255)\n",
    "        else:\n",
    "            cpr_tri255 = []\n",
    "\n",
    "        cpr_tri334 = 0\n",
    "        if embed['tri334']:\n",
    "            cpr_tri334 = self.trip_extract(config, self.ind_trip334,\n",
    "                self.ind_trip334_pbc, '112', cpr_tri334)\n",
    "        else:\n",
    "            cpr_tri334 = []\n",
    "\n",
    "        cpr_tri335 = 0\n",
    "        if embed['tri335']:\n",
    "            cpr_tri335 = self.trip_extract(config, self.ind_trip335,\n",
    "                self.ind_trip335_pbc, '112', cpr_tri335)\n",
    "        else:\n",
    "            cpr_tri335 = []\n",
    "\n",
    "        cpr_tri455 = 0\n",
    "        if embed['tri455']:\n",
    "            cpr_tri455 = self.trip_extract(config, self.ind_trip455,\n",
    "                self.ind_trip455_pbc, '112', cpr_tri455)\n",
    "        else:\n",
    "            cpr_tri455 = []\n",
    "            # for i in self.ind_trip1nn2nn_pbc:\n",
    "            #     a1, a2, a3 = config[i[0]], config[i[1]], config[i[2]]\n",
    "            #     cluster = np.array([a1, a2, a3])\n",
    "            #     #* Symmetry operation will be doen only in AAB or ABC form\n",
    "            #     if ((a1 == a2 and a1 != a3) \n",
    "            #         or (a1 == a3 and a1 != a2) \n",
    "            #         or (np.unique(cluster) == 3)):\n",
    "            #         cpr_tri1nn2nn += (self.cpr(cluster)/2).tolist()\n",
    "            #     else:\n",
    "            #         cpr_tri1nn2nn += self.cpr(cluster).tolist()\n",
    "\n",
    "            # cpr_tri1nn2nn = np.array(cpr_tri1nn2nn)/(len(self.ind_trip1nn2nn)+len(self.ind_trip1nn2nn_pbc))\n",
    "\n",
    "        cpr_tri123 = 0\n",
    "        if embed['tri123']:\n",
    "            cpr_tri123 = self.trip_extract(config, self.ind_trip123,\n",
    "                self.ind_trip123_pbc, '123', cpr_tri123)\n",
    "        else:\n",
    "            cpr_tri123 = []\n",
    "\n",
    "        cpr_tri125 = 0\n",
    "        if embed['tri125']:\n",
    "            cpr_tri125 = self.trip_extract(config, self.ind_trip125,\n",
    "                self.ind_trip125_pbc, '123', cpr_tri125)\n",
    "        else:\n",
    "            cpr_tri125 = []\n",
    "\n",
    "        cpr_tri134 = 0\n",
    "        if embed['tri134']:\n",
    "            cpr_tri134 = self.trip_extract(config, self.ind_trip134,\n",
    "                self.ind_trip134_pbc, '123', cpr_tri134)\n",
    "        else:\n",
    "            cpr_tri134 = []\n",
    "\n",
    "        cpr_tri135 = 0\n",
    "        if embed['tri135']:\n",
    "            cpr_tri135 = self.trip_extract(config, self.ind_trip135,\n",
    "                self.ind_trip135_pbc, '123', cpr_tri135)\n",
    "        else:\n",
    "            cpr_tri135 = []\n",
    "\n",
    "        cpr_tri145 = 0\n",
    "        if embed['tri145']:\n",
    "            cpr_tri145 = self.trip_extract(config, self.ind_trip145,\n",
    "                self.ind_trip145_pbc, '123', cpr_tri145)\n",
    "        else:\n",
    "            cpr_tri145 = []\n",
    "\n",
    "        cpr_tri345 = 0\n",
    "        if embed['tri345']:\n",
    "            cpr_tri345 = self.trip_extract(config, self.ind_trip345,\n",
    "                self.ind_trip345_pbc, '123', cpr_tri345)\n",
    "        else:\n",
    "            cpr_tri345 = []\n",
    "            # for i in self.ind_trip1nn2nn3nn:\n",
    "            #     a1, a2, a3 = config[i[0]], config[i[1]], config[i[2]]\n",
    "            #     cluster = np.array([a1, a2, a3])\n",
    "            #     cpr_tri1nn2nn3nn += self.cpr(cluster).tolist()\n",
    "\n",
    "            # for i in self.ind_trip1nn2nn3nn_pbc:\n",
    "            #     a1, a2, a3 = config[i[0]], config[i[1]], config[i[2]]\n",
    "            #     cluster = np.array([a1, a2, a3])\n",
    "            #     cpr_tri1nn2nn3nn += self.cpr(cluster).tolist()\n",
    "\n",
    "            # cpr_tri1nn2nn3nn = np.array(cpr_tri1nn2nn3nn)/(len(self.ind_trip1nn2nn3nn)+len(self.ind_trip1nn2nn3nn_pbc))\n",
    "\n",
    "        cpr_qua1nn = 0\n",
    "        if embed['qua111111']:\n",
    "            for i in self.ind_qua1nn:\n",
    "                a1, a2, a3, a4 = config[i[0]], config[i[1]], config[i[2]], config[i[3]]\n",
    "                cluster = np.array([a1, a2, a3, a4])\n",
    "                cpr_qua1nn += (self.cpr(cluster)/self.sym_operator(cluster, mode='qua1nn'))\n",
    "\n",
    "            for i in self.ind_qua1nn_pbc:\n",
    "                a1, a2, a3, a4 = config[i[0]], config[i[1]], config[i[2]], config[i[3]]\n",
    "                cluster = np.array([a1, a2, a3, a4])\n",
    "                cpr_qua1nn += (self.cpr(cluster)/self.sym_operator(cluster, mode='qua1nn'))\n",
    "\n",
    "            cpr_qua1nn = np.array(cpr_qua1nn)/(len(self.ind_qua1nn) + len(self.ind_qua1nn_pbc))\n",
    "        else:\n",
    "            cpr_qua1nn = []\n",
    "\n",
    "        cpr_qua1nn2nn = 0\n",
    "        if embed['qua111112']:\n",
    "            for i in self.ind_qua1nn2nn:\n",
    "                a1, a2, a3, a4 = config[i[0]], config[i[1]], config[i[2]], config[i[3]]\n",
    "                cluster = np.array([a1, a2, a3, a4])\n",
    "                cpr_qua1nn2nn += (self.cpr(cluster)/self.sym_operator(cluster, mode='qua1nn2nn'))\n",
    "\n",
    "            for i in self.ind_qua1nn2nn_pbc:\n",
    "                a1, a2, a3, a4 = config[i[0]], config[i[1]], config[i[2]], config[i[3]]\n",
    "                cluster = np.array([a1, a2, a3, a4])\n",
    "                cpr_qua1nn2nn += (self.cpr(cluster)/self.sym_operator(cluster, mode='qua1nn2nn'))\n",
    "\n",
    "            cpr_qua1nn2nn = np.array(cpr_qua1nn2nn)/(len(self.ind_qua1nn2nn)+len(self.ind_qua1nn2nn_pbc))\n",
    "        else:\n",
    "            cpr_qua1nn2nn = []\n",
    "\n",
    "        cpr_qua111122 = 0\n",
    "        if embed['qua111122']:\n",
    "            for i in self.ind_qua111122:\n",
    "                a1, a2, a3, a4 = config[i[0]], config[i[1]], config[i[2]], config[i[3]]\n",
    "                cluster = np.array([a1, a2, a3, a4])\n",
    "                cpr_qua111122 += (self.cpr(cluster)/self.sym_operator(cluster, mode='qua111122'))\n",
    "\n",
    "            for i in self.ind_qua1nn2nn_pbc:\n",
    "                a1, a2, a3, a4 = config[i[0]], config[i[1]], config[i[2]], config[i[3]]\n",
    "                cluster = np.array([a1, a2, a3, a4])\n",
    "                cpr_qua111122 += (self.cpr(cluster)/self.sym_operator(cluster, mode='qua111122'))\n",
    "\n",
    "            cpr_qua111122 = np.array(cpr_qua111122)/(len(self.ind_qua111122)+len(self.ind_qua111122_pbc))\n",
    "        else:\n",
    "            cpr_qua111122 = []\n",
    "\n",
    "        #* Return the concatenate array (R = 1*N)\n",
    "        return np.concatenate([\n",
    "            cpr_1nn, cpr_2nn, cpr_3nn, cpr_4nn,\n",
    "            cpr_tri111, cpr_tri112, cpr_tri113,\n",
    "            cpr_tri114, cpr_tri123, cpr_tri125,\n",
    "            cpr_tri133, cpr_tri134, cpr_tri135,\n",
    "            cpr_tri145, cpr_tri155, cpr_tri224, \n",
    "            cpr_tri233, cpr_tri255, cpr_tri334,\n",
    "            cpr_tri335, cpr_tri345, cpr_tri444, cpr_tri455, \n",
    "            cpr_qua1nn, cpr_qua1nn2nn, cpr_qua111122,\n",
    "        ], 0)\n",
    "\n",
    "    def config_extra(self, num_cell, ind_cr, ind_mn, ind_co, ind_ni, embed_list):\n",
    "        ele_list = np.zeros(num_cell)\n",
    "        overlap_cr = find_overlap(self.ind_raw, ind_cr)\n",
    "        overlap_mn = find_overlap(self.ind_raw, ind_mn)\n",
    "        overlap_co = find_overlap(self.ind_raw, ind_co)\n",
    "        overlap_ni = find_overlap(self.ind_raw, ind_ni)\n",
    "\n",
    "        ele_list[np.where(overlap_cr)[0]] = 2\n",
    "        ele_list[np.where(overlap_mn)[0]] = 1\n",
    "        ele_list[np.where(overlap_co)[0]] = -1\n",
    "        ele_list[np.where(overlap_ni)[0]] = -2\n",
    "\n",
    "        #* Embedding form in PBC\n",
    "        ele_list = np.tile(ele_list, 27)\n",
    "        cpr_list = self.cluster_extra(ele_list, embed_list)\n",
    "\n",
    "        return cpr_list\n",
    "\n",
    "    def read(self, incar_dir):\n",
    "        with open(incar_dir) as f:\n",
    "            input_strip = [s.strip() for s in f.readlines()]\n",
    "        return input_strip"
   ]
  },
  {
   "cell_type": "code",
   "execution_count": 91,
   "metadata": {},
   "outputs": [
    {
     "data": {
      "text/plain": [
       "array([], dtype=float64)"
      ]
     },
     "execution_count": 91,
     "metadata": {},
     "output_type": "execute_result"
    }
   ],
   "source": [
    "embed = np.array([0,1,1,2])\n",
    "coord = np.array([ \n",
    "    [0,0],\n",
    "    [1,0],\n",
    "    [1,1],\n",
    "    [0,1]\n",
    "])\n",
    "#* 0-1, 0-2, 0-3, 1-2, 1-3, 2-3\n",
    "len_list = np.array([1,math.sqrt(2),1,1,math.sqrt(2),1])\n",
    "embed_list = []\n",
    "\n",
    "for i in range(100):\n",
    "    embed_new = embed.copy()\n",
    "    np.random.shuffle(embed_new)\n",
    "\n",
    "    c0 = coord[np.where(embed_new==0)[0]]\n",
    "    c1 = coord[np.where(embed_new==1)[0]]\n",
    "    c2 = coord[np.where(embed_new==1)[0]]\n",
    "    c3 = coord[np.where(embed_new==2)[0]]\n",
    "    len_list_new = np.array([ \n",
    "        abs_dis(c0, c1, 0),\n",
    "        abs_dis(c0, c2, 0),\n",
    "        abs_dis(c0, c3, 0),\n",
    "        abs_dis(c1, c2, 0),\n",
    "        abs_dis(c1, c3, 0),\n",
    "        abs_dis(c2, c3, 0),\n",
    "    ])\n",
    "    if np.linalg.norm(len_list-len_list_new) <= 0.001:\n",
    "        embed_list.append(embed_new.tolist())\n",
    "\n",
    "np.unique(np.array(embed_list), axis=0)"
   ]
  },
  {
   "cell_type": "code",
   "execution_count": 40,
   "metadata": {},
   "outputs": [
    {
     "name": "stdout",
     "output_type": "stream",
     "text": [
      "31.09934625\n"
     ]
    },
    {
     "data": {
      "text/plain": [
       "(array([ 2.,  2.,  0.,  0.,  2.,  4.,  4.,  5.,  6.,  9.,  4.,  6.,  7.,\n",
       "        10.,  6.,  5., 10., 10., 13., 14., 13., 11.,  7., 19., 18., 18.,\n",
       "        22., 12.,  8., 19., 11., 13., 12.,  6.,  9.,  9.,  5., 10.,  5.,\n",
       "         6.,  5.,  3.,  3.,  3.,  4.,  3.,  1.,  5.,  3.,  3.,  3.,  0.,\n",
       "         2.,  0.,  0.,  0.,  1.,  0.,  1.,  0.,  0.,  0.,  0.,  0.,  0.,\n",
       "         1.,  0.,  1.,  0.,  0.,  0.,  0.,  0.,  2.,  1.,  0.,  0.,  0.,\n",
       "         0.,  1.,  0.,  0.,  0.,  0.,  0.,  0.,  0.,  0.,  0.,  0.,  0.,\n",
       "         0.,  0.,  1.,  0.,  0.,  0.,  0.,  0.,  1.]),\n",
       " array([ 3.50048568,  3.57467322,  3.64886076,  3.72304831,  3.79723585,\n",
       "         3.87142339,  3.94561093,  4.01979848,  4.09398602,  4.16817356,\n",
       "         4.2423611 ,  4.31654864,  4.39073619,  4.46492373,  4.53911127,\n",
       "         4.61329881,  4.68748636,  4.7616739 ,  4.83586144,  4.91004898,\n",
       "         4.98423652,  5.05842407,  5.13261161,  5.20679915,  5.28098669,\n",
       "         5.35517424,  5.42936178,  5.50354932,  5.57773686,  5.6519244 ,\n",
       "         5.72611195,  5.80029949,  5.87448703,  5.94867457,  6.02286212,\n",
       "         6.09704966,  6.1712372 ,  6.24542474,  6.31961228,  6.39379983,\n",
       "         6.46798737,  6.54217491,  6.61636245,  6.69055   ,  6.76473754,\n",
       "         6.83892508,  6.91311262,  6.98730016,  7.06148771,  7.13567525,\n",
       "         7.20986279,  7.28405033,  7.35823787,  7.43242542,  7.50661296,\n",
       "         7.5808005 ,  7.65498804,  7.72917559,  7.80336313,  7.87755067,\n",
       "         7.95173821,  8.02592575,  8.1001133 ,  8.17430084,  8.24848838,\n",
       "         8.32267592,  8.39686347,  8.47105101,  8.54523855,  8.61942609,\n",
       "         8.69361363,  8.76780118,  8.84198872,  8.91617626,  8.9903638 ,\n",
       "         9.06455135,  9.13873889,  9.21292643,  9.28711397,  9.36130151,\n",
       "         9.43548906,  9.5096766 ,  9.58386414,  9.65805168,  9.73223923,\n",
       "         9.80642677,  9.88061431,  9.95480185, 10.02898939, 10.10317694,\n",
       "        10.17736448, 10.25155202, 10.32573956, 10.3999271 , 10.47411465,\n",
       "        10.54830219, 10.62248973, 10.69667727, 10.77086482, 10.84505236,\n",
       "        10.9192399 ]),\n",
       " <BarContainer object of 100 artists>)"
      ]
     },
     "execution_count": 40,
     "metadata": {},
     "output_type": "execute_result"
    },
    {
     "data": {
      "image/png": "[encoded data removed]",
      "text/plain": [
       "<Figure size 432x288 with 1 Axes>"
      ]
     },
     "metadata": {
      "needs_background": "light"
     },
     "output_type": "display_data"
    }
   ],
   "source": [
    "msad_list = []\n",
    "for i in range(1, 401):\n",
    "    cont_dir=f'/media/wz/7AD631A4D6316195/Projects/MSAD/outputs_32_crmnconi/Struc/CONTCAR{i}'\n",
    "    pos_dir=f'/media/wz/7AD631A4D6316195/Projects/MSAD/outputs_32_crmnconi/Struc/POSCAR{i}'\n",
    "\n",
    "    msad_list.append(msad_ana_qua(cont_dir, pos_dir, 3.512, 2)['MSAD'])\n",
    "\n",
    "print(np.mean(msad_list))\n",
    "msad_list = np.sqrt(np.array(msad_list))\n",
    "plt.hist(msad_list, bins=100)"
   ]
  },
  {
   "cell_type": "markdown",
   "metadata": {},
   "source": [
    "#### Generating the datasets"
   ]
  },
  {
   "cell_type": "code",
   "execution_count": 56,
   "metadata": {},
   "outputs": [],
   "source": [
    "#* Deducing step\n",
    "ind_1nn = np.load('/media/wz/7AD631A4D6316195/Projects/mc_pure_qua/fcc_32/ind_1nn.npy')\n",
    "ind_2nn = np.load('/media/wz/7AD631A4D6316195/Projects/mc_pure_qua/fcc_32/ind_2nn.npy')\n",
    "ind_3nn = np.load('/media/wz/7AD631A4D6316195/Projects/mc_pure_qua/fcc_32/ind_3nn.npy')\n",
    "ind_4nn = np.load('/media/wz/7AD631A4D6316195/Projects/mc_pure_qua/fcc_32/ind_4nn.npy')\n",
    "ind_qua1nn = np.load('/media/wz/7AD631A4D6316195/Projects/mc_pure_qua/fcc_32/ind_qua1nn.npy')\n",
    "ind_qua1nn2nn = np.load('/media/wz/7AD631A4D6316195/Projects/mc_pure_qua/fcc_32/ind_qua1nn2nn.npy')\n",
    "ind_trip1nn = np.load('/media/wz/7AD631A4D6316195/Projects/mc_pure_qua/fcc_32/ind_trip1nn.npy')\n",
    "ind_trip1nn2nn = np.load('/media/wz/7AD631A4D6316195/Projects/mc_pure_qua/fcc_32/ind_trip1nn2nn.npy')\n",
    "ind_trip1nn2nn3nn = np.load('/media/wz/7AD631A4D6316195/Projects/mc_pure_qua/fcc_32/ind_trip1nn2nn3nn.npy')\n",
    "\n",
    "ind_1nn_pbc = np.load('/media/wz/7AD631A4D6316195/Projects/mc_pure_qua/fcc_32/ind_1nn_pbc.npy')\n",
    "ind_2nn_pbc = np.load('/media/wz/7AD631A4D6316195/Projects/mc_pure_qua/fcc_32/ind_2nn_pbc.npy')\n",
    "ind_3nn_pbc = np.load('/media/wz/7AD631A4D6316195/Projects/mc_pure_qua/fcc_32/ind_3nn_pbc.npy')\n",
    "ind_4nn_pbc = np.load('/media/wz/7AD631A4D6316195/Projects/mc_pure_qua/fcc_32/ind_4nn_pbc.npy')\n",
    "ind_qua1nn_pbc = np.load('/media/wz/7AD631A4D6316195/Projects/mc_pure_qua/fcc_32/ind_qua1nn_pbc.npy')\n",
    "ind_qua1nn2nn_pbc = np.load('/media/wz/7AD631A4D6316195/Projects/mc_pure_qua/fcc_32/ind_qua1nn2nn_pbc.npy')\n",
    "ind_trip1nn_pbc = np.load('/media/wz/7AD631A4D6316195/Projects/mc_pure_qua/fcc_32/ind_trip1nn_pbc.npy')\n",
    "ind_trip1nn2nn_pbc = np.load('/media/wz/7AD631A4D6316195/Projects/mc_pure_qua/fcc_32/ind_trip1nn2nn_pbc.npy')\n",
    "ind_trip1nn2nn3nn_pbc = np.load('/media/wz/7AD631A4D6316195/Projects/mc_pure_qua/fcc_32/ind_trip1nn2nn3nn_pbc.npy')\n",
    "\n",
    "ind_raw = np.load('/media/wz/7AD631A4D6316195/Projects/mc_pure_qua/fcc_32/ind_raw32.npy')\n",
    "\n",
    "weight_list, energy = [], []\n",
    "ce_ = CE(ind_1nn, ind_2nn, ind_3nn, ind_4nn, \n",
    "        ind_qua1nn, ind_qua1nn2nn, \n",
    "        ind_trip1nn, ind_trip1nn2nn, ind_trip1nn2nn3nn,\n",
    "        ind_1nn_pbc, ind_2nn_pbc, ind_3nn_pbc, ind_4nn_pbc, \n",
    "        ind_qua1nn_pbc, ind_qua1nn2nn_pbc, \n",
    "        ind_trip1nn_pbc, ind_trip1nn2nn_pbc, ind_trip1nn2nn3nn_pbc,\n",
    "        ind_raw)\n",
    "atom_num = 32\n",
    "msad_list = []\n",
    "\n",
    "for i in range(1, 401):\n",
    "    ind_cr = np.load(f'/media/wz/7AD631A4D6316195/Projects/mc_pure_qua/252525/Cr25Mn25Co25Ni2532_try{i}/Cr25Mn25Co25Ni25_cr_chosen.npy')\n",
    "    ind_mn = np.load(f'/media/wz/7AD631A4D6316195/Projects/mc_pure_qua/252525/Cr25Mn25Co25Ni2532_try{i}/Cr25Mn25Co25Ni25_mn_chosen.npy')\n",
    "    ind_co = np.load(f'/media/wz/7AD631A4D6316195/Projects/mc_pure_qua/252525/Cr25Mn25Co25Ni2532_try{i}/Cr25Mn25Co25Ni25_co_chosen.npy')\n",
    "    ind_ni = np.load(f'/media/wz/7AD631A4D6316195/Projects/mc_pure_qua/252525/Cr25Mn25Co25Ni2532_try{i}/Cr25Mn25Co25Ni25_ni_chosen.npy')\n",
    "    \n",
    "    #* MSAD from DFT\n",
    "    cont_dir=f'/media/wz/7AD631A4D6316195/Projects/MSAD/outputs_32_crmnconi/Struc/CONTCAR{i}'\n",
    "    pos_dir=f'/media/wz/7AD631A4D6316195/Projects/MSAD/outputs_32_crmnconi/Struc/POSCAR{i}'\n",
    "\n",
    "    #* Free energy\n",
    "    # osz_dir = f'/media/wz/7AD631A4D6316195/Projects/MSAD/outputs_32_crmnconi/Cr25Mn25Co25Ni25_3.512_try{i}/OSZICAR'\n",
    "    # oszicar = ce_.read(osz_dir)[-1]\n",
    "    # e_ground = float(''.join(oszicar).split()[-6]) \n",
    "\n",
    "    #* Extract cluster info.\n",
    "    ce_feature = ce_.config_extra(atom_num, ind_cr, ind_mn, ind_co, ind_ni)\n",
    "\n",
    "    if np.var([ \n",
    "        len(ind_cr), len(ind_mn), len(ind_co), len(ind_ni)\n",
    "    ]) <= 4:\n",
    "        weight_list.append(ce_feature)\n",
    "        msad_list.append(np.sqrt(msad_ana_qua(cont_dir, pos_dir, 3.512, 2)['MSAD']))\n",
    "    # energy.append(e_ground)\n",
    "\n",
    "msad_list = np.array(msad_list)\n",
    "weight_list = np.array(weight_list) #* Per atom\n",
    "\n",
    "#* Normalization\n",
    "# energy_min, energy_max = np.min(energy), np.max(energy)\n",
    "# energy_std = np.std(energy)\n",
    "# energy_mean = np.mean(energy)\n",
    "# energy = (energy - energy_mean) / energy_std\n",
    "\n",
    "# weight_std = np.std(weight_list, axis=0)\n",
    "# weight_mean = np.mean(weight_list, axis=0)\n",
    "# weight_list = (weight_list - weight_mean) / weight_std\n",
    "\n",
    "# device = torch.device(\"cuda:0\" if torch.cuda.is_available() else \"cpu\")\n",
    "# device = torch.device(\"cpu\")\n",
    "# weight_list = torch.from_numpy(weight_list.astype(np.float32)).clone()\n",
    "# energy = torch.from_numpy(energy.astype(np.float32)).clone()\n",
    "# weight_list = weight_list.to(device)\n",
    "# energy = energy.reshape(-1,1).to(device)"
   ]
  },
  {
   "cell_type": "code",
   "execution_count": 47,
   "metadata": {},
   "outputs": [
    {
     "name": "stdout",
     "output_type": "stream",
     "text": [
      "{'gamma': {'a': 14.448446458451102, 'loc': -1.6482700257424026, 'scale': 0.24109477205301572}} 100000\n"
     ]
    },
    {
     "data": {
      "text/html": [
       "<div>\n",
       "<style scoped>\n",
       "    .dataframe tbody tr th:only-of-type {\n",
       "        vertical-align: middle;\n",
       "    }\n",
       "\n",
       "    .dataframe tbody tr th {\n",
       "        vertical-align: top;\n",
       "    }\n",
       "\n",
       "    .dataframe thead th {\n",
       "        text-align: right;\n",
       "    }\n",
       "</style>\n",
       "<table border=\"1\" class=\"dataframe\">\n",
       "  <thead>\n",
       "    <tr style=\"text-align: right;\">\n",
       "      <th></th>\n",
       "      <th>sumsquare_error</th>\n",
       "      <th>aic</th>\n",
       "      <th>bic</th>\n",
       "      <th>kl_div</th>\n",
       "    </tr>\n",
       "  </thead>\n",
       "  <tbody>\n",
       "    <tr>\n",
       "      <th>gamma</th>\n",
       "      <td>122.353152</td>\n",
       "      <td>334.837112</td>\n",
       "      <td>-670566.852433</td>\n",
       "      <td>inf</td>\n",
       "    </tr>\n",
       "  </tbody>\n",
       "</table>\n",
       "</div>"
      ],
      "text/plain": [
       "       sumsquare_error         aic            bic  kl_div\n",
       "gamma       122.353152  334.837112 -670566.852433     inf"
      ]
     },
     "execution_count": 47,
     "metadata": {},
     "output_type": "execute_result"
    },
    {
     "data": {
      "image/png": "[encoded data removed]",
      "text/plain": [
       "<Figure size 432x288 with 1 Axes>"
      ]
     },
     "metadata": {
      "needs_background": "light"
     },
     "output_type": "display_data"
    }
   ],
   "source": [
    "from fitter import Fitter\n",
    "num_list, count = [], 0\n",
    "\n",
    "for i in range(100000):\n",
    "    while 1:\n",
    "        n1 = np.random.randint(6,11)\n",
    "        n2 = np.random.randint(6,11)\n",
    "        n3 = np.random.randint(6,11)\n",
    "        n4 = 32 - n1-n2-n3\n",
    "        if 6 <= n4 <= 10:\n",
    "            break\n",
    "    num_list.append(np.var([n1, n2, n3, n4]))\n",
    "\n",
    "valy_pair = np.array([round(i, 3) for i in num_list])\n",
    "f_pair = Fitter(valy_pair, distributions = ['gamma'], timeout = 1500)\n",
    "f_pair.fit()\n",
    "\n",
    "print(f_pair.get_best(), count)\n",
    "f_pair.summary()"
   ]
  },
  {
   "cell_type": "markdown",
   "metadata": {},
   "source": [
    "#### The fitting part for MSAD\n",
    "\n",
    "Find the optimal set of clusters"
   ]
  },
  {
   "cell_type": "code",
   "execution_count": null,
   "metadata": {},
   "outputs": [],
   "source": [
    "# ce_ = CE(ind_1nn, ind_2nn, ind_3nn, ind_4nn, \n",
    "#         ind_qua1nn, ind_qua1nn2nn, \n",
    "#         ind_trip1nn, ind_trip1nn2nn, ind_trip1nn2nn3nn,\n",
    "#         ind_1nn_pbc, ind_2nn_pbc, ind_3nn_pbc, ind_4nn_pbc, \n",
    "#         ind_qua1nn_pbc, ind_qua1nn2nn_pbc, \n",
    "#         ind_trip1nn_pbc, ind_trip1nn2nn_pbc, ind_trip1nn2nn3nn_pbc,\n",
    "#         ind_raw)\n",
    "        \n",
    "def extract_weight(ind_rangeL, ind_rangeU, embed, atom_num):\n",
    "    weight_list, msad_list = [], []\n",
    "    for i in range(ind_rangeL, ind_rangeU):\n",
    "        ind_cr = np.load(f'/media/wz/7AD631A4D6316195/Projects/mc_pure_qua/252525/Cr25Mn25Co25Ni2532_try{i}/Cr25Mn25Co25Ni25_cr_chosen.npy')\n",
    "        ind_mn = np.load(f'/media/wz/7AD631A4D6316195/Projects/mc_pure_qua/252525/Cr25Mn25Co25Ni2532_try{i}/Cr25Mn25Co25Ni25_mn_chosen.npy')\n",
    "        ind_co = np.load(f'/media/wz/7AD631A4D6316195/Projects/mc_pure_qua/252525/Cr25Mn25Co25Ni2532_try{i}/Cr25Mn25Co25Ni25_co_chosen.npy')\n",
    "        ind_ni = np.load(f'/media/wz/7AD631A4D6316195/Projects/mc_pure_qua/252525/Cr25Mn25Co25Ni2532_try{i}/Cr25Mn25Co25Ni25_ni_chosen.npy')\n",
    "        \n",
    "        #* MSAD from DFT\n",
    "        cont_dir=f'/media/wz/7AD631A4D6316195/Projects/MSAD/outputs_32_crmnconi/Struc/CONTCAR{i}'\n",
    "        pos_dir=f'/media/wz/7AD631A4D6316195/Projects/MSAD/outputs_32_crmnconi/Struc/POSCAR{i}'\n",
    "\n",
    "        #* Free energy\n",
    "        # osz_dir = f'/media/wz/7AD631A4D6316195/Projects/MSAD/outputs_32_crmnconi/Cr25Mn25Co25Ni25_3.512_try{i}/OSZICAR'\n",
    "        # oszicar = ce_.read(osz_dir)[-1]\n",
    "        # e_ground = float(''.join(oszicar).split()[-6]) \n",
    "        \n",
    "        #* Exclude the configurations whose variance between composition\n",
    "        #* is greater than 4.\n",
    "        if np.var([ \n",
    "            len(ind_cr), len(ind_mn), len(ind_co), len(ind_ni)\n",
    "            ]) <= 4:\n",
    "            #* Extract cluster info.\n",
    "            ce_feature = ce_.config_extra(atom_num, ind_cr, ind_mn, ind_co, ind_ni, embed)\n",
    "\n",
    "            weight_list.append(ce_feature)\n",
    "            msad_list.append(np.sqrt(msad_ana_qua(cont_dir, pos_dir, 3.512, 2)['MSAD']))\n",
    "        # energy.append(e_ground)\n",
    "\n",
    "    msad_list = np.array(msad_list)\n",
    "    weight_list = np.array(weight_list) #* Per atom\n",
    "    return msad_list, weight_list"
   ]
  },
  {
   "cell_type": "code",
   "execution_count": 111,
   "metadata": {},
   "outputs": [
    {
     "data": {
      "text/plain": [
       "Text(0.5, 1.0, 'Final temp.: 0.40255515348301424 K')"
      ]
     },
     "execution_count": 111,
     "metadata": {},
     "output_type": "execute_result"
    },
    {
     "data": {
      "image/png": "[encoded data removed]",
      "text/plain": [
       "<Figure size 432x288 with 1 Axes>"
      ]
     },
     "metadata": {
      "needs_background": "light"
     },
     "output_type": "display_data"
    }
   ],
   "source": [
    "#* Test the setting of temperature decay.\n",
    "def temp(temp_0, t, tau):\n",
    "    return temp_0*np.exp(-t/tau)\n",
    "\n",
    "t = np.linspace(0, 400000, 400000)\n",
    "temp_ = temp(1200, t, 50000)\n",
    "\n",
    "plt.plot(t, temp_)\n",
    "plt.title(f'Final temp.: {temp_[-1]} K')"
   ]
  },
  {
   "cell_type": "markdown",
   "metadata": {},
   "source": [
    "##### SA implementation for deducing best ECI combination.\n",
    "\n",
    "1. Operations: <code>Delete</code>, <code>Add</code>\n",
    "   \n",
    "   Operation on embedding list: 1 <-> 0\n",
    "\n",
    "2. Choose the best 10 embedding lists;"
   ]
  },
  {
   "cell_type": "markdown",
   "metadata": {},
   "source": [
    "Load cluster indices."
   ]
  },
  {
   "cell_type": "code",
   "execution_count": 9,
   "metadata": {},
   "outputs": [],
   "source": [
    "def extract_weight(ind_rangeL, ind_rangeU, embed, atom_num):\n",
    "    weight_list, msad_list = [], []\n",
    "    for i in range(ind_rangeL, ind_rangeU):\n",
    "        ind_cr = np.load(f'/media/wz/7AD631A4D6316195/Projects/mc_pure_qua/252525/Cr25Mn25Co25Ni2532_try{i}/Cr25Mn25Co25Ni25_cr_chosen.npy')\n",
    "        ind_mn = np.load(f'/media/wz/7AD631A4D6316195/Projects/mc_pure_qua/252525/Cr25Mn25Co25Ni2532_try{i}/Cr25Mn25Co25Ni25_mn_chosen.npy')\n",
    "        ind_co = np.load(f'/media/wz/7AD631A4D6316195/Projects/mc_pure_qua/252525/Cr25Mn25Co25Ni2532_try{i}/Cr25Mn25Co25Ni25_co_chosen.npy')\n",
    "        ind_ni = np.load(f'/media/wz/7AD631A4D6316195/Projects/mc_pure_qua/252525/Cr25Mn25Co25Ni2532_try{i}/Cr25Mn25Co25Ni25_ni_chosen.npy')\n",
    "        \n",
    "        #* MSAD from DFT\n",
    "        cont_dir=f'/media/wz/7AD631A4D6316195/Projects/MSAD/outputs_32_crmnconi/Struc/CONTCAR{i}'\n",
    "        pos_dir=f'/media/wz/7AD631A4D6316195/Projects/MSAD/outputs_32_crmnconi/Struc/POSCAR{i}'\n",
    "\n",
    "        #* Free energy\n",
    "        # osz_dir = f'/media/wz/7AD631A4D6316195/Projects/MSAD/outputs_32_crmnconi/Cr25Mn25Co25Ni25_3.512_try{i}/OSZICAR'\n",
    "        # oszicar = ce_.read(osz_dir)[-1]\n",
    "        # e_ground = float(''.join(oszicar).split()[-6]) \n",
    "        \n",
    "        #* Exclude the configurations whose variance between composition\n",
    "        #* is greater than 4.\n",
    "        if np.var([ \n",
    "            len(ind_cr), len(ind_mn), len(ind_co), len(ind_ni)\n",
    "            ]) <= 4:\n",
    "            #* Extract cluster info.\n",
    "            ce_feature = ce_.config_extra(atom_num, ind_cr, ind_mn, ind_co, ind_ni, embed)\n",
    "\n",
    "            weight_list.append(ce_feature)\n",
    "            msad_list.append(np.sqrt(msad_ana_qua(cont_dir, pos_dir, 3.512, 2)['MSAD']))\n",
    "        # energy.append(e_ground)\n",
    "\n",
    "    msad_list = np.array(msad_list)\n",
    "    weight_list = np.array(weight_list) #* Per atom\n",
    "    return msad_list, weight_list\n",
    "\n",
    "#* Deducing step\n",
    "ind_1nn = np.load('/media/wz/7AD631A4D6316195/Projects/mc_pure_qua/fcc_32/ind_1nn.npy')\n",
    "ind_2nn = np.load('/media/wz/7AD631A4D6316195/Projects/mc_pure_qua/fcc_32/ind_2nn.npy')\n",
    "ind_3nn = np.load('/media/wz/7AD631A4D6316195/Projects/mc_pure_qua/fcc_32/ind_3nn.npy')\n",
    "ind_4nn = np.load('/media/wz/7AD631A4D6316195/Projects/mc_pure_qua/fcc_32/ind_4nn.npy')\n",
    "ind_5nn = np.load('/media/wz/7AD631A4D6316195/Projects/mc_pure_qua/fcc_32/ind_5nn.npy')\n",
    "ind_6nn = np.load('/media/wz/7AD631A4D6316195/Projects/mc_pure_qua/fcc_32/ind_6nn.npy')\n",
    "ind_qua1nn = np.load('/media/wz/7AD631A4D6316195/Projects/mc_pure_qua/fcc_32/ind_qua1nn.npy')\n",
    "ind_qua1nn2nn = np.load('/media/wz/7AD631A4D6316195/Projects/mc_pure_qua/fcc_32/ind_qua1nn2nn.npy')\n",
    "ind_qua111122 = np.load('/media/wz/7AD631A4D6316195/Projects/mc_pure_qua/fcc_32/ind_qua111122_raw.npy')\n",
    "\n",
    "ind_1nn_pbc = np.load('/media/wz/7AD631A4D6316195/Projects/mc_pure_qua/fcc_32/ind_1nn_pbc.npy')\n",
    "ind_2nn_pbc = np.load('/media/wz/7AD631A4D6316195/Projects/mc_pure_qua/fcc_32/ind_2nn_pbc.npy')\n",
    "ind_3nn_pbc = np.load('/media/wz/7AD631A4D6316195/Projects/mc_pure_qua/fcc_32/ind_3nn_pbc.npy')\n",
    "ind_4nn_pbc = np.load('/media/wz/7AD631A4D6316195/Projects/mc_pure_qua/fcc_32/ind_4nn_pbc.npy')\n",
    "ind_5nn_pbc = np.load('/media/wz/7AD631A4D6316195/Projects/mc_pure_qua/fcc_32/ind_5nn_pbc.npy')\n",
    "ind_6nn_pbc = np.load('/media/wz/7AD631A4D6316195/Projects/mc_pure_qua/fcc_32/ind_6nn_pbc.npy')\n",
    "ind_qua1nn_pbc = np.load('/media/wz/7AD631A4D6316195/Projects/mc_pure_qua/fcc_32/ind_qua1nn_pbc.npy')\n",
    "ind_qua1nn2nn_pbc = np.load('/media/wz/7AD631A4D6316195/Projects/mc_pure_qua/fcc_32/ind_qua1nn2nn_pbc.npy')\n",
    "ind_qua111122_pbc = np.load('/media/wz/7AD631A4D6316195/Projects/mc_pure_qua/fcc_32/ind_qua111122_pbc.npy')\n",
    "\n",
    "''' \n",
    "Thanks chatGPT for doing such *** things.\n",
    "'''\n",
    "pth_trip = '/media/wz/7AD631A4D6316195/Projects/mc_pure_qua/fcc_32/triplet_ind/'\n",
    "\n",
    "ind_trip111 = np.load(f'{pth_trip}ind_trip111_raw.npy')\n",
    "ind_trip111_pbc = np.load(f'{pth_trip}ind_trip111_pbc.npy')\n",
    "ind_trip112 = np.load(f'{pth_trip}ind_trip112_raw.npy')\n",
    "ind_trip112_pbc = np.load(f'{pth_trip}ind_trip112_pbc.npy')\n",
    "ind_trip113 = np.load(f'{pth_trip}ind_trip113_raw.npy')\n",
    "ind_trip113_pbc = np.load(f'{pth_trip}ind_trip113_pbc.npy')\n",
    "ind_trip114 = np.load(f'{pth_trip}ind_trip114_raw.npy')\n",
    "ind_trip114_pbc = np.load(f'{pth_trip}ind_trip114_pbc.npy')\n",
    "ind_trip123 = np.load(f'{pth_trip}ind_trip123_raw.npy')\n",
    "ind_trip123_pbc = np.load(f'{pth_trip}ind_trip123_pbc.npy')\n",
    "ind_trip125 = np.load(f'{pth_trip}ind_trip125_raw.npy')\n",
    "ind_trip133 = np.load(f'{pth_trip}ind_trip133_raw.npy')\n",
    "ind_trip134 = np.load(f'{pth_trip}ind_trip134_raw.npy')\n",
    "ind_trip125_pbc = np.load(f'{pth_trip}ind_trip125_pbc.npy')\n",
    "ind_trip133_pbc = np.load(f'{pth_trip}ind_trip133_pbc.npy')\n",
    "ind_trip134_pbc = np.load(f'{pth_trip}ind_trip134_pbc.npy')\n",
    "ind_trip135 = np.load(f'{pth_trip}ind_trip135_raw.npy')\n",
    "ind_trip145 = np.load(f'{pth_trip}ind_trip145_raw.npy')\n",
    "ind_trip155 = np.load(f'{pth_trip}ind_trip155_raw.npy')\n",
    "ind_trip135_pbc = np.load(f'{pth_trip}ind_trip135_pbc.npy')\n",
    "ind_trip145_pbc = np.load(f'{pth_trip}ind_trip145_pbc.npy')\n",
    "ind_trip155_pbc = np.load(f'{pth_trip}ind_trip155_pbc.npy')\n",
    "ind_trip224 = np.load(f'{pth_trip}ind_trip224_raw.npy')\n",
    "ind_trip233 = np.load(f'{pth_trip}ind_trip233_raw.npy')\n",
    "ind_trip255 = np.load(f'{pth_trip}ind_trip255_raw.npy')\n",
    "ind_trip224_pbc = np.load(f'{pth_trip}ind_trip224_pbc.npy')\n",
    "ind_trip233_pbc = np.load(f'{pth_trip}ind_trip233_pbc.npy')\n",
    "ind_trip255_pbc = np.load(f'{pth_trip}ind_trip255_pbc.npy')\n",
    "ind_trip334 = np.load(f'{pth_trip}ind_trip334_raw.npy')\n",
    "ind_trip335 = np.load(f'{pth_trip}ind_trip335_raw.npy')\n",
    "ind_trip345 = np.load(f'{pth_trip}ind_trip345_raw.npy')\n",
    "ind_trip334_pbc = np.load(f'{pth_trip}ind_trip334_pbc.npy')\n",
    "ind_trip335_pbc = np.load(f'{pth_trip}ind_trip335_pbc.npy')\n",
    "ind_trip345_pbc = np.load(f'{pth_trip}ind_trip345_pbc.npy')\n",
    "ind_trip444 = np.load(f'{pth_trip}ind_trip444_raw.npy')\n",
    "ind_trip455 = np.load(f'{pth_trip}ind_trip455_raw.npy')\n",
    "ind_trip444_pbc = np.load(f'{pth_trip}ind_trip444_pbc.npy')\n",
    "ind_trip455_pbc = np.load(f'{pth_trip}ind_trip455_pbc.npy')\n",
    "\n",
    "ind_raw = np.load('/media/wz/7AD631A4D6316195/Projects/mc_pure_qua/fcc_32/ind_raw32.npy')\n",
    "\n",
    "ce_ = CE(ind_1nn, ind_2nn, ind_3nn, ind_4nn, ind_5nn, ind_6nn,\n",
    "        ind_qua1nn, ind_qua1nn2nn, ind_qua111122,\n",
    "\n",
    "        ind_trip111, ind_trip112, ind_trip113, ind_trip114,\n",
    "        ind_trip123, ind_trip125, ind_trip133, ind_trip134, \n",
    "        ind_trip135, ind_trip145, ind_trip155, ind_trip224,\n",
    "        ind_trip233, ind_trip255, ind_trip334, ind_trip335, \n",
    "        ind_trip345, ind_trip444, ind_trip455, \n",
    "\n",
    "        ind_1nn_pbc, ind_2nn_pbc, ind_3nn_pbc, ind_4nn_pbc, \n",
    "        ind_5nn_pbc, ind_6nn_pbc,\n",
    "        ind_qua1nn_pbc, ind_qua1nn2nn_pbc, ind_qua111122_pbc,\n",
    "\n",
    "        ind_trip111_pbc, ind_trip112_pbc, ind_trip113_pbc, ind_trip114_pbc,\n",
    "        ind_trip123_pbc, ind_trip125_pbc, ind_trip133_pbc, ind_trip134_pbc, \n",
    "        ind_trip135_pbc, ind_trip145_pbc, ind_trip155_pbc, ind_trip224_pbc,\n",
    "        ind_trip233_pbc, ind_trip255_pbc, ind_trip334_pbc, ind_trip335_pbc, \n",
    "        ind_trip345_pbc, ind_trip444_pbc, ind_trip455_pbc, \n",
    "\n",
    "        ind_raw,)\n",
    "\n",
    "embed_val = np.ones(28).astype(bool)\n",
    "\n",
    "embed_type = [\n",
    "    'pair1', 'pair2', 'pair3', 'pair4', \n",
    "    'tri111', 'tri112', 'tri113', 'tri114',\n",
    "    'tri123', 'tri125', 'tri133', 'tri134',\n",
    "    'tri135', 'tri145', 'tri155', 'tri224',\n",
    "    'tri233', 'tri255', 'tri334', 'tri335',\n",
    "    'tri345', 'tri444', 'tri455',\n",
    "    'qua111111', 'qua111112', 'qua111122',\n",
    "    'pair5', 'pair6',]\n",
    "\n",
    "#* Lookup table of the indices in weight for each cluster.\n",
    "embed_book = np.array([\n",
    "    [i for i in range(0,9)],\n",
    "    [i for i in range(9,18)],\n",
    "    [i for i in range(18,27)],\n",
    "    [i for i in range(27,36)],\n",
    "    [i for i in range(36,63)],\n",
    "    [i for i in range(63,90)],\n",
    "    [i for i in range(90,117)],\n",
    "    [i for i in range(117,144)],\n",
    "    [i for i in range(144,171)],\n",
    "    [i for i in range(171,198)],\n",
    "    [i for i in range(198,225)],\n",
    "    [i for i in range(225,252)],\n",
    "    [i for i in range(252,279)],\n",
    "    [i for i in range(279,306)],\n",
    "    [i for i in range(306,333)],\n",
    "    [i for i in range(333,360)],\n",
    "    [i for i in range(360,387)],\n",
    "    [i for i in range(387,414)],\n",
    "    [i for i in range(414,441)],\n",
    "    [i for i in range(441,468)],\n",
    "    [i for i in range(468,495)],\n",
    "    [i for i in range(495,522)],\n",
    "    [i for i in range(522,549)],\n",
    "    [i for i in range(549,630)],\n",
    "    [i for i in range(630,711)],\n",
    "    [i for i in range(711, 792)],\n",
    "    [i for i in range(792, 801)],\n",
    "    [i for i in range(801, 810)],\n",
    "], dtype=object)\n",
    "\n",
    "embed_list = dict(zip(embed_type, embed_val))\n",
    "\n",
    "msad_list, weight_list = extract_weight(1, 401, embed_list, atom_num=32)"
   ]
  },
  {
   "cell_type": "markdown",
   "metadata": {},
   "source": [
    "#### Main"
   ]
  },
  {
   "cell_type": "code",
   "execution_count": 114,
   "metadata": {},
   "outputs": [
    {
     "ename": "KeyboardInterrupt",
     "evalue": "",
     "output_type": "error",
     "traceback": [
      "\u001b[0;31m---------------------------------------------------------------------------\u001b[0m",
      "\u001b[0;31mKeyboardInterrupt\u001b[0m                         Traceback (most recent call last)",
      "\u001b[0;32m/tmp/ipykernel_1306074/1135797588.py\u001b[0m in \u001b[0;36m<module>\u001b[0;34m\u001b[0m\n\u001b[1;32m     65\u001b[0m     \u001b[0;31m# msad_list, weight_list = extract_weight(1, 401, embed_list, atom_num=32)\u001b[0m\u001b[0;34m\u001b[0m\u001b[0;34m\u001b[0m\u001b[0m\n\u001b[1;32m     66\u001b[0m \u001b[0;34m\u001b[0m\u001b[0m\n\u001b[0;32m---> 67\u001b[0;31m     \u001b[0mclf\u001b[0m \u001b[0;34m=\u001b[0m \u001b[0mRidgeCV\u001b[0m\u001b[0;34m(\u001b[0m\u001b[0malphas\u001b[0m\u001b[0;34m=\u001b[0m\u001b[0mnp\u001b[0m\u001b[0;34m.\u001b[0m\u001b[0mlogspace\u001b[0m\u001b[0;34m(\u001b[0m\u001b[0;34m-\u001b[0m\u001b[0;36m2\u001b[0m\u001b[0;34m,\u001b[0m \u001b[0;36m1\u001b[0m\u001b[0;34m,\u001b[0m \u001b[0;36m10\u001b[0m\u001b[0;34m)\u001b[0m\u001b[0;34m)\u001b[0m\u001b[0;34m.\u001b[0m\u001b[0mfit\u001b[0m\u001b[0;34m(\u001b[0m\u001b[0mweight_list_n\u001b[0m\u001b[0;34m,\u001b[0m \u001b[0mmsad_list\u001b[0m\u001b[0;34m.\u001b[0m\u001b[0mreshape\u001b[0m\u001b[0;34m(\u001b[0m\u001b[0;34m-\u001b[0m\u001b[0;36m1\u001b[0m\u001b[0;34m,\u001b[0m\u001b[0;36m1\u001b[0m\u001b[0;34m)\u001b[0m\u001b[0;34m)\u001b[0m\u001b[0;34m\u001b[0m\u001b[0;34m\u001b[0m\u001b[0m\n\u001b[0m\u001b[1;32m     68\u001b[0m     \u001b[0mscore\u001b[0m \u001b[0;34m=\u001b[0m \u001b[0mclf\u001b[0m\u001b[0;34m.\u001b[0m\u001b[0mscore\u001b[0m\u001b[0;34m(\u001b[0m\u001b[0mweight_list_n\u001b[0m\u001b[0;34m,\u001b[0m \u001b[0mmsad_list\u001b[0m\u001b[0;34m.\u001b[0m\u001b[0mreshape\u001b[0m\u001b[0;34m(\u001b[0m\u001b[0;34m-\u001b[0m\u001b[0;36m1\u001b[0m\u001b[0;34m,\u001b[0m\u001b[0;36m1\u001b[0m\u001b[0;34m)\u001b[0m\u001b[0;34m)\u001b[0m\u001b[0;34m\u001b[0m\u001b[0;34m\u001b[0m\u001b[0m\n\u001b[1;32m     69\u001b[0m \u001b[0;34m\u001b[0m\u001b[0m\n",
      "\u001b[0;32m~/anaconda3/lib/python3.9/site-packages/sklearn/linear_model/_ridge.py\u001b[0m in \u001b[0;36mfit\u001b[0;34m(self, X, y, sample_weight)\u001b[0m\n\u001b[1;32m   1635\u001b[0m                                   \u001b[0mis_clf\u001b[0m\u001b[0;34m=\u001b[0m\u001b[0mis_classifier\u001b[0m\u001b[0;34m(\u001b[0m\u001b[0mself\u001b[0m\u001b[0;34m)\u001b[0m\u001b[0;34m,\u001b[0m\u001b[0;34m\u001b[0m\u001b[0;34m\u001b[0m\u001b[0m\n\u001b[1;32m   1636\u001b[0m                                   alpha_per_target=self.alpha_per_target)\n\u001b[0;32m-> 1637\u001b[0;31m             \u001b[0mestimator\u001b[0m\u001b[0;34m.\u001b[0m\u001b[0mfit\u001b[0m\u001b[0;34m(\u001b[0m\u001b[0mX\u001b[0m\u001b[0;34m,\u001b[0m \u001b[0my\u001b[0m\u001b[0;34m,\u001b[0m \u001b[0msample_weight\u001b[0m\u001b[0;34m=\u001b[0m\u001b[0msample_weight\u001b[0m\u001b[0;34m)\u001b[0m\u001b[0;34m\u001b[0m\u001b[0;34m\u001b[0m\u001b[0m\n\u001b[0m\u001b[1;32m   1638\u001b[0m             \u001b[0mself\u001b[0m\u001b[0;34m.\u001b[0m\u001b[0malpha_\u001b[0m \u001b[0;34m=\u001b[0m \u001b[0mestimator\u001b[0m\u001b[0;34m.\u001b[0m\u001b[0malpha_\u001b[0m\u001b[0;34m\u001b[0m\u001b[0;34m\u001b[0m\u001b[0m\n\u001b[1;32m   1639\u001b[0m             \u001b[0mself\u001b[0m\u001b[0;34m.\u001b[0m\u001b[0mbest_score_\u001b[0m \u001b[0;34m=\u001b[0m \u001b[0mestimator\u001b[0m\u001b[0;34m.\u001b[0m\u001b[0mbest_score_\u001b[0m\u001b[0;34m\u001b[0m\u001b[0;34m\u001b[0m\u001b[0m\n",
      "\u001b[0;32m~/anaconda3/lib/python3.9/site-packages/sklearn/linear_model/_ridge.py\u001b[0m in \u001b[0;36mfit\u001b[0;34m(self, X, y, sample_weight)\u001b[0m\n\u001b[1;32m   1495\u001b[0m             \u001b[0msqrt_sw\u001b[0m \u001b[0;34m=\u001b[0m \u001b[0mnp\u001b[0m\u001b[0;34m.\u001b[0m\u001b[0mones\u001b[0m\u001b[0;34m(\u001b[0m\u001b[0mn_samples\u001b[0m\u001b[0;34m,\u001b[0m \u001b[0mdtype\u001b[0m\u001b[0;34m=\u001b[0m\u001b[0mX\u001b[0m\u001b[0;34m.\u001b[0m\u001b[0mdtype\u001b[0m\u001b[0;34m)\u001b[0m\u001b[0;34m\u001b[0m\u001b[0;34m\u001b[0m\u001b[0m\n\u001b[1;32m   1496\u001b[0m \u001b[0;34m\u001b[0m\u001b[0m\n\u001b[0;32m-> 1497\u001b[0;31m         \u001b[0mX_mean\u001b[0m\u001b[0;34m,\u001b[0m \u001b[0;34m*\u001b[0m\u001b[0mdecomposition\u001b[0m \u001b[0;34m=\u001b[0m \u001b[0mdecompose\u001b[0m\u001b[0;34m(\u001b[0m\u001b[0mX\u001b[0m\u001b[0;34m,\u001b[0m \u001b[0my\u001b[0m\u001b[0;34m,\u001b[0m \u001b[0msqrt_sw\u001b[0m\u001b[0;34m)\u001b[0m\u001b[0;34m\u001b[0m\u001b[0;34m\u001b[0m\u001b[0m\n\u001b[0m\u001b[1;32m   1498\u001b[0m \u001b[0;34m\u001b[0m\u001b[0m\n\u001b[1;32m   1499\u001b[0m         \u001b[0mscorer\u001b[0m \u001b[0;34m=\u001b[0m \u001b[0mcheck_scoring\u001b[0m\u001b[0;34m(\u001b[0m\u001b[0mself\u001b[0m\u001b[0;34m,\u001b[0m \u001b[0mscoring\u001b[0m\u001b[0;34m=\u001b[0m\u001b[0mself\u001b[0m\u001b[0;34m.\u001b[0m\u001b[0mscoring\u001b[0m\u001b[0;34m,\u001b[0m \u001b[0mallow_none\u001b[0m\u001b[0;34m=\u001b[0m\u001b[0;32mTrue\u001b[0m\u001b[0;34m)\u001b[0m\u001b[0;34m\u001b[0m\u001b[0;34m\u001b[0m\u001b[0m\n",
      "\u001b[0;32m~/anaconda3/lib/python3.9/site-packages/sklearn/linear_model/_ridge.py\u001b[0m in \u001b[0;36m_eigen_decompose_gram\u001b[0;34m(self, X, y, sqrt_sw)\u001b[0m\n\u001b[1;32m   1286\u001b[0m             \u001b[0;31m# by centering, it is orthogonal to the other columns\u001b[0m\u001b[0;34m\u001b[0m\u001b[0;34m\u001b[0m\u001b[0m\n\u001b[1;32m   1287\u001b[0m             \u001b[0mK\u001b[0m \u001b[0;34m+=\u001b[0m \u001b[0mnp\u001b[0m\u001b[0;34m.\u001b[0m\u001b[0mouter\u001b[0m\u001b[0;34m(\u001b[0m\u001b[0msqrt_sw\u001b[0m\u001b[0;34m,\u001b[0m \u001b[0msqrt_sw\u001b[0m\u001b[0;34m)\u001b[0m\u001b[0;34m\u001b[0m\u001b[0;34m\u001b[0m\u001b[0m\n\u001b[0;32m-> 1288\u001b[0;31m         \u001b[0meigvals\u001b[0m\u001b[0;34m,\u001b[0m \u001b[0mQ\u001b[0m \u001b[0;34m=\u001b[0m \u001b[0mlinalg\u001b[0m\u001b[0;34m.\u001b[0m\u001b[0meigh\u001b[0m\u001b[0;34m(\u001b[0m\u001b[0mK\u001b[0m\u001b[0;34m)\u001b[0m\u001b[0;34m\u001b[0m\u001b[0;34m\u001b[0m\u001b[0m\n\u001b[0m\u001b[1;32m   1289\u001b[0m         \u001b[0mQT_y\u001b[0m \u001b[0;34m=\u001b[0m \u001b[0mnp\u001b[0m\u001b[0;34m.\u001b[0m\u001b[0mdot\u001b[0m\u001b[0;34m(\u001b[0m\u001b[0mQ\u001b[0m\u001b[0;34m.\u001b[0m\u001b[0mT\u001b[0m\u001b[0;34m,\u001b[0m \u001b[0my\u001b[0m\u001b[0;34m)\u001b[0m\u001b[0;34m\u001b[0m\u001b[0;34m\u001b[0m\u001b[0m\n\u001b[1;32m   1290\u001b[0m         \u001b[0;32mreturn\u001b[0m \u001b[0mX_mean\u001b[0m\u001b[0;34m,\u001b[0m \u001b[0meigvals\u001b[0m\u001b[0;34m,\u001b[0m \u001b[0mQ\u001b[0m\u001b[0;34m,\u001b[0m \u001b[0mQT_y\u001b[0m\u001b[0;34m\u001b[0m\u001b[0;34m\u001b[0m\u001b[0m\n",
      "\u001b[0;32m~/anaconda3/lib/python3.9/site-packages/scipy/linalg/_decomp.py\u001b[0m in \u001b[0;36meigh\u001b[0;34m(a, b, lower, eigvals_only, overwrite_a, overwrite_b, turbo, eigvals, type, check_finite, subset_by_index, subset_by_value, driver)\u001b[0m\n\u001b[1;32m    545\u001b[0m \u001b[0;34m\u001b[0m\u001b[0m\n\u001b[1;32m    546\u001b[0m         \u001b[0mdrv_args\u001b[0m\u001b[0;34m.\u001b[0m\u001b[0mupdate\u001b[0m\u001b[0;34m(\u001b[0m\u001b[0;34m{\u001b[0m\u001b[0;34m'lower'\u001b[0m\u001b[0;34m:\u001b[0m \u001b[0mlower\u001b[0m\u001b[0;34m,\u001b[0m \u001b[0;34m'compute_v'\u001b[0m\u001b[0;34m:\u001b[0m \u001b[0;36m0\u001b[0m \u001b[0;32mif\u001b[0m \u001b[0m_job\u001b[0m \u001b[0;34m==\u001b[0m \u001b[0;34m\"N\"\u001b[0m \u001b[0;32melse\u001b[0m \u001b[0;36m1\u001b[0m\u001b[0;34m}\u001b[0m\u001b[0;34m)\u001b[0m\u001b[0;34m\u001b[0m\u001b[0;34m\u001b[0m\u001b[0m\n\u001b[0;32m--> 547\u001b[0;31m         \u001b[0mw\u001b[0m\u001b[0;34m,\u001b[0m \u001b[0mv\u001b[0m\u001b[0;34m,\u001b[0m \u001b[0;34m*\u001b[0m\u001b[0mother_args\u001b[0m\u001b[0;34m,\u001b[0m \u001b[0minfo\u001b[0m \u001b[0;34m=\u001b[0m \u001b[0mdrv\u001b[0m\u001b[0;34m(\u001b[0m\u001b[0ma\u001b[0m\u001b[0;34m=\u001b[0m\u001b[0ma1\u001b[0m\u001b[0;34m,\u001b[0m \u001b[0;34m**\u001b[0m\u001b[0mdrv_args\u001b[0m\u001b[0;34m,\u001b[0m \u001b[0;34m**\u001b[0m\u001b[0mlwork_args\u001b[0m\u001b[0;34m)\u001b[0m\u001b[0;34m\u001b[0m\u001b[0;34m\u001b[0m\u001b[0m\n\u001b[0m\u001b[1;32m    548\u001b[0m \u001b[0;34m\u001b[0m\u001b[0m\n\u001b[1;32m    549\u001b[0m     \u001b[0;32melse\u001b[0m\u001b[0;34m:\u001b[0m  \u001b[0;31m# Generalized problem\u001b[0m\u001b[0;34m\u001b[0m\u001b[0;34m\u001b[0m\u001b[0m\n",
      "\u001b[0;31mKeyboardInterrupt\u001b[0m: "
     ]
    }
   ],
   "source": [
    "#* Let the temperature decay\n",
    "trial_step = 400000\n",
    "temp_0 = 1200\n",
    "temp = temp_0\n",
    "tau = 50000\n",
    "def temp_d(temp_0, t, tau):\n",
    "    return temp_0*np.exp(-t/tau)\n",
    "\n",
    "#* Extract the effective weight according to the embedding list\n",
    "def embed_extra(weight, embed_list, lookbook,):\n",
    "    false_ind = np.where(embed_list==0)[0]\n",
    "    delete_ind = np.concatenate(embed_book[false_ind], axis=0)\n",
    "    weight_ = np.delete(weight, delete_ind, axis=1)\n",
    "    return weight_\n",
    "\n",
    "def random_flip(list_, prob):\n",
    "    if np.random.rand() < prob:\n",
    "        random_ind = np.random.randint(0, len(list_))\n",
    "        val = list_[random_ind]\n",
    "\n",
    "        list_n = list_.copy()\n",
    "        #* Flip the encodes from 0 -> 1 or 1 -> 0\n",
    "        list_n[random_ind] = np.abs(val-1)\n",
    "\n",
    "    else:\n",
    "        list_n = list_\n",
    "\n",
    "    return list_n\n",
    "\n",
    "#* Initialize the embedding list.\n",
    "embed_val = np.zeros(28)\n",
    "weight_list_r = embed_extra(weight_list, embed_val, embed_book)\n",
    "\n",
    "#* Best embedding list corresponding to the highest CV-score.\n",
    "def embed_chosen(list, score, pop_size=10):\n",
    "    len_embed = len(list)\n",
    "    list, score = np.array(list), np.array(score)\n",
    "    if len_embed > pop_size:\n",
    "        #* Get the indices of the highest 10 values\n",
    "        sorted_score = score.argsort()\n",
    "        high10_index = sorted_score[-pop_size:]\n",
    "        list, score = list[high10_index], score[high10_index]\n",
    "    return list.tolist(), score.tolist()\n",
    "\n",
    "chosen_embed = []\n",
    "chosen_score = []\n",
    "best_score = 0\n",
    "\n",
    "len_embed = len(embed_val)\n",
    "score_ = 0\n",
    "score_list = []\n",
    "\n",
    "for i in range(trial_step):\n",
    "    '''\n",
    "    1. Randomly choose one encode to flip.\n",
    "    2. 50% choose another one. \n",
    "    3. 25% choose the 3rd one.\n",
    "    '''\n",
    "    embed_val_ = random_flip(embed_val, prob=1)\n",
    "    embed_val_ = random_flip(embed_val_, prob=1/2)\n",
    "    embed_val_ = random_flip(embed_val_, prob=1/4)\n",
    "\n",
    "    weight_list_n = embed_extra(weight_list, embed_val_, embed_book)\n",
    "    # embed_list = dict(zip(embed_type, embed_val_.astype(bool)))\n",
    "    # msad_list, weight_list = extract_weight(1, 401, embed_list, atom_num=32)\n",
    "\n",
    "    clf = RidgeCV(alphas=np.logspace(-2, 1, 10)).fit(weight_list_n, msad_list.reshape(-1,1))\n",
    "    score = clf.score(weight_list_n, msad_list.reshape(-1,1))\n",
    "\n",
    "    if score >= best_score:\n",
    "        best_score = score.copy()\n",
    "        chosen_embed.append(embed_val_.tolist())\n",
    "        chosen_score.append(score)\n",
    "        #* Return the chosen one(s)\n",
    "        chosen_embed, chosen_score = embed_chosen(chosen_embed, chosen_score)\n",
    "\n",
    "    if np.random.rand()<np.min([1,np.exp((score-score_)/temp)]):\n",
    "        embed_val = embed_val_\n",
    "        score_ = score\n",
    "\n",
    "    #* Temp decay\n",
    "    temp = temp_d(temp_0, i, tau)\n",
    "\n",
    "    clear_output(True)\n",
    "    score_list.append(score)\n",
    "    if i%1000 == 0:\n",
    "        plt.plot(score_list)\n",
    "        plt.title(f'Iter: {i}, Score: {score}, Temp: {temp}')\n",
    "\n",
    "        plt.show()"
   ]
  },
  {
   "cell_type": "code",
   "execution_count": 141,
   "metadata": {},
   "outputs": [
    {
     "data": {
      "text/plain": [
       "36.18699289587543"
      ]
     },
     "execution_count": 141,
     "metadata": {},
     "output_type": "execute_result"
    }
   ],
   "source": [
    "res_list = []\n",
    "for i in range(100):\n",
    "    msad_train, msad_test, weight_train, weight_test = train_test_split(\n",
    "        msad_list.reshape(-1,1), weight_list, test_size=0.05)\n",
    "    \n",
    "    #*Linear regression\n",
    "    weight_train_, msad_train_ = weight_train.clone(), msad_train.clone()\n",
    "    weight_test_, msad_test_ = weight_test.clone(), msad_test.clone()\n",
    "\n",
    "    clf_ = BayesianRidge().fit(weight_train.detach().cpu().numpy(), msad_train.detach().cpu().numpy().flatten())\n",
    "    msad_predict_lr = clf_.predict(weight_test.detach().cpu().numpy())\n",
    "\n",
    "    res = msad_predict_lr-msad_test.numpy().flatten()\n",
    "    res_list += (res.tolist())\n",
    "\n",
    "np.linalg.norm(res_list)"
   ]
  },
  {
   "cell_type": "markdown",
   "metadata": {},
   "source": [
    "Seperate the datasets of **MSAD**."
   ]
  },
  {
   "cell_type": "code",
   "execution_count": 57,
   "metadata": {},
   "outputs": [],
   "source": [
    "msad_train, msad_test, weight_train, weight_test = train_test_split(\n",
    "    msad_list.reshape(-1,1), weight_list, test_size=0.05)"
   ]
  },
  {
   "cell_type": "code",
   "execution_count": 58,
   "metadata": {},
   "outputs": [],
   "source": [
    "#*Linear regression\n",
    "weight_train_, msad_train_ = weight_train, msad_train\n",
    "weight_test_, msad_test_ = weight_test, msad_test\n",
    "\n",
    "#* Bayesian Ridge LR\n",
    "clf_ = BayesianRidge().fit(weight_train_, msad_train_.flatten())\n",
    "msad_predict_lr = clf_.predict(weight_test_)"
   ]
  },
  {
   "cell_type": "code",
   "execution_count": 59,
   "metadata": {},
   "outputs": [
    {
     "data": {
      "text/plain": [
       "array([30.74524551, 24.99662632, 37.40761813, 33.43127198, 34.57519602,\n",
       "       28.42163488, 36.30333264, 21.3395938 , 24.8404661 , 33.67569673,\n",
       "       37.34763519, 32.73615193, 25.67677067, 27.87344999, 23.94522532,\n",
       "       22.13018359, 31.27400267, 25.57877519, 35.51733037])"
      ]
     },
     "execution_count": 59,
     "metadata": {},
     "output_type": "execute_result"
    }
   ],
   "source": [
    "msad_predict_lr"
   ]
  },
  {
   "cell_type": "code",
   "execution_count": 35,
   "metadata": {},
   "outputs": [],
   "source": [
    "#*Linear regression\n",
    "weight_train_, msad_train_ = weight_train.clone(), msad_train.clone()\n",
    "weight_test_, msad_test_ = weight_test.clone(), msad_test.clone()\n",
    "\n",
    "#* Gaussian Process regression\n",
    "# kernel = DotProduct() + WhiteKernel()\n",
    "kernel = RationalQuadratic()\n",
    "gpr = GaussianProcessRegressor(kernel=kernel,\n",
    "    random_state=0).fit(weight_train_.detach().cpu().numpy(), msad_train_.detach().cpu().numpy().flatten())\n",
    "msad_predict_lr = gpr.predict(weight_test_.detach().cpu().numpy())"
   ]
  },
  {
   "cell_type": "code",
   "execution_count": 36,
   "metadata": {},
   "outputs": [
    {
     "name": "stdout",
     "output_type": "stream",
     "text": [
      "4.374607607224344\n"
     ]
    },
    {
     "data": {
      "image/png": "[encoded data removed]",
      "text/plain": [
       "<Figure size 432x288 with 1 Axes>"
      ]
     },
     "metadata": {
      "needs_background": "light"
     },
     "output_type": "display_data"
    }
   ],
   "source": [
    "plt.plot(msad_predict_lr-msad_test.numpy().flatten())\n",
    "print(np.linalg.norm(msad_predict_lr-msad_test.numpy().flatten()))"
   ]
  },
  {
   "cell_type": "code",
   "execution_count": 13,
   "metadata": {},
   "outputs": [
    {
     "name": "stdout",
     "output_type": "stream",
     "text": [
      "Created Directory :  /media/wz/a7ee6d50-691d-431a-8efb-b93adc04896d/Github/MATools/CE_MC/runs/demo/20221209\n"
     ]
    }
   ],
   "source": [
    "import pickle\n",
    "date = '20221209'\n",
    "pth_lr = '/media/wz/a7ee6d50-691d-431a-8efb-b93adc04896d/Github/MATools/CE_MC/runs/demo/'\n",
    "create_dir(pth_lr+date)\n",
    "name = '/gpr_msad.sav'\n",
    "pickle.dump(gpr, open(pth_lr+date+name, 'wb'))"
   ]
  },
  {
   "cell_type": "code",
   "execution_count": 14,
   "metadata": {},
   "outputs": [
    {
     "data": {
      "text/plain": [
       "torch.Size([22, 279])"
      ]
     },
     "execution_count": 14,
     "metadata": {},
     "output_type": "execute_result"
    }
   ],
   "source": [
    "weight_test.shape"
   ]
  },
  {
   "cell_type": "markdown",
   "metadata": {},
   "source": [
    "To calculate the **TURE** MSAD in randomized states?\n",
    "\n",
    "1. Generate configs without constraints.\n",
    "\n",
    "2. Put those configs into CE prediction.\n",
    "\n",
    "3. The outputs must follow a distribution that represents the latent dist. at 0 K.\n",
    "\n",
    "Then take **ensemble average** of outputs to obtain $MSAD^{1/2}$."
   ]
  },
  {
   "cell_type": "code",
   "execution_count": 37,
   "metadata": {},
   "outputs": [
    {
     "name": "stdout",
     "output_type": "stream",
     "text": [
      "5.630900554526939\n"
     ]
    },
    {
     "data": {
      "image/png": "[encoded data removed]",
      "text/plain": [
       "<Figure size 432x288 with 1 Axes>"
      ]
     },
     "metadata": {
      "needs_background": "light"
     },
     "output_type": "display_data"
    }
   ],
   "source": [
    "ele_list_predict, weight_list = [], []\n",
    "for i in range(10000):\n",
    "    ele_list = ele_list_gen(0.35, 0.15, 0.25, 0.25, 32)\n",
    "    ele_list_predict.append(ele_list.tolist())\n",
    "    weight_list.append(ce_.cluster_extra(np.tile(ele_list, 27)))\n",
    "\n",
    "msad_list = gpr.predict(weight_list)\n",
    "print(np.mean(msad_list))\n",
    "plt.hist(msad_list, bins=50)\n",
    "\n",
    "del msad_list"
   ]
  },
  {
   "cell_type": "code",
   "execution_count": 38,
   "metadata": {},
   "outputs": [
    {
     "name": "stdout",
     "output_type": "stream",
     "text": [
      "5.582825353468665\n"
     ]
    },
    {
     "data": {
      "image/png": "[encoded data removed]",
      "text/plain": [
       "<Figure size 432x288 with 1 Axes>"
      ]
     },
     "metadata": {
      "needs_background": "light"
     },
     "output_type": "display_data"
    }
   ],
   "source": [
    "ele_list_predict, weight_list = [], []\n",
    "for i in range(10000):\n",
    "    ele_list = ele_list_gen(0.4, 0.1, 0.25, 0.25, 32)\n",
    "    ele_list_predict.append(ele_list.tolist())\n",
    "    weight_list.append(ce_.cluster_extra(np.tile(ele_list, 27)))\n",
    "\n",
    "msad_list = gpr.predict(weight_list)\n",
    "print(np.mean(msad_list))\n",
    "plt.hist(msad_list, bins=50)\n",
    "\n",
    "del msad_list"
   ]
  },
  {
   "cell_type": "code",
   "execution_count": 39,
   "metadata": {},
   "outputs": [
    {
     "name": "stdout",
     "output_type": "stream",
     "text": [
      "5.165691168623019\n"
     ]
    },
    {
     "data": {
      "image/png": "[encoded data removed]",
      "text/plain": [
       "<Figure size 432x288 with 1 Axes>"
      ]
     },
     "metadata": {
      "needs_background": "light"
     },
     "output_type": "display_data"
    }
   ],
   "source": [
    "ele_list_predict, weight_list = [], []\n",
    "for i in range(10000):\n",
    "    ele_list = ele_list_gen(0.45, 0.05, 0.25, 0.25, 32)\n",
    "    ele_list_predict.append(ele_list.tolist())\n",
    "    weight_list.append(ce_.cluster_extra(np.tile(ele_list, 27)))\n",
    "\n",
    "msad_list = gpr.predict(weight_list)\n",
    "print(np.mean(msad_list))\n",
    "plt.hist(msad_list, bins=50)\n",
    "\n",
    "del msad_list"
   ]
  },
  {
   "cell_type": "markdown",
   "metadata": {},
   "source": [
    "#### Fit the ECI based on **NN**"
   ]
  },
  {
   "cell_type": "code",
   "execution_count": 71,
   "metadata": {},
   "outputs": [],
   "source": [
    "#* FC part\n",
    "def layer_init(layer, std=np.sqrt(2), bias_const=0.0):\n",
    "    torch.nn.init.orthogonal_(layer.weight, std)\n",
    "    torch.nn.init.constant_(layer.bias, bias_const)\n",
    "    return layer\n",
    "\n",
    "class fc(nn.Module):\n",
    "    def __init__(self, state_dim):\n",
    "        super(fc, self).__init__()\n",
    "\n",
    "        self.state_dim = state_dim\n",
    "        self.output = nn.Sequential(\n",
    "            nn.Linear(state_dim, 128),\n",
    "            nn.ReLU(),\n",
    "            nn.Dropout(0.25),\n",
    "            nn.Linear(128, 128),\n",
    "            nn.ReLU(),\n",
    "            nn.Dropout(0.25),\n",
    "            nn.Linear(128, 1),\n",
    "        )\n",
    "\n",
    "    def forward(self, s_a):\n",
    "        \n",
    "        e_ = self.output(s_a)\n",
    "\n",
    "        return e_"
   ]
  },
  {
   "cell_type": "code",
   "execution_count": 59,
   "metadata": {},
   "outputs": [],
   "source": [
    "msad_test = msad_test.float()\n",
    "msad_train = msad_train.float()\n",
    "weight_test = weight_test.float()\n",
    "weight_train = weight_train.float()"
   ]
  },
  {
   "cell_type": "code",
   "execution_count": 72,
   "metadata": {},
   "outputs": [
    {
     "ename": "KeyboardInterrupt",
     "evalue": "",
     "output_type": "error",
     "traceback": [
      "\u001b[0;31m---------------------------------------------------------------------------\u001b[0m",
      "\u001b[0;31mKeyboardInterrupt\u001b[0m                         Traceback (most recent call last)",
      "\u001b[0;32m/tmp/ipykernel_338633/2653200978.py\u001b[0m in \u001b[0;36m<module>\u001b[0;34m\u001b[0m\n\u001b[1;32m     21\u001b[0m     \u001b[0mweight_train_\u001b[0m \u001b[0;34m=\u001b[0m \u001b[0mweight_train\u001b[0m\u001b[0;34m\u001b[0m\u001b[0;34m\u001b[0m\u001b[0m\n\u001b[1;32m     22\u001b[0m     \u001b[0mmsad_train_\u001b[0m \u001b[0;34m=\u001b[0m \u001b[0mmsad_train\u001b[0m\u001b[0;34m\u001b[0m\u001b[0;34m\u001b[0m\u001b[0m\n\u001b[0;32m---> 23\u001b[0;31m     \u001b[0mmsad_out_train\u001b[0m \u001b[0;34m=\u001b[0m \u001b[0mfc_\u001b[0m\u001b[0;34m(\u001b[0m\u001b[0mweight_train_\u001b[0m\u001b[0;34m)\u001b[0m\u001b[0;34m\u001b[0m\u001b[0;34m\u001b[0m\u001b[0m\n\u001b[0m\u001b[1;32m     24\u001b[0m     \u001b[0mmsad_tar_train\u001b[0m \u001b[0;34m=\u001b[0m \u001b[0mmsad_train_\u001b[0m\u001b[0;34m\u001b[0m\u001b[0;34m\u001b[0m\u001b[0m\n\u001b[1;32m     25\u001b[0m     \u001b[0mmsad_loss_train\u001b[0m \u001b[0;34m=\u001b[0m \u001b[0mmse_loss\u001b[0m\u001b[0;34m(\u001b[0m\u001b[0mmsad_out_train\u001b[0m\u001b[0;34m,\u001b[0m \u001b[0mmsad_tar_train\u001b[0m\u001b[0;34m)\u001b[0m\u001b[0;34m\u001b[0m\u001b[0;34m\u001b[0m\u001b[0m\n",
      "\u001b[0;32m~/anaconda3/lib/python3.9/site-packages/torch/nn/modules/module.py\u001b[0m in \u001b[0;36m_call_impl\u001b[0;34m(self, *input, **kwargs)\u001b[0m\n\u001b[1;32m   1108\u001b[0m         if not (self._backward_hooks or self._forward_hooks or self._forward_pre_hooks or _global_backward_hooks\n\u001b[1;32m   1109\u001b[0m                 or _global_forward_hooks or _global_forward_pre_hooks):\n\u001b[0;32m-> 1110\u001b[0;31m             \u001b[0;32mreturn\u001b[0m \u001b[0mforward_call\u001b[0m\u001b[0;34m(\u001b[0m\u001b[0;34m*\u001b[0m\u001b[0minput\u001b[0m\u001b[0;34m,\u001b[0m \u001b[0;34m**\u001b[0m\u001b[0mkwargs\u001b[0m\u001b[0;34m)\u001b[0m\u001b[0;34m\u001b[0m\u001b[0;34m\u001b[0m\u001b[0m\n\u001b[0m\u001b[1;32m   1111\u001b[0m         \u001b[0;31m# Do not call functions when jit is used\u001b[0m\u001b[0;34m\u001b[0m\u001b[0;34m\u001b[0m\u001b[0m\n\u001b[1;32m   1112\u001b[0m         \u001b[0mfull_backward_hooks\u001b[0m\u001b[0;34m,\u001b[0m \u001b[0mnon_full_backward_hooks\u001b[0m \u001b[0;34m=\u001b[0m \u001b[0;34m[\u001b[0m\u001b[0;34m]\u001b[0m\u001b[0;34m,\u001b[0m \u001b[0;34m[\u001b[0m\u001b[0;34m]\u001b[0m\u001b[0;34m\u001b[0m\u001b[0;34m\u001b[0m\u001b[0m\n",
      "\u001b[0;32m/tmp/ipykernel_338633/10872506.py\u001b[0m in \u001b[0;36mforward\u001b[0;34m(self, s_a)\u001b[0m\n\u001b[1;32m     22\u001b[0m     \u001b[0;32mdef\u001b[0m \u001b[0mforward\u001b[0m\u001b[0;34m(\u001b[0m\u001b[0mself\u001b[0m\u001b[0;34m,\u001b[0m \u001b[0ms_a\u001b[0m\u001b[0;34m)\u001b[0m\u001b[0;34m:\u001b[0m\u001b[0;34m\u001b[0m\u001b[0;34m\u001b[0m\u001b[0m\n\u001b[1;32m     23\u001b[0m \u001b[0;34m\u001b[0m\u001b[0m\n\u001b[0;32m---> 24\u001b[0;31m         \u001b[0me_\u001b[0m \u001b[0;34m=\u001b[0m \u001b[0mself\u001b[0m\u001b[0;34m.\u001b[0m\u001b[0moutput\u001b[0m\u001b[0;34m(\u001b[0m\u001b[0ms_a\u001b[0m\u001b[0;34m)\u001b[0m\u001b[0;34m\u001b[0m\u001b[0;34m\u001b[0m\u001b[0m\n\u001b[0m\u001b[1;32m     25\u001b[0m \u001b[0;34m\u001b[0m\u001b[0m\n\u001b[1;32m     26\u001b[0m         \u001b[0;32mreturn\u001b[0m \u001b[0me_\u001b[0m\u001b[0;34m\u001b[0m\u001b[0;34m\u001b[0m\u001b[0m\n",
      "\u001b[0;32m~/anaconda3/lib/python3.9/site-packages/torch/nn/modules/module.py\u001b[0m in \u001b[0;36m_call_impl\u001b[0;34m(self, *input, **kwargs)\u001b[0m\n\u001b[1;32m   1108\u001b[0m         if not (self._backward_hooks or self._forward_hooks or self._forward_pre_hooks or _global_backward_hooks\n\u001b[1;32m   1109\u001b[0m                 or _global_forward_hooks or _global_forward_pre_hooks):\n\u001b[0;32m-> 1110\u001b[0;31m             \u001b[0;32mreturn\u001b[0m \u001b[0mforward_call\u001b[0m\u001b[0;34m(\u001b[0m\u001b[0;34m*\u001b[0m\u001b[0minput\u001b[0m\u001b[0;34m,\u001b[0m \u001b[0;34m**\u001b[0m\u001b[0mkwargs\u001b[0m\u001b[0;34m)\u001b[0m\u001b[0;34m\u001b[0m\u001b[0;34m\u001b[0m\u001b[0m\n\u001b[0m\u001b[1;32m   1111\u001b[0m         \u001b[0;31m# Do not call functions when jit is used\u001b[0m\u001b[0;34m\u001b[0m\u001b[0;34m\u001b[0m\u001b[0m\n\u001b[1;32m   1112\u001b[0m         \u001b[0mfull_backward_hooks\u001b[0m\u001b[0;34m,\u001b[0m \u001b[0mnon_full_backward_hooks\u001b[0m \u001b[0;34m=\u001b[0m \u001b[0;34m[\u001b[0m\u001b[0;34m]\u001b[0m\u001b[0;34m,\u001b[0m \u001b[0;34m[\u001b[0m\u001b[0;34m]\u001b[0m\u001b[0;34m\u001b[0m\u001b[0;34m\u001b[0m\u001b[0m\n",
      "\u001b[0;32m~/anaconda3/lib/python3.9/site-packages/torch/nn/modules/container.py\u001b[0m in \u001b[0;36mforward\u001b[0;34m(self, input)\u001b[0m\n\u001b[1;32m    139\u001b[0m     \u001b[0;32mdef\u001b[0m \u001b[0mforward\u001b[0m\u001b[0;34m(\u001b[0m\u001b[0mself\u001b[0m\u001b[0;34m,\u001b[0m \u001b[0minput\u001b[0m\u001b[0;34m)\u001b[0m\u001b[0;34m:\u001b[0m\u001b[0;34m\u001b[0m\u001b[0;34m\u001b[0m\u001b[0m\n\u001b[1;32m    140\u001b[0m         \u001b[0;32mfor\u001b[0m \u001b[0mmodule\u001b[0m \u001b[0;32min\u001b[0m \u001b[0mself\u001b[0m\u001b[0;34m:\u001b[0m\u001b[0;34m\u001b[0m\u001b[0;34m\u001b[0m\u001b[0m\n\u001b[0;32m--> 141\u001b[0;31m             \u001b[0minput\u001b[0m \u001b[0;34m=\u001b[0m \u001b[0mmodule\u001b[0m\u001b[0;34m(\u001b[0m\u001b[0minput\u001b[0m\u001b[0;34m)\u001b[0m\u001b[0;34m\u001b[0m\u001b[0;34m\u001b[0m\u001b[0m\n\u001b[0m\u001b[1;32m    142\u001b[0m         \u001b[0;32mreturn\u001b[0m \u001b[0minput\u001b[0m\u001b[0;34m\u001b[0m\u001b[0;34m\u001b[0m\u001b[0m\n\u001b[1;32m    143\u001b[0m \u001b[0;34m\u001b[0m\u001b[0m\n",
      "\u001b[0;32m~/anaconda3/lib/python3.9/site-packages/torch/nn/modules/module.py\u001b[0m in \u001b[0;36m_call_impl\u001b[0;34m(self, *input, **kwargs)\u001b[0m\n\u001b[1;32m   1108\u001b[0m         if not (self._backward_hooks or self._forward_hooks or self._forward_pre_hooks or _global_backward_hooks\n\u001b[1;32m   1109\u001b[0m                 or _global_forward_hooks or _global_forward_pre_hooks):\n\u001b[0;32m-> 1110\u001b[0;31m             \u001b[0;32mreturn\u001b[0m \u001b[0mforward_call\u001b[0m\u001b[0;34m(\u001b[0m\u001b[0;34m*\u001b[0m\u001b[0minput\u001b[0m\u001b[0;34m,\u001b[0m \u001b[0;34m**\u001b[0m\u001b[0mkwargs\u001b[0m\u001b[0;34m)\u001b[0m\u001b[0;34m\u001b[0m\u001b[0;34m\u001b[0m\u001b[0m\n\u001b[0m\u001b[1;32m   1111\u001b[0m         \u001b[0;31m# Do not call functions when jit is used\u001b[0m\u001b[0;34m\u001b[0m\u001b[0;34m\u001b[0m\u001b[0m\n\u001b[1;32m   1112\u001b[0m         \u001b[0mfull_backward_hooks\u001b[0m\u001b[0;34m,\u001b[0m \u001b[0mnon_full_backward_hooks\u001b[0m \u001b[0;34m=\u001b[0m \u001b[0;34m[\u001b[0m\u001b[0;34m]\u001b[0m\u001b[0;34m,\u001b[0m \u001b[0;34m[\u001b[0m\u001b[0;34m]\u001b[0m\u001b[0;34m\u001b[0m\u001b[0;34m\u001b[0m\u001b[0m\n",
      "\u001b[0;32m~/anaconda3/lib/python3.9/site-packages/torch/nn/modules/linear.py\u001b[0m in \u001b[0;36mforward\u001b[0;34m(self, input)\u001b[0m\n\u001b[1;32m    101\u001b[0m \u001b[0;34m\u001b[0m\u001b[0m\n\u001b[1;32m    102\u001b[0m     \u001b[0;32mdef\u001b[0m \u001b[0mforward\u001b[0m\u001b[0;34m(\u001b[0m\u001b[0mself\u001b[0m\u001b[0;34m,\u001b[0m \u001b[0minput\u001b[0m\u001b[0;34m:\u001b[0m \u001b[0mTensor\u001b[0m\u001b[0;34m)\u001b[0m \u001b[0;34m->\u001b[0m \u001b[0mTensor\u001b[0m\u001b[0;34m:\u001b[0m\u001b[0;34m\u001b[0m\u001b[0;34m\u001b[0m\u001b[0m\n\u001b[0;32m--> 103\u001b[0;31m         \u001b[0;32mreturn\u001b[0m \u001b[0mF\u001b[0m\u001b[0;34m.\u001b[0m\u001b[0mlinear\u001b[0m\u001b[0;34m(\u001b[0m\u001b[0minput\u001b[0m\u001b[0;34m,\u001b[0m \u001b[0mself\u001b[0m\u001b[0;34m.\u001b[0m\u001b[0mweight\u001b[0m\u001b[0;34m,\u001b[0m \u001b[0mself\u001b[0m\u001b[0;34m.\u001b[0m\u001b[0mbias\u001b[0m\u001b[0;34m)\u001b[0m\u001b[0;34m\u001b[0m\u001b[0;34m\u001b[0m\u001b[0m\n\u001b[0m\u001b[1;32m    104\u001b[0m \u001b[0;34m\u001b[0m\u001b[0m\n\u001b[1;32m    105\u001b[0m     \u001b[0;32mdef\u001b[0m \u001b[0mextra_repr\u001b[0m\u001b[0;34m(\u001b[0m\u001b[0mself\u001b[0m\u001b[0;34m)\u001b[0m \u001b[0;34m->\u001b[0m \u001b[0mstr\u001b[0m\u001b[0;34m:\u001b[0m\u001b[0;34m\u001b[0m\u001b[0;34m\u001b[0m\u001b[0m\n",
      "\u001b[0;31mKeyboardInterrupt\u001b[0m: "
     ]
    }
   ],
   "source": [
    "#* Training step\n",
    "state_dim = 171\n",
    "mini_batchsize = 16\n",
    "lr_ = 1e-5\n",
    "train_step = 3000000\n",
    "epoch_per_episode = 16\n",
    "path_save = '/media/wz/a7ee6d50-691d-431a-8efb-b93adc04896d/Github/MATools/CE_MC/runs/demo'\n",
    "\n",
    "#*Device is defined in former block\n",
    "fc_ = fc(state_dim).to(device)\n",
    "fc_optim = torch.optim.Adam(fc_.parameters(), lr = lr_)\n",
    "scheduler = torch.optim.lr_scheduler.StepLR(fc_optim,step_size=10000,gamma = 0.98)\n",
    "mse_loss = nn.MSELoss()\n",
    "writer = SummaryWriter(log_dir = path_save)\n",
    "torch.manual_seed(886)\n",
    "\n",
    "for i in range(train_step):\n",
    "    # for index in BatchSampler(SubsetRandomSampler(range(len(weight_train))), mini_batchsize, True):\n",
    "        # for epoch in range(epoch_per_episode):\n",
    "    fc_.train()\n",
    "    weight_train_ = weight_train\n",
    "    msad_train_ = msad_train\n",
    "    msad_out_train = fc_(weight_train_)\n",
    "    msad_tar_train = msad_train_\n",
    "    msad_loss_train = mse_loss(msad_out_train, msad_tar_train)\n",
    "\n",
    "    writer.add_scalar(\"Training Loss of MSAD\", msad_loss_train, i)\n",
    "\n",
    "    fc_optim.zero_grad()\n",
    "    msad_loss_train.backward()\n",
    "    clip_grad_norm_(fc_.parameters(), 1)\n",
    "    fc_optim.step()\n",
    "    scheduler.step()\n",
    "\n",
    "    fc_.eval()\n",
    "    msad_out_test = fc_(weight_test)\n",
    "    msad_loss_test = mse_loss(msad_out_test, msad_test)\n",
    "    writer.add_scalar(\"Testing Loss of MSAD\", msad_loss_test, i)"
   ]
  },
  {
   "cell_type": "code",
   "execution_count": 76,
   "metadata": {},
   "outputs": [
    {
     "data": {
      "text/plain": [
       "0.14383346606523562"
      ]
     },
     "execution_count": 76,
     "metadata": {},
     "output_type": "execute_result"
    }
   ],
   "source": [
    "np.linalg.norm(nn_res)/len(nn_res)"
   ]
  },
  {
   "cell_type": "code",
   "execution_count": 73,
   "metadata": {},
   "outputs": [
    {
     "data": {
      "image/png": "[encoded data removed]",
      "text/plain": [
       "<Figure size 432x288 with 1 Axes>"
      ]
     },
     "metadata": {
      "needs_background": "light"
     },
     "output_type": "display_data"
    }
   ],
   "source": [
    "fc_.eval()\n",
    "energy_std = 1\n",
    "energy_mean = 0\n",
    "e_predict = fc_(weight_test).cpu().detach().numpy()\n",
    "e_test_ = msad_test.cpu().detach().numpy()\n",
    "e_predict_lr_ = msad_predict_lr\n",
    "\n",
    "plt.plot(e_predict, label='predict_nn')\n",
    "plt.plot(e_test_, label='test')\n",
    "plt.plot(e_predict_lr_, label='predict_lr')\n",
    "\n",
    "plt.legend()\n",
    "plt.show()"
   ]
  },
  {
   "cell_type": "code",
   "execution_count": 74,
   "metadata": {},
   "outputs": [
    {
     "data": {
      "image/png": "[encoded data removed]",
      "text/plain": [
       "<Figure size 864x432 with 1 Axes>"
      ]
     },
     "metadata": {
      "needs_background": "light"
     },
     "output_type": "display_data"
    }
   ],
   "source": [
    "nn_res = (e_test_ - e_predict)\n",
    "lr_res = (e_test_ - e_predict_lr_.reshape(-1,1))\n",
    "r_nn_u = np.clip(nn_res, 0, None).flatten()\n",
    "r_nn_l = np.clip(nn_res, None, 0).flatten()\n",
    "r_lr_u = np.clip(lr_res, 0, None).flatten()\n",
    "r_lr_l = np.clip(lr_res, None, 0).flatten()\n",
    "\n",
    "fig, ax = plt.subplots(figsize=(12, 6))\n",
    "ax.set_ylabel('pm/atom')\n",
    "x_axis = np.arange(len(e_test_))\n",
    "plt.scatter(x_axis, nn_res, label='predict_nn_res')\n",
    "plt.scatter(x_axis, lr_res, label='predict_blr_res')\n",
    "plt.plot(x_axis, np.zeros(len(msad_test)), c='k', label='baseline', zorder=0)\n",
    "plt.fill_between(x_axis, r_nn_l, r_nn_u, \n",
    "            alpha=0.2, color=cm.viridis(0.5))\n",
    "plt.fill_between(x_axis, r_lr_l, r_lr_u, \n",
    "            alpha=0.2, color=cm.plasma(0.5))\n",
    "\n",
    "plt.legend()\n",
    "plt.show()"
   ]
  },
  {
   "cell_type": "code",
   "execution_count": 71,
   "metadata": {},
   "outputs": [],
   "source": [
    "###\n",
    "#* Save NN model\n",
    "pth_save = '/media/wz/a7ee6d50-691d-431a-8efb-b93adc04896d/Github/MATools/CE_MC/runs/demo/20221031'\n",
    "torch.save(fc_.state_dict(), pth_save+'/param.pth')"
   ]
  },
  {
   "cell_type": "markdown",
   "metadata": {},
   "source": [
    "#### SA processes:\n",
    "\n",
    "1. Starting from **LOCAL MINIMA**\n",
    "\n",
    "2. Start SA, temperature should gradually increases to ensure the stability of system.\n",
    "\n",
    "##### Supplementary\n",
    "\n",
    "1. $$<\\alpha> = \\frac{\\sum\\alpha e^{-\\beta H_i}}{\\sum e^{-\\beta H_i}} \\tag{1}$$\n",
    "\n",
    "$$<\\alpha>_t = 1/t \\sum \\alpha(t) \\tag{2}$$\n",
    "\n",
    "2. $T(t) = T_0e^{-t/\\tau}$"
   ]
  },
  {
   "cell_type": "code",
   "execution_count": 16,
   "metadata": {},
   "outputs": [
    {
     "data": {
      "text/plain": [
       "Text(0.5, 1.0, 'Final temp.: 54.94691666620253 K')"
      ]
     },
     "execution_count": 16,
     "metadata": {},
     "output_type": "execute_result"
    },
    {
     "data": {
      "image/png": "[encoded data removed]",
      "text/plain": [
       "<Figure size 432x288 with 1 Axes>"
      ]
     },
     "metadata": {
      "needs_background": "light"
     },
     "output_type": "display_data"
    }
   ],
   "source": [
    "#* Test the setting of temperature decay.\n",
    "def temp(temp_0, t, tau):\n",
    "    return temp_0*np.exp(-t/tau)\n",
    "\n",
    "t = np.linspace(0, 4000, 3001)\n",
    "temp_ = temp(3000, t, 1000)\n",
    "\n",
    "plt.plot(t, temp_)\n",
    "plt.title(f'Final temp.: {temp_[-1]} K')"
   ]
  },
  {
   "cell_type": "markdown",
   "metadata": {},
   "source": [
    "#### Analysis part for global minimum configuration."
   ]
  },
  {
   "cell_type": "code",
   "execution_count": 14,
   "metadata": {},
   "outputs": [
    {
     "data": {
      "text/plain": [
       "array([-15860.06482684, -15861.29076902, -15852.86736414, -15848.19600287,\n",
       "       -15853.7409672 , -15858.94716383, -15854.62429982, -15852.32496535,\n",
       "       -15847.70857096, -15853.42011043, -15849.80098587, -15853.33225516])"
      ]
     },
     "execution_count": 14,
     "metadata": {},
     "output_type": "execute_result"
    }
   ],
   "source": [
    "#* Analysis from .py file\n",
    "import pickle\n",
    "e_list = np.load('/media/wz/a7ee6d50-691d-431a-8efb-b93adc04896d/Github/MATools/CE_MC/runs/demo/20221101/min_e_.npy')\n",
    "config_list = np.load('/media/wz/a7ee6d50-691d-431a-8efb-b93adc04896d/Github/MATools/CE_MC/runs/demo/20221101/minconfig_.npy')\n",
    "lr_model = '/media/wz/a7ee6d50-691d-431a-8efb-b93adc04896d/Github/MATools/CE_MC/runs/demo/20221101/blr.sav'\n",
    "lr_model_ = pickle.load(open(lr_model, 'rb'))\n",
    "\n",
    "# lr_model_.predict(config_list)\n",
    "e_list"
   ]
  },
  {
   "cell_type": "markdown",
   "metadata": {},
   "source": [
    "##### Debugging console for SRO evaluation."
   ]
  },
  {
   "cell_type": "code",
   "execution_count": 9,
   "metadata": {},
   "outputs": [],
   "source": [
    "#* Estimation step\n",
    "#* Use NN?\n",
    "# fc_.eval()\n",
    "\n",
    "def norm_w(x, x_mean, x_std):\n",
    "        return (x - x_mean) / x_std\n",
    "\n",
    "def t_range(temp_0, t, tau):\n",
    "    return temp_0*np.exp(-t/tau)\n",
    "\n",
    "ind_1nn = np.load('/media/wz/7AD631A4D6316195/Projects/mc_pure_qua/fcc_2048/ind_1nn.npy')\n",
    "ind_2nn = np.load('/media/wz/7AD631A4D6316195/Projects/mc_pure_qua/fcc_2048/ind_2nn.npy')\n",
    "ind_3nn = np.load('/media/wz/7AD631A4D6316195/Projects/mc_pure_qua/fcc_2048/ind_3nn.npy')\n",
    "ind_4nn = np.load('/media/wz/7AD631A4D6316195/Projects/mc_pure_qua/fcc_2048/ind_4nn.npy')\n",
    "ind_qua1nn = np.load('/media/wz/7AD631A4D6316195/Projects/mc_pure_qua/fcc_2048/ind_qua1nn.npy')\n",
    "ind_qua1nn2nn = np.load('/media/wz/7AD631A4D6316195/Projects/mc_pure_qua/fcc_2048/ind_qua1nn2nn.npy')\n",
    "ind_trip1nn = np.load('/media/wz/7AD631A4D6316195/Projects/mc_pure_qua/fcc_2048/ind_trip1nn.npy')\n",
    "ind_trip1nn2nn = np.load('/media/wz/7AD631A4D6316195/Projects/mc_pure_qua/fcc_2048/ind_trip1nn2nn.npy')\n",
    "ind_trip1nn2nn3nn = np.load('/media/wz/7AD631A4D6316195/Projects/mc_pure_qua/fcc_2048/ind_trip1nn2nn3nn.npy')\n",
    "\n",
    "ind_1nn_pbc = np.load('/media/wz/7AD631A4D6316195/Projects/mc_pure_qua/fcc_2048/ind_1nn_pbc.npy')\n",
    "ind_2nn_pbc = np.load('/media/wz/7AD631A4D6316195/Projects/mc_pure_qua/fcc_2048/ind_2nn_pbc.npy')\n",
    "ind_3nn_pbc = np.load('/media/wz/7AD631A4D6316195/Projects/mc_pure_qua/fcc_2048/ind_3nn_pbc.npy')\n",
    "ind_4nn_pbc = np.load('/media/wz/7AD631A4D6316195/Projects/mc_pure_qua/fcc_2048/ind_4nn_pbc.npy')\n",
    "ind_qua1nn_pbc = np.load('/media/wz/7AD631A4D6316195/Projects/mc_pure_qua/fcc_2048/ind_qua1nn_pbc.npy')\n",
    "# ind_qua1nn2nn_pbc = np.load('/media/wz/7AD631A4D6316195/Projects/mc_pure_qua/fcc_32/ind_qua1nn2nn_pbc.npy')\n",
    "ind_trip1nn_pbc = np.load('/media/wz/7AD631A4D6316195/Projects/mc_pure_qua/fcc_2048/ind_trip1nn_pbc.npy')\n",
    "ind_trip1nn2nn_pbc = np.load('/media/wz/7AD631A4D6316195/Projects/mc_pure_qua/fcc_2048/ind_trip1nn2nn_pbc.npy')\n",
    "ind_trip1nn2nn3nn_pbc = np.load('/media/wz/7AD631A4D6316195/Projects/mc_pure_qua/fcc_2048/ind_trip1nn2nn3nn_pbc.npy')\n",
    "\n",
    "ind_raw = np.load('/media/wz/7AD631A4D6316195/Projects/mc_pure_qua/fcc_2048/ind_raw2048.npy')\n",
    "\n",
    "ce_e = CE(ind_1nn, ind_2nn, ind_3nn, ind_4nn, \n",
    "        ind_qua1nn, ind_trip1nn, ind_trip1nn2nn, ind_trip1nn2nn3nn,\n",
    "        ind_1nn_pbc, ind_2nn_pbc, ind_3nn_pbc, ind_4nn_pbc, \n",
    "        ind_qua1nn_pbc, ind_trip1nn_pbc, ind_trip1nn2nn_pbc, ind_trip1nn2nn3nn_pbc,\n",
    "        ind_raw)\n",
    "\n",
    "pth_raw = '/media/wz/a7ee6d50-691d-431a-8efb-b93adc04896d/Github/MATools/CE_MC/runs/demo/'\n",
    "\n",
    "#* Load Classifier\n",
    "blr_12 = pth_raw+'20221107/blr_12.sav'\n",
    "blr_23 = pth_raw+'20221107/blr_23.sav'\n",
    "\n",
    "blr_12 = pickle.load(open(blr_12, 'rb'))\n",
    "blr_23 = pickle.load(open(blr_23, 'rb'))\n",
    "\n",
    "#* Load ECI parameters\n",
    "clf_1 = pth_raw+'20221107/clf_1.sav'\n",
    "clf_2 = pth_raw+'20221107/clf_2.sav'\n",
    "clf_3 = pth_raw+'20221107/clf_3.sav'\n",
    "\n",
    "clf_1 = pickle.load(open(clf_1, 'rb'))\n",
    "clf_2 = pickle.load(open(clf_2, 'rb'))\n",
    "clf_3 = pickle.load(open(clf_3, 'rb'))\n",
    "\n",
    "#* Load tensorboard\n",
    "date = '20221113'\n",
    "pth_tb = f'/media/wz/a7ee6d50-691d-431a-8efb-b93adc04896d/Github/MATools/CE_MC/runs/demo/{date}'\n",
    "writer = SummaryWriter(log_dir = pth_tb)\n",
    "\n",
    "energy_std, energy_mean = 1, 0\n",
    "\n",
    "config = ele_list_gen(1/4, 1/4, 1/4, 1/4, num_c=2048)\n",
    "iter_time= 10000\n",
    "temp = 1200\n",
    "k_ = 8.617333262e-5\n",
    "atom_num = 2048\n",
    "# energy_std = 1\n",
    "config_list = np.zeros((50, atom_num))\n",
    "e_list_store = np.zeros(50)\n",
    "sro_list_store = np.zeros((iter_time, 12))\n",
    "\n",
    "for i in range(iter_time):\n",
    "        # weight_config = norm_w(ce_e.cluster_extra(config).reshape(-1,1).T,\n",
    "        #                 weight_mean, weight_std)\n",
    "        config_tile = np.tile(config, 27) #* In 3*3*3 PBC space.\n",
    "        weight_config  = ce_e.cluster_extra(config_tile).reshape(-1,1).T\n",
    "\n",
    "        #* Prediction part\n",
    "        label = int(blr_12.predict(weight_config)[0])\n",
    "        if label == 0:\n",
    "                energy = (clf_1.predict(weight_config)*energy_std + energy_mean)[0]\n",
    "        else:\n",
    "                label_ = int(blr_23.predict(weight_config)[0])\n",
    "                if label_ == 0:\n",
    "                        energy = (clf_2.predict(weight_config)*energy_std + energy_mean)[0]\n",
    "                else:\n",
    "                        energy = (clf_3.predict(weight_config)*energy_std + energy_mean)[0]  \n",
    "\n",
    "        #* NN's prediction\n",
    "        # weight_config = torch.from_numpy(weight_config.astype(np.float32)).clone().to(device)\n",
    "        # energy = fc_(weight_config).cpu().detach().numpy()[0,0]*energy_std + energy_mean\n",
    "        energy *= atom_num\n",
    "        # e_list.append(energy)\n",
    "        config_list[i%50] = config\n",
    "        e_list_store[i%50] = energy\n",
    "        #* Extract SRO params of current config..\n",
    "        sro = sub_func_ce.sro_extra(ind_1nn, config, 0.25, 0.25, 0.25, 0.25)\n",
    "        sro_list_store[i%iter_time] = sro\n",
    "        \n",
    "        writer.add_scalar(f'Thermo-MC Energy (eV)', energy, i)\n",
    "        writer.add_scalar(f'SRO param/CrCr', sro[0], i)\n",
    "        writer.add_scalar(f'SRO param/MnMn', sro[1], i)\n",
    "        writer.add_scalar(f'SRO param/CoCo', sro[2], i)\n",
    "        writer.add_scalar(f'SRO param/NiNi', sro[3], i)\n",
    "        writer.add_scalar(f'SRO param/CrMn', sro[4], i)\n",
    "        writer.add_scalar(f'SRO param/CrCo', sro[5], i)\n",
    "        writer.add_scalar(f'SRO param/CrNi', sro[6], i)\n",
    "        writer.add_scalar(f'SRO param/MnCo', sro[7], i)\n",
    "        writer.add_scalar(f'SRO param/MnNi', sro[8], i)\n",
    "        writer.add_scalar(f'SRO param/CoNi', sro[9], i)\n",
    "\n",
    "        while True:\n",
    "                a_ind = randrange(len(ind_1nn))\n",
    "                action = ind_1nn[a_ind]\n",
    "                a1, a2 = config[action[0]], config[action[1]]\n",
    "                if a1 != a2:\n",
    "                        break\n",
    "\n",
    "        config_ = swap_step(action, config)\n",
    "\n",
    "        assert np.linalg.norm(np.sort(config_)-np.sort(config)) == 0, print(f'BUG in swap_step')\n",
    "        # weight_config_ = norm_w(ce_e.cluster_extra(config_).reshape(-1,1).T,\n",
    "        #                 weight_mean, weight_std)\n",
    "        config_tile_ = np.tile(config_, 27) #* In 3*3*3 PBC space.\n",
    "        weight_config_ = ce_e.cluster_extra(config_tile_).reshape(-1,1).T\n",
    "        #* NN's prediction\n",
    "        # weight_config_ = torch.from_numpy(weight_config_.astype(np.float32)).clone().to(device)\n",
    "        # energy_ = fc_(weight_config_).cpu().detach().numpy()[0,0]*energy_std + energy_mean\n",
    "        #* Prediction part\n",
    "        label = int(blr_12.predict(weight_config_)[0])\n",
    "        if label == 0:\n",
    "                energy_ = (clf_1.predict(weight_config_)*energy_std + energy_mean)[0]\n",
    "        else:\n",
    "                label_ = int(blr_23.predict(weight_config_)[0])\n",
    "                if label_ == 0:\n",
    "                        energy_ = (clf_2.predict(weight_config_)*energy_std + energy_mean)[0]\n",
    "                else:\n",
    "                        energy_ = (clf_3.predict(weight_config_)*energy_std + energy_mean)[0] \n",
    "\n",
    "        energy_ *= atom_num\n",
    "\n",
    "        accept = np.min([1, np.exp((energy-energy_)/(k_*temp))])\n",
    "        r_v = np.random.rand()\n",
    "        if r_v <= accept:\n",
    "                config = config_\n",
    "        else:\n",
    "                config = config\n",
    "\n",
    "        clear_output(True)\n",
    "        # plt.title(f'Iter num {i} at {temp} K')\n",
    "        # plt.plot(e_list)\n",
    "        # plt.show()"
   ]
  },
  {
   "cell_type": "code",
   "execution_count": 2,
   "metadata": {},
   "outputs": [
    {
     "data": {
      "text/plain": [
       "array([ 5.01481481e-01,  5.02962963e-01,  4.88148148e-01,  5.00000000e-01,\n",
       "        1.40740741e-02, -1.40740741e-02,  2.22222222e-03, -7.40740741e-04,\n",
       "        4.44444444e-03,  1.48148148e-03,  1.08000000e+04,  1.08000000e+04])"
      ]
     },
     "execution_count": 2,
     "metadata": {},
     "output_type": "execute_result"
    }
   ],
   "source": [
    "config = ele_list_gen(1/4, 1/4, 1/4, 1/4, num_c=2048)\n",
    "ind_1nn = np.load('/media/wz/7AD631A4D6316195/Projects/mc_pure_qua/fcc_2048/ind_1nn.npy')\n",
    "sub_func_ce.sro_extra(ind_1nn, config, 0.25, 0.25, 0.25, 0.25)"
   ]
  },
  {
   "cell_type": "code",
   "execution_count": 11,
   "metadata": {},
   "outputs": [
    {
     "data": {
      "image/png": "[encoded data removed]",
      "text/plain": [
       "<Figure size 432x288 with 1 Axes>"
      ]
     },
     "metadata": {
      "needs_background": "light"
     },
     "output_type": "display_data"
    }
   ],
   "source": [
    "%matplotlib inline\n",
    "from fitter import Fitter\n",
    "#* Check the distribution of energy\n",
    "for i in range(sro_list_store.shape[1]-2):\n",
    "    sro = sro_list_store[:,i]\n",
    "    plt.hist(sro, bins=100, alpha=0.4)\n",
    "\n",
    "plt.show()\n",
    "# f_pair = Fitter(mncr_list, distributions = ['norm'], timeout = 1500)\n",
    "# f_pair.fit()\n",
    "\n",
    "# print(f_pair.get_best())\n",
    "# f_pair.summary()"
   ]
  },
  {
   "cell_type": "code",
   "execution_count": 10,
   "metadata": {},
   "outputs": [],
   "source": [
    "np.save('/media/wz/a7ee6d50-691d-431a-8efb-b93adc04896d/Github/MATools/CE_MC/runs/demo/20221107/sro_1200.npy', sro_list_store)"
   ]
  },
  {
   "cell_type": "code",
   "execution_count": 12,
   "metadata": {},
   "outputs": [],
   "source": [
    "# sro_100 = np.load('/media/wz/a7ee6d50-691d-431a-8efb-b93adc04896d/Github/MATools/CE_MC/runs/demo/20221107/sro_100.npy')\n",
    "sro_400 = np.load('/media/wz/a7ee6d50-691d-431a-8efb-b93adc04896d/Github/MATools/CE_MC/runs/demo/20221107/sro_400.npy')\n",
    "sro_1200 = np.load('/media/wz/a7ee6d50-691d-431a-8efb-b93adc04896d/Github/MATools/CE_MC/runs/demo/20221107/sro_1200.npy')\n",
    "# sro_4000 = np.load('/media/wz/a7ee6d50-691d-431a-8efb-b93adc04896d/Github/MATools/CE_MC/runs/demo/20221107/sro_4000.npy')\n",
    "\n",
    "# sro_100_mean = np.mean(sro_100[1000:], 0).reshape(-1,1)\n",
    "sro_400_mean = np.mean(sro_400[1000:], 0).reshape(-1,1)\n",
    "sro_1200_mean = np.mean(sro_1200[1000:], 0).reshape(-1,1)\n",
    "# sro_4000_mean = np.mean(sro_4000[1000:], 0).reshape(-1,1)\n",
    "\n",
    "sro_mean = np.concatenate([sro_400_mean, sro_1200_mean], 1)"
   ]
  },
  {
   "cell_type": "code",
   "execution_count": 18,
   "metadata": {},
   "outputs": [
    {
     "data": {
      "image/png": "[encoded data removed]",
      "text/plain": [
       "<Figure size 360x1080 with 1 Axes>"
      ]
     },
     "metadata": {
      "needs_background": "light"
     },
     "output_type": "display_data"
    }
   ],
   "source": [
    "fig, ax = plt.subplots(figsize=(5, 15))\n",
    "\n",
    "for i in range(len(sro_400_mean)-2):\n",
    "    plt.plot(sro_mean[i])\n",
    "\n",
    "plt.ylim([-0.1, 0.6])\n",
    "plt.show()"
   ]
  },
  {
   "cell_type": "markdown",
   "metadata": {},
   "source": [
    "#### Analyzing CE estimations\n",
    "\n",
    "Results are following an order of \n",
    "\n",
    "a_crcr, a_mnmn, a_coco, a_nini, a_mncr, a_cocr, a_nicr, a_comn, a_nimn, a_nico"
   ]
  },
  {
   "cell_type": "code",
   "execution_count": 18,
   "metadata": {},
   "outputs": [
    {
     "data": {
      "text/plain": [
       "(12, 10)"
      ]
     },
     "execution_count": 18,
     "metadata": {},
     "output_type": "execute_result"
    }
   ],
   "source": [
    "sro_name = ['a_crcr', 'a_mnmn', 'a_coco', 'a_nini', 'a_mncr', 'a_cocr', 'a_nicr', 'a_comn', 'a_nimn', 'a_nico']\n",
    "temp_range = np.array([100, 200, 300, 400, 500, 800, 1000, 1200, 1600, 2400, 3200, 4800])\n",
    "sro_list = np.zeros((len(temp_range), 10)) #* Nx10\n",
    "pth_raw = '/media/wz/a7ee6d50-691d-431a-8efb-b93adc04896d/Github/MATools/CE_MC/runs/demo/20221101/'\n",
    "for i in range(len(temp_range)):\n",
    "    sro_list[i] = np.mean(np.load(pth_raw+f'sro_{temp_range[i]}.npy'), axis=0)\n",
    "\n",
    "sro_list.shape"
   ]
  },
  {
   "cell_type": "code",
   "execution_count": 20,
   "metadata": {},
   "outputs": [
    {
     "data": {
      "image/png": "[encoded data removed]",
      "text/plain": [
       "<Figure size 432x288 with 1 Axes>"
      ]
     },
     "metadata": {
      "needs_background": "light"
     },
     "output_type": "display_data"
    }
   ],
   "source": [
    "for i in range(10):\n",
    "    plt.plot(temp_range, sro_list[:, i], label=sro_name[i])\n",
    "\n",
    "plt.legend()\n",
    "plt.show()"
   ]
  }
 ],
 "metadata": {
  "kernelspec": {
   "display_name": "Python 3.9.7 ('base')",
   "language": "python",
   "name": "python3"
  },
  "language_info": {
   "codemirror_mode": {
    "name": "ipython",
    "version": 3
   },
   "file_extension": ".py",
   "mimetype": "text/x-python",
   "name": "python",
   "nbconvert_exporter": "python",
   "pygments_lexer": "ipython3",
   "version": "3.9.7"
  },
  "orig_nbformat": 4,
  "vscode": {
   "interpreter": {
    "hash": "68475d8e8ba7c27bff5b0c1dcce162ecdafd8f583568d2d03f898fe272d0ccc7"
   }
  }
 },
 "nbformat": 4,
 "nbformat_minor": 2
}
