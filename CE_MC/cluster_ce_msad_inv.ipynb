{
 "cells": [
  {
   "cell_type": "code",
   "execution_count": 1,
   "metadata": {},
   "outputs": [
    {
     "name": "stdout",
     "output_type": "stream",
     "text": [
      "[ 151.82222222 -120.02600541   75.91111111   94.88888889  -60.01300271\n",
      "   37.95555556] [ 73.95555556 -58.46700029  36.97777778  46.22222222 -29.23350015\n",
      "  18.48888889] [ 219.02222222 -173.1522701   109.51111111  136.88888889  -86.57613505\n",
      "   54.75555556] [106.66666667 -84.32740427  53.33333333  66.66666667 -42.16370214\n",
      "  26.66666667] [ 205.51111111 -162.4707989   102.75555556  128.44444444  -81.23539945\n",
      "   51.37777778] [ 51.2        -40.47715405  25.6         32.         -20.23857703\n",
      "  12.8       ]\n"
     ]
    }
   ],
   "source": [
    "import math\n",
    "import numpy as np \n",
    "import sub_func_ce\n",
    "from sub_func_ce import abs_dis, find_overlap\n",
    "import matplotlib.pyplot as plt\n",
    "from itertools import combinations\n",
    "from sklearn.model_selection import train_test_split\n",
    "from sklearn.linear_model import RidgeCV\n",
    "from sklearn.linear_model import BayesianRidge\n",
    "from sklearn.linear_model import LogisticRegression\n",
    "from sklearn.gaussian_process import GaussianProcessRegressor\n",
    "from sklearn.gaussian_process.kernels import DotProduct, WhiteKernel\n",
    "from sklearn import mixture\n",
    "from random import randrange\n",
    "from IPython.display import clear_output\n",
    "import os\n",
    "from matplotlib import cm\n",
    "import pickle\n",
    "from msad_ana import msad_ana_qua\n",
    "\n",
    "from torch.nn.utils import clip_grad_norm_\n",
    "import torch\n",
    "import torch.nn as nn\n",
    "import torch.nn.functional as F\n",
    "from torch.utils.data.sampler import BatchSampler, SubsetRandomSampler\n",
    "from torch.utils.tensorboard import SummaryWriter\n",
    "\n",
    "# %matplotlib widget\n",
    "%matplotlib inline\n",
    "\n",
    "def normal_dist(x, mu, std):\n",
    "    prob_density = (np.pi*std) * np.exp(-0.5*((x-mu)/std)**2)\n",
    "    return prob_density\n",
    "    \n",
    "def draw_3d(ind_raw):\n",
    "    ind_raw = np.array(ind_raw)\n",
    "    plt.rcParams[\"figure.figsize\"] = [5, 5]\n",
    "    # plt.rcParams[\"figure.autolayout\"] = True\n",
    "    fig = plt.figure()\n",
    "    ax = fig.add_subplot(111, projection='3d')\n",
    "    ax.scatter(ind_raw[:,0], ind_raw[:,1], ind_raw[:,2], alpha = 0.5, c = 'r')\n",
    "    plt.show()\n",
    "\n",
    "def ele_list_gen(cr_c, mn_c, co_c, ni_c, num_c, mode = 'randchoice'):\n",
    "    np.random.seed()\n",
    "\n",
    "    assert abs(cr_c + mn_c + co_c + ni_c - 1) < 0.001, 'Make sure atomic ratio sum to 1'\n",
    "\n",
    "    while True:\n",
    "        if mode == 'randchoice':\n",
    "            len_cr = randrange(int(cr_c*num_c),int(cr_c*num_c)+2)\n",
    "            len_mn = randrange(int(mn_c*num_c),int(mn_c*num_c)+2)\n",
    "            len_co = randrange(int(co_c*num_c),int(co_c*num_c)+2)\n",
    "        elif mode == 'int':\n",
    "            len_cr = int(cr_c*num_c)\n",
    "            len_mn = int(mn_c*num_c)\n",
    "            len_co = int(co_c*num_c)\n",
    "        \n",
    "        len_ni = num_c-len_cr-len_mn-len_co\n",
    "        if abs(len_ni-num_c*ni_c) <= 1:\n",
    "            break\n",
    "\n",
    "    ele_list_raw = np.concatenate([np.zeros(len_cr)+2,np.ones(len_mn),0-np.ones(len_co),-1-np.ones(len_ni)],axis=0)\n",
    "    np.random.shuffle(ele_list_raw)\n",
    "    \n",
    "    return ele_list_raw\n",
    "\n",
    "def swap_step(action, state,):\n",
    "\n",
    "    a1 = action[0]\n",
    "    a2 = action[1]\n",
    "\n",
    "    state[a2], state[a1] = state[a1], state[a2]\n",
    "\n",
    "    return state\n",
    "\n",
    "def create_dir(directory):\n",
    "    if not os.path.exists(directory):\n",
    "        os.makedirs(directory)\n",
    "        print(\"Created Directory : \", directory)\n",
    "    else:\n",
    "        print(\"Directory already existed : \", directory)\n",
    "    return directory\n",
    "\n",
    "class CE:\n",
    "    def __init__(self, ind_1nn, ind_2nn, ind_3nn, ind_4nn, \n",
    "                ind_qua1nn, ind_qua1nn2nn,\n",
    "                ind_trip1nn, ind_trip1nn2nn, ind_trip1nn2nn3nn,\n",
    "                ind_1nn_pbc, ind_2nn_pbc, ind_3nn_pbc, ind_4nn_pbc, \n",
    "                ind_qua1nn_pbc, ind_qua1nn2nn_pbc, \n",
    "                ind_trip1nn_pbc, ind_trip1nn2nn_pbc, ind_trip1nn2nn3nn_pbc,\n",
    "                ind_raw,):\n",
    "\n",
    "        #* Inner of 32-atom config.\n",
    "        self.ind_1nn = ind_1nn\n",
    "        self.ind_2nn = ind_2nn\n",
    "        self.ind_3nn = ind_3nn\n",
    "        self.ind_4nn = ind_4nn\n",
    "        self.ind_qua1nn = ind_qua1nn\n",
    "        self.ind_qua1nn2nn = ind_qua1nn2nn\n",
    "        self.ind_trip1nn = ind_trip1nn\n",
    "        self.ind_trip1nn2nn = ind_trip1nn2nn\n",
    "        self.ind_trip1nn2nn3nn = ind_trip1nn2nn3nn\n",
    "\n",
    "        #* Cluster on boundary of primary config.\n",
    "        self.ind_1nn_pbc = ind_1nn_pbc\n",
    "        self.ind_2nn_pbc = ind_2nn_pbc\n",
    "        self.ind_3nn_pbc = ind_3nn_pbc\n",
    "        self.ind_4nn_pbc = ind_4nn_pbc\n",
    "        self.ind_qua1nn_pbc = ind_qua1nn_pbc\n",
    "        self.ind_qua1nn2nn_pbc = ind_qua1nn2nn_pbc\n",
    "        self.ind_trip1nn_pbc = ind_trip1nn_pbc\n",
    "        self.ind_trip1nn2nn_pbc = ind_trip1nn2nn_pbc\n",
    "        self.ind_trip1nn2nn3nn_pbc = ind_trip1nn2nn3nn_pbc\n",
    "\n",
    "        self.ind_raw = ind_raw\n",
    "        # self.ind_pbc = ind_pbc\n",
    "\n",
    "        self.sym_oplist = np.array([2, 1, 1, 0, 6, 0, 4, 12, 24])\n",
    "        self.sym_optri = np.array([6, 3, 1])\n",
    "        self.sym_opqua = np.array([0, 0, 1, 0, 0, 0, 2, 0, 4])\n",
    "\n",
    "    #*Normalizaiton by the symmetry operation for each cluster\n",
    "    def sym_operator(self, cluster, mode='None'):\n",
    "        if mode == 'None':\n",
    "            mode_cluster = len(cluster)\n",
    "            uni, count_uni = np.unique(cluster, return_counts=True)\n",
    "            len_uni = len(uni)\n",
    "            count_uni = np.sort(count_uni)\n",
    "            mode_sym = mode_cluster - len(uni)\n",
    "            sym_op = self.sym_oplist[mode_sym+mode_cluster-2]\n",
    "\n",
    "        if mode == 'tri1nn':\n",
    "            mode_cluster = len(cluster)\n",
    "            uni, count_uni = np.unique(cluster, return_counts=True)\n",
    "            len_uni = len(uni)\n",
    "            mode_sym = mode_cluster - len(uni)\n",
    "            sym_op = self.sym_optri[mode_sym]\n",
    "        \n",
    "        if mode == 'qua1nn':\n",
    "            uni, count_uni = np.unique(cluster, return_counts=True)\n",
    "            len_uni = len(uni)\n",
    "            count_uni = np.sort(count_uni)\n",
    "            len_count = len(count_uni)\n",
    "            c_ind = len_uni+len_count+count_uni[-1]-count_uni[0]\n",
    "            sym_op = self.sym_oplist[c_ind]\n",
    "\n",
    "        if mode == 'qua1nn2nn':\n",
    "            uni, count_uni = np.unique(cluster, return_counts=True)\n",
    "            len_uni = len(uni)\n",
    "            count_uni = np.sort(count_uni)\n",
    "            len_count = len(count_uni)\n",
    "            c_ind = len_uni+len_count+count_uni[-1]-count_uni[0]\n",
    "            single_list = np.array([2, 6, 8])\n",
    "            if c_ind in single_list:\n",
    "                sym_op = self.sym_opqua[c_ind]\n",
    "            else:\n",
    "                if c_ind == 4:\n",
    "                    if len(np.unique(cluster[:2])) == 2:\n",
    "                        sym_op = 4\n",
    "                    else:\n",
    "                        sym_op = 1\n",
    "\n",
    "                elif c_ind == 7:\n",
    "                    if len(np.unique(cluster[:2])) == 2 and len(np.unique(cluster[2:4])) == 2:\n",
    "                        sym_op = 4\n",
    "                    else:\n",
    "                        sym_op = 2\n",
    "\n",
    "        return sym_op\n",
    "\n",
    "    def phi1(self, x):\n",
    "        return 2/math.sqrt(10)*x\n",
    "\n",
    "    def phi2(self, x):\n",
    "        return -5/3 + 2/3*(x**2)\n",
    "\n",
    "    def phi3(self, x):\n",
    "        return -17/30*math.sqrt(10)*x + math.sqrt(10)/6*(x**3)\n",
    "    \n",
    "    #*Return the correlation function for each cluster\n",
    "    def cpr(self, val_list):\n",
    "        p1l = self.phi1(val_list).reshape(-1, 1)\n",
    "        p2l = self.phi2(val_list).reshape(-1, 1)\n",
    "        p3l = self.phi3(val_list).reshape(-1, 1)\n",
    "        pl = np.concatenate([p1l, p2l, p3l], 1).T\n",
    "        c_len = len(val_list)\n",
    "        atom = 1\n",
    "        for i in range(c_len):\n",
    "            atom_1 = pl[:, i]\n",
    "            atom = np.outer(atom_1, atom)\n",
    "\n",
    "        return atom.flatten()\n",
    "\n",
    "    def cluster_extra(self, config):\n",
    "        '''\n",
    "        Config in PBC must be in N*27 form.\n",
    "        '''\n",
    "        cpr_1nn = 0\n",
    "        for i in self.ind_1nn:\n",
    "            a1, a2 = config[i[0]], config[i[1]]\n",
    "            cluster = np.array([a1, a2])\n",
    "            cpr_1nn += self.cpr(cluster)/self.sym_operator(cluster)\n",
    "\n",
    "        for i in self.ind_1nn_pbc:\n",
    "            a1, a2 = config[i[0]], config[i[1]]\n",
    "            cluster = np.array([a1, a2])\n",
    "            cpr_1nn += self.cpr(cluster)/self.sym_operator(cluster)       \n",
    "        \n",
    "        cpr_1nn /= (len(self.ind_1nn)+len(self.ind_1nn_pbc))\n",
    "\n",
    "        cpr_2nn = 0\n",
    "        for i in self.ind_2nn:\n",
    "            a1, a2 = config[i[0]], config[i[1]]\n",
    "            cluster = np.array([a1, a2])\n",
    "            cpr_2nn += self.cpr(cluster)/self.sym_operator(cluster)\n",
    "\n",
    "        for i in self.ind_2nn_pbc:\n",
    "            a1, a2 = config[i[0]], config[i[1]]\n",
    "            cluster = np.array([a1, a2])\n",
    "            cpr_2nn += self.cpr(cluster)/self.sym_operator(cluster)\n",
    "\n",
    "        cpr_2nn /= (len(self.ind_2nn)+len(self.ind_2nn_pbc))\n",
    "        \n",
    "        cpr_3nn = 0\n",
    "        for i in self.ind_3nn:\n",
    "            a1, a2 = config[i[0]], config[i[1]]\n",
    "            cluster = np.array([a1, a2])\n",
    "            cpr_3nn += self.cpr(cluster)/self.sym_operator(cluster)\n",
    "\n",
    "        for i in self.ind_3nn_pbc:\n",
    "            a1, a2 = config[i[0]], config[i[1]]\n",
    "            cluster = np.array([a1, a2])\n",
    "            cpr_3nn += self.cpr(cluster)/self.sym_operator(cluster)\n",
    "\n",
    "        cpr_3nn /= (len(self.ind_3nn)+len(self.ind_3nn_pbc))\n",
    "\n",
    "        cpr_4nn = 0\n",
    "        for i in self.ind_4nn:\n",
    "            a1, a2 = config[i[0]], config[i[1]]\n",
    "            cluster = np.array([a1, a2])\n",
    "            cpr_4nn += self.cpr(cluster)/self.sym_operator(cluster)\n",
    "\n",
    "        for i in self.ind_4nn_pbc:\n",
    "            a1, a2 = config[i[0]], config[i[1]]\n",
    "            cluster = np.array([a1, a2])\n",
    "            cpr_4nn += self.cpr(cluster)/self.sym_operator(cluster)\n",
    "\n",
    "        cpr_4nn /= (len(self.ind_4nn)+len(self.ind_4nn_pbc))\n",
    "            \n",
    "        cpr_tri1nn = 0\n",
    "        for i in self.ind_trip1nn:\n",
    "            a1, a2, a3 = config[i[0]], config[i[1]], config[i[2]]\n",
    "            cluster = np.array([a1, a2, a3])\n",
    "            cpr_tri1nn += self.cpr(cluster)/self.sym_operator(cluster, mode='tri1nn')\n",
    "\n",
    "        for i in self.ind_trip1nn_pbc:\n",
    "            a1, a2, a3 = config[i[0]], config[i[1]], config[i[2]]\n",
    "            cluster = np.array([a1, a2, a3])\n",
    "            cpr_tri1nn += self.cpr(cluster)/self.sym_operator(cluster, mode='tri1nn')\n",
    "\n",
    "        cpr_tri1nn /= (len(self.ind_trip1nn)+len(self.ind_trip1nn_pbc))\n",
    "\n",
    "        cpr_tri1nn2nn = 0\n",
    "        for i in self.ind_trip1nn2nn:\n",
    "            a1, a2, a3 = config[i[0]], config[i[1]], config[i[2]]\n",
    "            cluster = np.array([a1, a2, a3])\n",
    "            #* Symmetry operation will be doen only in AAB form\n",
    "            if (a1 == a2 and a1 != a3) or (a1 == a3 and a1 != a2):\n",
    "                cpr_tri1nn2nn += self.cpr(cluster)/2\n",
    "            else:\n",
    "                cpr_tri1nn2nn += self.cpr(cluster)\n",
    "\n",
    "        for i in self.ind_trip1nn2nn_pbc:\n",
    "            a1, a2, a3 = config[i[0]], config[i[1]], config[i[2]]\n",
    "            cluster = np.array([a1, a2, a3])\n",
    "            #* Symmetry operation will be doen only in AAB form\n",
    "            if (a1 == a2 and a1 != a3) or (a1 == a3 and a1 != a2):\n",
    "                cpr_tri1nn2nn += self.cpr(cluster)/2\n",
    "            else:\n",
    "                cpr_tri1nn2nn += self.cpr(cluster)\n",
    "\n",
    "        cpr_tri1nn2nn /= (len(self.ind_trip1nn2nn)+len(self.ind_trip1nn2nn_pbc))\n",
    "\n",
    "        cpr_tri1nn2nn3nn = 0\n",
    "        for i in self.ind_trip1nn2nn3nn:\n",
    "            a1, a2, a3 = config[i[0]], config[i[1]], config[i[2]]\n",
    "            cluster = np.array([a1, a2, a3])\n",
    "            cpr_tri1nn2nn3nn += self.cpr(cluster)\n",
    "\n",
    "        for i in self.ind_trip1nn2nn3nn_pbc:\n",
    "            a1, a2, a3 = config[i[0]], config[i[1]], config[i[2]]\n",
    "            cluster = np.array([a1, a2, a3])\n",
    "            cpr_tri1nn2nn3nn += self.cpr(cluster)\n",
    "\n",
    "        cpr_tri1nn2nn3nn /= (len(self.ind_trip1nn2nn3nn)+len(self.ind_trip1nn2nn3nn_pbc))\n",
    "\n",
    "        #!Consider the operation in qua later\n",
    "        cpr_qua1nn = 0\n",
    "        for i in self.ind_qua1nn:\n",
    "            a1, a2, a3, a4 = config[i[0]], config[i[1]], config[i[2]], config[i[3]]\n",
    "            cluster = np.array([a1, a2, a3, a4])\n",
    "            cpr_qua1nn += self.cpr(cluster)/self.sym_operator(cluster, mode='qua1nn')\n",
    "\n",
    "        for i in self.ind_qua1nn_pbc:\n",
    "            a1, a2, a3, a4 = config[i[0]], config[i[1]], config[i[2]], config[i[3]]\n",
    "            cluster = np.array([a1, a2, a3, a4])\n",
    "            cpr_qua1nn += self.cpr(cluster)/self.sym_operator(cluster, mode='qua1nn')\n",
    "\n",
    "        cpr_qua1nn /= (len(self.ind_qua1nn) + len(self.ind_qua1nn_pbc))\n",
    "\n",
    "        cpr_qua1nn2nn = 0\n",
    "        for i in self.ind_qua1nn2nn:\n",
    "            a1, a2, a3, a4 = config[i[0]], config[i[1]], config[i[2]], config[i[3]]\n",
    "            cluster = np.array([a1, a2, a3, a4])\n",
    "            cpr_qua1nn2nn += self.cpr(cluster)/self.sym_operator(cluster, mode='qua1nn2nn')\n",
    "\n",
    "        for i in self.ind_qua1nn2nn_pbc:\n",
    "            a1, a2, a3, a4 = config[i[0]], config[i[1]], config[i[2]], config[i[3]]\n",
    "            cluster = np.array([a1, a2, a3, a4])\n",
    "            cpr_qua1nn2nn += self.cpr(cluster)/self.sym_operator(cluster, mode='qua1nn2nn')\n",
    "\n",
    "        cpr_qua1nn2nn /= (len(self.ind_qua1nn2nn)+len(self.ind_qua1nn2nn_pbc))\n",
    "\n",
    "        return np.concatenate([\n",
    "            cpr_1nn, cpr_2nn, cpr_3nn, cpr_4nn,\n",
    "            cpr_tri1nn, cpr_tri1nn2nn, cpr_tri1nn2nn3nn,\n",
    "            cpr_qua1nn, cpr_qua1nn2nn,\n",
    "        ], 0)\n",
    "\n",
    "    def config_extra(self, num_cell, ind_cr, ind_mn, ind_co, ind_ni):\n",
    "        ele_list = np.zeros(num_cell)\n",
    "        overlap_cr = find_overlap(self.ind_raw, ind_cr)\n",
    "        overlap_mn = find_overlap(self.ind_raw, ind_mn)\n",
    "        overlap_co = find_overlap(self.ind_raw, ind_co)\n",
    "        overlap_ni = find_overlap(self.ind_raw, ind_ni)\n",
    "\n",
    "        ele_list[np.where(overlap_cr)[0]] = 2\n",
    "        ele_list[np.where(overlap_mn)[0]] = 1\n",
    "        ele_list[np.where(overlap_co)[0]] = -1\n",
    "        ele_list[np.where(overlap_ni)[0]] = -2\n",
    "\n",
    "        #* Embedding form in PBC\n",
    "        ele_list = np.tile(ele_list, 27)\n",
    "        cpr_list = self.cluster_extra(ele_list)\n",
    "\n",
    "        return cpr_list\n",
    "\n",
    "    def read(self, incar_dir):\n",
    "        with open(incar_dir) as f:\n",
    "            input_strip = [s.strip() for s in f.readlines()]\n",
    "        return input_strip"
   ]
  },
  {
   "cell_type": "code",
   "execution_count": 5,
   "metadata": {},
   "outputs": [
    {
     "data": {
      "text/plain": [
       "array([[0.  , 0.  , 0.  ],\n",
       "       [0.  , 0.  , 0.5 ],\n",
       "       [0.  , 0.25, 0.25],\n",
       "       [0.  , 0.25, 0.75],\n",
       "       [0.  , 0.5 , 0.  ],\n",
       "       [0.  , 0.5 , 0.5 ],\n",
       "       [0.  , 0.75, 0.25],\n",
       "       [0.  , 0.75, 0.75],\n",
       "       [0.25, 0.  , 0.25],\n",
       "       [0.25, 0.  , 0.75],\n",
       "       [0.25, 0.25, 0.  ],\n",
       "       [0.25, 0.25, 0.5 ],\n",
       "       [0.25, 0.5 , 0.25],\n",
       "       [0.25, 0.5 , 0.75],\n",
       "       [0.25, 0.75, 0.  ],\n",
       "       [0.25, 0.75, 0.5 ],\n",
       "       [0.5 , 0.  , 0.  ],\n",
       "       [0.5 , 0.  , 0.5 ],\n",
       "       [0.5 , 0.25, 0.25],\n",
       "       [0.5 , 0.25, 0.75],\n",
       "       [0.5 , 0.5 , 0.  ],\n",
       "       [0.5 , 0.5 , 0.5 ],\n",
       "       [0.5 , 0.75, 0.25],\n",
       "       [0.5 , 0.75, 0.75],\n",
       "       [0.75, 0.  , 0.25],\n",
       "       [0.75, 0.  , 0.75],\n",
       "       [0.75, 0.25, 0.  ],\n",
       "       [0.75, 0.25, 0.5 ],\n",
       "       [0.75, 0.5 , 0.25],\n",
       "       [0.75, 0.5 , 0.75],\n",
       "       [0.75, 0.75, 0.  ],\n",
       "       [0.75, 0.75, 0.5 ]])"
      ]
     },
     "execution_count": 5,
     "metadata": {},
     "output_type": "execute_result"
    }
   ],
   "source": [
    "\n",
    "ind_raw"
   ]
  },
  {
   "cell_type": "code",
   "execution_count": 11,
   "metadata": {},
   "outputs": [
    {
     "data": {
      "text/plain": [
       "array([[-2.        , -0.7394139 ,  0.34944312, -1.01688043],\n",
       "       [ 1.        , -1.28076414,  4.14163702, -4.3215453 ],\n",
       "       [ 2.        ,  1.75067446,  2.81332293,  0.33553692],\n",
       "       [ 2.        ,  5.23398028, -4.01093797, -2.73126994],\n",
       "       [-2.        ,  2.70426133, -1.27655135, -0.47531938],\n",
       "       [-2.        , -0.74575957, -0.13372986,  1.27558891],\n",
       "       [ 2.        , -0.59251752, -3.10965998,  2.31174346],\n",
       "       [-1.        , -0.18856985, -1.36491054, -0.31069899],\n",
       "       [-2.        , -1.32316406,  0.47653675,  1.09174853],\n",
       "       [-1.        , -1.59722968, -1.24483685, -2.37363945],\n",
       "       [ 1.        ,  0.35036532,  0.84593346,  3.21223543],\n",
       "       [-1.        , -0.93026763, -0.39496019,  1.26856184],\n",
       "       [ 1.        ,  0.99976563,  1.48337735,  0.65133076],\n",
       "       [-2.        , -0.94097137,  0.03818798,  1.34199059],\n",
       "       [-2.        , -2.45860845,  0.22281053, -0.65670022],\n",
       "       [-1.        ,  3.27207295,  0.27224108,  3.90054122],\n",
       "       [-2.        ,  2.1273005 ,  1.65801129, -3.28093925],\n",
       "       [ 2.        , -7.29027641, -0.19035882,  2.24158834],\n",
       "       [ 1.        ,  2.99890096, -1.76159644,  3.74155062],\n",
       "       [-1.        , -1.89306125, -1.59952519,  0.25570485],\n",
       "       [ 1.        , -1.0943012 ,  4.58008335, -4.54510398],\n",
       "       [-1.        ,  1.92180908,  0.24971133, -2.29139718],\n",
       "       [-2.        ,  1.43892006, -0.60407599, -0.25537497],\n",
       "       [ 2.        , -1.04737556, -4.79584752,  1.61869325],\n",
       "       [ 2.        , -2.58583235,  2.76557827,  5.4732447 ],\n",
       "       [ 1.        , -0.9252635 , -1.46909142, -5.02554704],\n",
       "       [ 2.        , -3.47472027,  4.86750522, -2.81307684],\n",
       "       [-1.        ,  0.47881096, -1.05570582, -0.33728417],\n",
       "       [ 1.        , -3.63110358,  1.58853584,  0.64436686],\n",
       "       [-1.        ,  2.17366889,  0.83726041,  1.60494358],\n",
       "       [ 2.        ,  3.75891438, -2.50046112, -1.05502895],\n",
       "       [ 1.        ,  3.52975549, -1.67792687,  0.52043624]])"
      ]
     },
     "execution_count": 11,
     "metadata": {},
     "output_type": "execute_result"
    }
   ],
   "source": [
    "\n",
    "cont_dir=f'/media/wz/7AD631A4D6316195/Projects/MSAD/outputs_32_crmnconi/Struc/CONTCAR1'\n",
    "pos_dir=f'/media/wz/7AD631A4D6316195/Projects/MSAD/outputs_32_crmnconi/Struc/POSCAR1'\n",
    "\n",
    "lattice_param = 3.512\n",
    "cell_num = 2\n",
    "atom_num = 32\n",
    "ele_list = np.zeros((atom_num, 4))\n",
    "param = msad_ana_qua(cont_dir, pos_dir, lattice_param, cell_num)\n",
    "ind_raw = np.load('/media/wz/7AD631A4D6316195/Projects/mc_pure_qua/fcc_32/ind_raw32.npy')\n",
    "cr_coord = param['Cr_coord']/lattice_param/cell_num\n",
    "mn_coord = param['Mn_coord']/lattice_param/cell_num\n",
    "co_coord = param['Co_coord']/lattice_param/cell_num\n",
    "ni_coord = param['Ni_coord']/lattice_param/cell_num\n",
    "embed_list = np.concatenate([\n",
    "    np.ones(len(cr_coord))*2,\n",
    "    np.ones(len(mn_coord)),\n",
    "    -np.ones(len(co_coord)),\n",
    "    -np.ones(len(ni_coord))*2\n",
    "]).reshape(-1,1)\n",
    "res_coord = param['Residual']*100 #* Convert to pm\n",
    "\n",
    "ind_cr = np.where(find_overlap(ind_raw, cr_coord))[0]\n",
    "ind_mn = np.where(find_overlap(ind_raw, mn_coord))[0]\n",
    "ind_co = np.where(find_overlap(ind_raw, co_coord))[0]\n",
    "ind_ni = np.where(find_overlap(ind_raw, ni_coord))[0]\n",
    "ind_all = np.concatenate([ind_cr, ind_mn, ind_co, ind_ni]).reshape(-1,1)\n",
    "\n",
    "ind_embed = np.concatenate([embed_list, ind_all], axis=1)\n",
    "\n",
    "for i in range(atom_num):\n",
    "    part_embed = ind_embed[i]\n",
    "    #* Index in element list\n",
    "    ind = int(part_embed[1])\n",
    "    specie = part_embed[0]\n",
    "    \n",
    "    ele_list[ind][0] = specie\n",
    "    ele_list[ind][1:] = res_coord[i]\n",
    "\n",
    "ele_list"
   ]
  },
  {
   "cell_type": "code",
   "execution_count": 8,
   "metadata": {},
   "outputs": [
    {
     "data": {
      "text/plain": [
       "array([[0., 0., 0., 0., 0., 0., 0., 0., 0., 0., 0., 0., 0., 0., 0., 0.,\n",
       "        0., 0., 0., 0., 0., 0., 0., 0., 0., 0., 0., 0., 0., 0., 0., 0.],\n",
       "       [0., 0., 0., 0., 0., 0., 0., 0., 0., 0., 0., 0., 0., 0., 0., 0.,\n",
       "        0., 0., 0., 0., 0., 0., 0., 0., 0., 0., 0., 0., 0., 0., 0., 0.],\n",
       "       [0., 0., 0., 0., 0., 0., 0., 0., 0., 0., 0., 0., 0., 0., 0., 0.,\n",
       "        0., 0., 0., 0., 0., 0., 0., 0., 0., 0., 0., 0., 0., 0., 0., 0.],\n",
       "       [0., 0., 0., 0., 0., 0., 0., 0., 0., 0., 0., 0., 0., 0., 0., 0.,\n",
       "        0., 0., 0., 0., 0., 0., 0., 0., 0., 0., 0., 0., 0., 0., 0., 0.]])"
      ]
     },
     "execution_count": 8,
     "metadata": {},
     "output_type": "execute_result"
    }
   ],
   "source": [
    "np.zeros((4, 32))"
   ]
  },
  {
   "cell_type": "code",
   "execution_count": 2,
   "metadata": {},
   "outputs": [
    {
     "name": "stdout",
     "output_type": "stream",
     "text": [
      "31.09934625\n"
     ]
    },
    {
     "data": {
      "text/plain": [
       "(array([ 2.,  2.,  0.,  0.,  2.,  4.,  4.,  5.,  6.,  9.,  4.,  6.,  7.,\n",
       "        10.,  6.,  5., 10., 10., 13., 14., 13., 11.,  7., 19., 18., 18.,\n",
       "        22., 12.,  8., 19., 11., 13., 12.,  6.,  9.,  9.,  5., 10.,  5.,\n",
       "         6.,  5.,  3.,  3.,  3.,  4.,  3.,  1.,  5.,  3.,  3.,  3.,  0.,\n",
       "         2.,  0.,  0.,  0.,  1.,  0.,  1.,  0.,  0.,  0.,  0.,  0.,  0.,\n",
       "         1.,  0.,  1.,  0.,  0.,  0.,  0.,  0.,  2.,  1.,  0.,  0.,  0.,\n",
       "         0.,  1.,  0.,  0.,  0.,  0.,  0.,  0.,  0.,  0.,  0.,  0.,  0.,\n",
       "         0.,  0.,  1.,  0.,  0.,  0.,  0.,  0.,  1.]),\n",
       " array([ 3.50048568,  3.57467322,  3.64886076,  3.72304831,  3.79723585,\n",
       "         3.87142339,  3.94561093,  4.01979848,  4.09398602,  4.16817356,\n",
       "         4.2423611 ,  4.31654864,  4.39073619,  4.46492373,  4.53911127,\n",
       "         4.61329881,  4.68748636,  4.7616739 ,  4.83586144,  4.91004898,\n",
       "         4.98423652,  5.05842407,  5.13261161,  5.20679915,  5.28098669,\n",
       "         5.35517424,  5.42936178,  5.50354932,  5.57773686,  5.6519244 ,\n",
       "         5.72611195,  5.80029949,  5.87448703,  5.94867457,  6.02286212,\n",
       "         6.09704966,  6.1712372 ,  6.24542474,  6.31961228,  6.39379983,\n",
       "         6.46798737,  6.54217491,  6.61636245,  6.69055   ,  6.76473754,\n",
       "         6.83892508,  6.91311262,  6.98730016,  7.06148771,  7.13567525,\n",
       "         7.20986279,  7.28405033,  7.35823787,  7.43242542,  7.50661296,\n",
       "         7.5808005 ,  7.65498804,  7.72917559,  7.80336313,  7.87755067,\n",
       "         7.95173821,  8.02592575,  8.1001133 ,  8.17430084,  8.24848838,\n",
       "         8.32267592,  8.39686347,  8.47105101,  8.54523855,  8.61942609,\n",
       "         8.69361363,  8.76780118,  8.84198872,  8.91617626,  8.9903638 ,\n",
       "         9.06455135,  9.13873889,  9.21292643,  9.28711397,  9.36130151,\n",
       "         9.43548906,  9.5096766 ,  9.58386414,  9.65805168,  9.73223923,\n",
       "         9.80642677,  9.88061431,  9.95480185, 10.02898939, 10.10317694,\n",
       "        10.17736448, 10.25155202, 10.32573956, 10.3999271 , 10.47411465,\n",
       "        10.54830219, 10.62248973, 10.69667727, 10.77086482, 10.84505236,\n",
       "        10.9192399 ]),\n",
       " <BarContainer object of 100 artists>)"
      ]
     },
     "execution_count": 2,
     "metadata": {},
     "output_type": "execute_result"
    },
    {
     "data": {
      "image/png": "[encoded data removed]",
      "text/plain": [
       "<Figure size 432x288 with 1 Axes>"
      ]
     },
     "metadata": {
      "needs_background": "light"
     },
     "output_type": "display_data"
    }
   ],
   "source": [
    "msad_list = []\n",
    "for i in range(1, 401):\n",
    "    cont_dir=f'/media/wz/7AD631A4D6316195/Projects/MSAD/outputs_32_crmnconi/Struc/CONTCAR{i}'\n",
    "    pos_dir=f'/media/wz/7AD631A4D6316195/Projects/MSAD/outputs_32_crmnconi/Struc/POSCAR{i}'\n",
    "\n",
    "    msad_list.append(msad_ana_qua(cont_dir, pos_dir, 3.512, 2)['MSAD'])\n",
    "\n",
    "print(np.mean(msad_list))\n",
    "msad_list = np.sqrt(np.array(msad_list))\n",
    "plt.hist(msad_list, bins=100)"
   ]
  },
  {
   "cell_type": "markdown",
   "metadata": {},
   "source": [
    "#### Generating the datasets"
   ]
  },
  {
   "cell_type": "code",
   "execution_count": 3,
   "metadata": {},
   "outputs": [],
   "source": [
    "#* Deducing step\n",
    "ind_1nn = np.load('/media/wz/7AD631A4D6316195/Projects/mc_pure_qua/fcc_32/ind_1nn.npy')\n",
    "ind_2nn = np.load('/media/wz/7AD631A4D6316195/Projects/mc_pure_qua/fcc_32/ind_2nn.npy')\n",
    "ind_3nn = np.load('/media/wz/7AD631A4D6316195/Projects/mc_pure_qua/fcc_32/ind_3nn.npy')\n",
    "ind_4nn = np.load('/media/wz/7AD631A4D6316195/Projects/mc_pure_qua/fcc_32/ind_4nn.npy')\n",
    "ind_qua1nn = np.load('/media/wz/7AD631A4D6316195/Projects/mc_pure_qua/fcc_32/ind_qua1nn.npy')\n",
    "ind_qua1nn2nn = np.load('/media/wz/7AD631A4D6316195/Projects/mc_pure_qua/fcc_32/ind_qua1nn2nn.npy')\n",
    "ind_trip1nn = np.load('/media/wz/7AD631A4D6316195/Projects/mc_pure_qua/fcc_32/ind_trip1nn.npy')\n",
    "ind_trip1nn2nn = np.load('/media/wz/7AD631A4D6316195/Projects/mc_pure_qua/fcc_32/ind_trip1nn2nn.npy')\n",
    "ind_trip1nn2nn3nn = np.load('/media/wz/7AD631A4D6316195/Projects/mc_pure_qua/fcc_32/ind_trip1nn2nn3nn.npy')\n",
    "\n",
    "ind_1nn_pbc = np.load('/media/wz/7AD631A4D6316195/Projects/mc_pure_qua/fcc_32/ind_1nn_pbc.npy')\n",
    "ind_2nn_pbc = np.load('/media/wz/7AD631A4D6316195/Projects/mc_pure_qua/fcc_32/ind_2nn_pbc.npy')\n",
    "ind_3nn_pbc = np.load('/media/wz/7AD631A4D6316195/Projects/mc_pure_qua/fcc_32/ind_3nn_pbc.npy')\n",
    "ind_4nn_pbc = np.load('/media/wz/7AD631A4D6316195/Projects/mc_pure_qua/fcc_32/ind_4nn_pbc.npy')\n",
    "ind_qua1nn_pbc = np.load('/media/wz/7AD631A4D6316195/Projects/mc_pure_qua/fcc_32/ind_qua1nn_pbc.npy')\n",
    "ind_qua1nn2nn_pbc = np.load('/media/wz/7AD631A4D6316195/Projects/mc_pure_qua/fcc_32/ind_qua1nn2nn_pbc.npy')\n",
    "ind_trip1nn_pbc = np.load('/media/wz/7AD631A4D6316195/Projects/mc_pure_qua/fcc_32/ind_trip1nn_pbc.npy')\n",
    "ind_trip1nn2nn_pbc = np.load('/media/wz/7AD631A4D6316195/Projects/mc_pure_qua/fcc_32/ind_trip1nn2nn_pbc.npy')\n",
    "ind_trip1nn2nn3nn_pbc = np.load('/media/wz/7AD631A4D6316195/Projects/mc_pure_qua/fcc_32/ind_trip1nn2nn3nn_pbc.npy')\n",
    "\n",
    "ind_raw = np.load('/media/wz/7AD631A4D6316195/Projects/mc_pure_qua/fcc_32/ind_raw32.npy')\n",
    "\n",
    "weight_list, energy = [], []\n",
    "ce_ = CE(ind_1nn, ind_2nn, ind_3nn, ind_4nn, \n",
    "        ind_qua1nn, ind_qua1nn2nn, \n",
    "        ind_trip1nn, ind_trip1nn2nn, ind_trip1nn2nn3nn,\n",
    "        ind_1nn_pbc, ind_2nn_pbc, ind_3nn_pbc, ind_4nn_pbc, \n",
    "        ind_qua1nn_pbc, ind_qua1nn2nn_pbc, \n",
    "        ind_trip1nn_pbc, ind_trip1nn2nn_pbc, ind_trip1nn2nn3nn_pbc,\n",
    "        ind_raw)\n",
    "atom_num = 32\n",
    "\n",
    "for i in range(1, 401):\n",
    "    ind_cr = np.load(f'/media/wz/7AD631A4D6316195/Projects/mc_pure_qua/252525/Cr25Mn25Co25Ni2532_try{i}/Cr25Mn25Co25Ni25_cr_chosen.npy')\n",
    "    ind_mn = np.load(f'/media/wz/7AD631A4D6316195/Projects/mc_pure_qua/252525/Cr25Mn25Co25Ni2532_try{i}/Cr25Mn25Co25Ni25_mn_chosen.npy')\n",
    "    ind_co = np.load(f'/media/wz/7AD631A4D6316195/Projects/mc_pure_qua/252525/Cr25Mn25Co25Ni2532_try{i}/Cr25Mn25Co25Ni25_co_chosen.npy')\n",
    "    ind_ni = np.load(f'/media/wz/7AD631A4D6316195/Projects/mc_pure_qua/252525/Cr25Mn25Co25Ni2532_try{i}/Cr25Mn25Co25Ni25_ni_chosen.npy')\n",
    "\n",
    "    #* Free energy\n",
    "    osz_dir = f'/media/wz/7AD631A4D6316195/Projects/MSAD/outputs_32_crmnconi/Cr25Mn25Co25Ni25_3.512_try{i}/OSZICAR'\n",
    "    oszicar = ce_.read(osz_dir)[-1]\n",
    "    # e_ground = float(''.join(oszicar).split()[-6]) \n",
    "\n",
    "    #* Extract cluster info.\n",
    "    ce_feature = ce_.config_extra(atom_num, ind_cr, ind_mn, ind_co, ind_ni)\n",
    "\n",
    "    weight_list.append(ce_feature)\n",
    "    # energy.append(e_ground)\n",
    "\n",
    "weight_list = np.array(weight_list) #* Per atom\n",
    "\n",
    "#* Normalization\n",
    "# energy_min, energy_max = np.min(energy), np.max(energy)\n",
    "# energy_std = np.std(energy)\n",
    "# energy_mean = np.mean(energy)\n",
    "# energy = (energy - energy_mean) / energy_std\n",
    "\n",
    "# weight_std = np.std(weight_list, axis=0)\n",
    "# weight_mean = np.mean(weight_list, axis=0)\n",
    "# weight_list = (weight_list - weight_mean) / weight_std\n",
    "\n",
    "# device = torch.device(\"cuda:0\" if torch.cuda.is_available() else \"cpu\")\n",
    "device = torch.device(\"cpu\")\n",
    "weight_list = torch.from_numpy(weight_list.astype(np.float32)).clone()\n",
    "# energy = torch.from_numpy(energy.astype(np.float32)).clone()\n",
    "weight_list = weight_list.to(device)\n",
    "# energy = energy.reshape(-1,1).to(device)"
   ]
  },
  {
   "cell_type": "markdown",
   "metadata": {},
   "source": [
    "##### Visualization of energy distribution"
   ]
  },
  {
   "cell_type": "code",
   "execution_count": 20,
   "metadata": {},
   "outputs": [
    {
     "name": "stdout",
     "output_type": "stream",
     "text": [
      "{'gamma': {'a': 13.974722405113548, 'loc': -8.068869730968498, 'scale': 0.023117726123996103}}\n"
     ]
    },
    {
     "data": {
      "text/html": [
       "<div>\n",
       "<style scoped>\n",
       "    .dataframe tbody tr th:only-of-type {\n",
       "        vertical-align: middle;\n",
       "    }\n",
       "\n",
       "    .dataframe tbody tr th {\n",
       "        vertical-align: top;\n",
       "    }\n",
       "\n",
       "    .dataframe thead th {\n",
       "        text-align: right;\n",
       "    }\n",
       "</style>\n",
       "<table border=\"1\" class=\"dataframe\">\n",
       "  <thead>\n",
       "    <tr style=\"text-align: right;\">\n",
       "      <th></th>\n",
       "      <th>sumsquare_error</th>\n",
       "      <th>aic</th>\n",
       "      <th>bic</th>\n",
       "      <th>kl_div</th>\n",
       "    </tr>\n",
       "  </thead>\n",
       "  <tbody>\n",
       "    <tr>\n",
       "      <th>gamma</th>\n",
       "      <td>1007.286244</td>\n",
       "      <td>311.712893</td>\n",
       "      <td>388.110119</td>\n",
       "      <td>inf</td>\n",
       "    </tr>\n",
       "  </tbody>\n",
       "</table>\n",
       "</div>"
      ],
      "text/plain": [
       "       sumsquare_error         aic         bic  kl_div\n",
       "gamma      1007.286244  311.712893  388.110119     inf"
      ]
     },
     "execution_count": 20,
     "metadata": {},
     "output_type": "execute_result"
    },
    {
     "data": {
      "image/png": "[encoded data removed]",
      "text/plain": [
       "<Figure size 432x288 with 1 Axes>"
      ]
     },
     "metadata": {
      "needs_background": "light"
     },
     "output_type": "display_data"
    }
   ],
   "source": [
    "%matplotlib inline\n",
    "from fitter import Fitter\n",
    "#* Check the distribution of energy\n",
    "energy_hist = energy.clone().cpu().numpy().flatten()\n",
    "valy_pair = np.array([round(i, 3) for i in energy_hist])\n",
    "f_pair = Fitter(valy_pair, distributions = ['gamma'], timeout = 1500)\n",
    "f_pair.fit()\n",
    "\n",
    "print(f_pair.get_best())\n",
    "f_pair.summary()"
   ]
  },
  {
   "cell_type": "markdown",
   "metadata": {},
   "source": [
    "##### A GMM implementation for determining the **Energy cluster**\n",
    "\n",
    "From a statistical mechanics' perspective, each independent distribution of $F$ can be regarded as an energy basin representing a distinct ***configurational state***   $\\Omega_a$."
   ]
  },
  {
   "cell_type": "code",
   "execution_count": 21,
   "metadata": {},
   "outputs": [
    {
     "data": {
      "text/plain": [
       "(array([ 2.,  2.,  2.,  0.,  1.,  0.,  1.,  0.,  0.,  1.,  5.,  2.,  3.,\n",
       "         5., 10.,  8., 13.,  7., 11.,  5.,  3.,  1.,  2.,  1.,  0.,  0.,\n",
       "         2.,  2.,  4.,  6.,  3., 10.,  9.,  7., 11., 13.,  7.,  5.,  5.,\n",
       "         2.,  5.,  1.,  0.,  1.,  0.,  1.]),\n",
       " array([-7.753458 , -7.7513847, -7.7493114, -7.747238 , -7.745165 ,\n",
       "        -7.743091 , -7.741018 , -7.7389445, -7.7368712, -7.734798 ,\n",
       "        -7.7327247, -7.7306514, -7.728578 , -7.726505 , -7.724431 ,\n",
       "        -7.7223577, -7.7202845, -7.718211 , -7.716138 , -7.7140646,\n",
       "        -7.7119913, -7.709918 , -7.7078447, -7.7057714, -7.7036977,\n",
       "        -7.7016244, -7.699551 , -7.697478 , -7.6954045, -7.6933312,\n",
       "        -7.691258 , -7.6891847, -7.6871114, -7.6850376, -7.6829643,\n",
       "        -7.680891 , -7.6788177, -7.6767445, -7.674671 , -7.672598 ,\n",
       "        -7.6705246, -7.6684513, -7.6663775, -7.6643043, -7.662231 ,\n",
       "        -7.6601577, -7.6580844], dtype=float32),\n",
       " <BarContainer object of 46 artists>)"
      ]
     },
     "execution_count": 21,
     "metadata": {},
     "output_type": "execute_result"
    },
    {
     "data": {
      "image/png": "[encoded data removed]",
      "text/plain": [
       "<Figure size 432x288 with 1 Axes>"
      ]
     },
     "metadata": {
      "needs_background": "light"
     },
     "output_type": "display_data"
    }
   ],
   "source": [
    "vbgmm = mixture.BayesianGaussianMixture(n_components=3, n_init=4, random_state=0,\n",
    "    max_iter=1000,)\n",
    "energy_gmm = energy_hist.reshape(-1,1)\n",
    "vbgmm.fit(energy_gmm)\n",
    "\n",
    "labels = vbgmm.predict(energy_gmm)\n",
    "e_gmm1 = energy_hist[np.where(labels==0)[0]]\n",
    "e_gmm2 = energy_hist[np.where(labels==1)[0]]\n",
    "e_gmm3 = energy_hist[np.where(labels==2)[0]]\n",
    "# e_gmm4 = energy_hist[np.where(labels==3)[0]]\n",
    "\n",
    "len_all = len(labels)\n",
    "plt.hist(e_gmm1, bins=int(len(e_gmm1)/len_all*100))\n",
    "plt.hist(e_gmm2, bins=int(len(e_gmm2)/len_all*100))\n",
    "# plt.hist(e_gmm3, bins=int(len(e_gmm3)/len_all*100))\n",
    "# plt.hist(e_gmm4, bins=int(len_all/len(e_gmm4)*100))"
   ]
  },
  {
   "cell_type": "code",
   "execution_count": 10,
   "metadata": {},
   "outputs": [
    {
     "data": {
      "text/plain": [
       "(array([-7.78690279, -7.72149139, -7.68259521]),\n",
       " array([1.50798284e-04, 1.43727679e-04, 7.41424368e-05]))"
      ]
     },
     "execution_count": 10,
     "metadata": {},
     "output_type": "execute_result"
    }
   ],
   "source": [
    "mu = np.load('/media/wz/a7ee6d50-691d-431a-8efb-b93adc04896d/Github/MATools/CE_MC/runs/energy_mu.npy')\n",
    "std = np.load('/media/wz/a7ee6d50-691d-431a-8efb-b93adc04896d/Github/MATools/CE_MC/runs/energy_std.npy')\n",
    "mu, std"
   ]
  },
  {
   "cell_type": "markdown",
   "metadata": {},
   "source": [
    "Choose ind 1 & 2"
   ]
  },
  {
   "cell_type": "code",
   "execution_count": 22,
   "metadata": {},
   "outputs": [
    {
     "data": {
      "text/plain": [
       "(array([2., 0., 2., 0., 0., 3., 1., 2., 3., 1., 2., 1., 0., 5., 6., 2., 4.,\n",
       "        2., 4., 3., 3., 5., 3., 5., 5., 3., 4., 3., 3., 1., 2., 4., 0., 1.,\n",
       "        0., 1., 2., 2., 1., 1., 0., 0., 0., 0., 0., 1., 0., 0., 0., 0., 0.,\n",
       "        1.]),\n",
       " array([-7.698757 , -7.697975 , -7.6971927, -7.6964107, -7.6956286,\n",
       "        -7.694846 , -7.694064 , -7.693282 , -7.6924996, -7.6917176,\n",
       "        -7.6909356, -7.690153 , -7.689371 , -7.688589 , -7.6878066,\n",
       "        -7.6870246, -7.6862426, -7.68546  , -7.684678 , -7.683896 ,\n",
       "        -7.6831136, -7.6823316, -7.6815495, -7.680767 , -7.679985 ,\n",
       "        -7.679203 , -7.678421 , -7.6776385, -7.6768565, -7.6760745,\n",
       "        -7.675292 , -7.67451  , -7.673728 , -7.6729455, -7.6721635,\n",
       "        -7.6713815, -7.670599 , -7.669817 , -7.669035 , -7.6682525,\n",
       "        -7.6674705, -7.6666884, -7.665906 , -7.665124 , -7.664342 ,\n",
       "        -7.6635594, -7.6627774, -7.6619954, -7.661213 , -7.660431 ,\n",
       "        -7.659649 , -7.6588664, -7.6580844], dtype=float32),\n",
       " <BarContainer object of 52 artists>)"
      ]
     },
     "execution_count": 22,
     "metadata": {},
     "output_type": "execute_result"
    },
    {
     "data": {
      "image/png": "[encoded data removed]",
      "text/plain": [
       "<Figure size 432x288 with 1 Axes>"
      ]
     },
     "metadata": {
      "needs_background": "light"
     },
     "output_type": "display_data"
    }
   ],
   "source": [
    "vbgmm = mixture.BayesianGaussianMixture(n_components=2, n_init=4, \n",
    "    max_iter=1000, random_state=0,) \n",
    "e_gmm2_ = e_gmm2.reshape(-1,1)\n",
    "vbgmm.fit(e_gmm2_)\n",
    "\n",
    "labels = vbgmm.predict(e_gmm2_)\n",
    "e_gmm2_1 = e_gmm2[np.where(labels==0)[0]]\n",
    "e_gmm2_2 = e_gmm2[np.where(labels==1)[0]]\n",
    "\n",
    "len_all = len(e_gmm2)\n",
    "plt.hist(e_gmm2_1, bins=int(len(e_gmm2_1)/len_all*100))\n",
    "plt.hist(e_gmm2_2, bins=int(len(e_gmm2_2)/len_all*100))"
   ]
  },
  {
   "cell_type": "code",
   "execution_count": 22,
   "metadata": {},
   "outputs": [],
   "source": [
    "mu_list = np.array([mu1, mu2, mu3])\n",
    "std_list = np.array([std1, std2, std3])\n",
    "pth='/media/wz/a7ee6d50-691d-431a-8efb-b93adc04896d/Github/MATools/CE_MC/runs'\n",
    "np.save(pth+'/energy_mu', mu_list)\n",
    "np.save(pth+'/energy_std', std_list)"
   ]
  },
  {
   "cell_type": "markdown",
   "metadata": {},
   "source": [
    "##### Use dist.'s params for predicting energy labels of input config."
   ]
  },
  {
   "cell_type": "code",
   "execution_count": 23,
   "metadata": {},
   "outputs": [],
   "source": [
    "energy_label = np.zeros(len(energy_hist))\n",
    "\n",
    "for i in range(len(energy_hist)):\n",
    "    prob_ = normal_dist(energy_hist[i], mu_list, np.sqrt(std_list))\n",
    "    if np.max(prob_) < 1e-15:\n",
    "        energy_label[i] = 3 #* Treat such prob. as abnormal\n",
    "    else:\n",
    "        energy_label[i] = np.argmax(prob_)\n",
    "\n",
    "ind_e1 = np.where(energy_label==0)[0]\n",
    "ind_e2 = np.where(energy_label==1)[0]\n",
    "ind_e3 = np.where(energy_label==2)[0]"
   ]
  },
  {
   "cell_type": "markdown",
   "metadata": {},
   "source": [
    "##### A logistic regression analysis for predicting the **energy label** of input configs.\n",
    "\n",
    "Detailed prediction is taken by tree search."
   ]
  },
  {
   "cell_type": "code",
   "execution_count": 31,
   "metadata": {},
   "outputs": [],
   "source": [
    "weight_e_ = weight_list.clone().cpu().numpy()\n",
    "weight_e1 = weight_e_[ind_e1]\n",
    "weight_e2 = weight_e_[ind_e2]\n",
    "weight_e3 = weight_e_[ind_e3]\n",
    "len_data = len(weight_e_)\n",
    "\n",
    "weight_e_ = np.concatenate([weight_e1, weight_e2, weight_e3], 0)\n",
    "#* Seperate 1 & 2+3\n",
    "label_e_12 = np.concatenate([np.zeros(len(ind_e1)), np.ones(len(ind_e2)+len(ind_e3)),], 0)\n",
    "\n",
    "elabel_train, elabel_test, eweight_train, eweight_test = train_test_split(\n",
    "    label_e_12, weight_e_, test_size=0.1)"
   ]
  },
  {
   "cell_type": "code",
   "execution_count": 33,
   "metadata": {},
   "outputs": [
    {
     "data": {
      "image/png": "[encoded data removed]",
      "text/plain": [
       "<Figure size 432x288 with 1 Axes>"
      ]
     },
     "metadata": {
      "needs_background": "light"
     },
     "output_type": "display_data"
    }
   ],
   "source": [
    "class_weight_12 = {0:len(ind_e1)/len_data, 1:len(ind_e2)/len_data+len(ind_e3)/len_data}\n",
    "\n",
    "logr_12 = LogisticRegression(C=2000, max_iter=10000, class_weight=class_weight_12,\n",
    "    multi_class='ovr').fit(eweight_train, elabel_train)\n",
    "label_test_pre = logr_12.predict(eweight_test)\n",
    "\n",
    "res_label = np.abs(elabel_test-label_test_pre)\n",
    "len_true = len(np.where(res_label==0)[0])\n",
    "\n",
    "plt.scatter(np.arange(len(elabel_test)), np.abs(elabel_test-label_test_pre))\n",
    "plt.title(f'Accuracy: {int(len_true/len(elabel_test)*100)} %')\n",
    "\n",
    "plt.show()"
   ]
  },
  {
   "cell_type": "code",
   "execution_count": 32,
   "metadata": {},
   "outputs": [
    {
     "data": {
      "text/plain": [
       "[<matplotlib.lines.Line2D at 0x7fa9b2dfdee0>]"
      ]
     },
     "execution_count": 32,
     "metadata": {},
     "output_type": "execute_result"
    },
    {
     "data": {
      "image/png": "[encoded data removed]",
      "text/plain": [
       "<Figure size 432x288 with 1 Axes>"
      ]
     },
     "metadata": {
      "needs_background": "light"
     },
     "output_type": "display_data"
    }
   ],
   "source": [
    "c_list = np.linspace(1e-2, 1e4, 1000)\n",
    "acc_list = []\n",
    "for c in c_list:\n",
    "    logr_12 = LogisticRegression(C=c, max_iter=10000, class_weight=class_weight_12,\n",
    "        multi_class='ovr').fit(eweight_train, elabel_train)\n",
    "    label_test_pre = logr_12.predict(eweight_test)\n",
    "\n",
    "    res_label = np.abs(elabel_test-label_test_pre)\n",
    "    len_true = len(np.where(res_label==0)[0])\n",
    "    acc = int(len_true/len(elabel_test)*100)\n",
    "    acc_list.append(acc)\n",
    "\n",
    "plt.plot(c_list, acc_list)"
   ]
  },
  {
   "cell_type": "code",
   "execution_count": 34,
   "metadata": {},
   "outputs": [],
   "source": [
    "\n",
    "#* Seperate 2 & 3\n",
    "weight_e_23 = np.concatenate([weight_e2, weight_e3], 0)\n",
    "label_e_23 = np.concatenate([np.zeros(len(ind_e2)), np.ones(len(ind_e3)),], 0)\n",
    "\n",
    "elabel_train, elabel_test, eweight_train, eweight_test = train_test_split(\n",
    "    label_e_23, weight_e_23, test_size=0.1)"
   ]
  },
  {
   "cell_type": "code",
   "execution_count": 37,
   "metadata": {},
   "outputs": [
    {
     "data": {
      "image/png": "[encoded data removed]",
      "text/plain": [
       "<Figure size 432x288 with 1 Axes>"
      ]
     },
     "metadata": {
      "needs_background": "light"
     },
     "output_type": "display_data"
    }
   ],
   "source": [
    "class_weight_23 = {0:len(ind_e2)/len_data, 1:len(ind_e3)/len_data}\n",
    "\n",
    "logr_23 = LogisticRegression(C=300, max_iter=10000, class_weight=class_weight_23,\n",
    "    multi_class='ovr').fit(eweight_train, elabel_train)\n",
    "label_test_pre = logr_23.predict(eweight_test)\n",
    "\n",
    "res_label = np.abs(elabel_test-label_test_pre)\n",
    "len_true = len(np.where(res_label==0)[0])\n",
    "\n",
    "plt.scatter(np.arange(len(elabel_test)), np.abs(elabel_test-label_test_pre))\n",
    "plt.title(f'Accuracy: {int(len_true/len(elabel_test)*100)} %')\n",
    "\n",
    "plt.show()"
   ]
  },
  {
   "cell_type": "code",
   "execution_count": 36,
   "metadata": {},
   "outputs": [
    {
     "data": {
      "text/plain": [
       "[<matplotlib.lines.Line2D at 0x7fa9a45f26a0>]"
      ]
     },
     "execution_count": 36,
     "metadata": {},
     "output_type": "execute_result"
    },
    {
     "data": {
      "image/png": "[encoded data removed]",
      "text/plain": [
       "<Figure size 432x288 with 1 Axes>"
      ]
     },
     "metadata": {
      "needs_background": "light"
     },
     "output_type": "display_data"
    }
   ],
   "source": [
    "c_list = np.linspace(1e-2, 2e3, 1000)\n",
    "acc_list = []\n",
    "for c in c_list:\n",
    "    logr_23 = LogisticRegression(C=c, max_iter=10000, class_weight=class_weight_23,\n",
    "        multi_class='ovr').fit(eweight_train, elabel_train)\n",
    "    label_test_pre = logr_23.predict(eweight_test)\n",
    "\n",
    "    res_label = np.abs(elabel_test-label_test_pre)\n",
    "    len_true = len(np.where(res_label==0)[0])\n",
    "    acc = int(len_true/len(elabel_test)*100)\n",
    "    acc_list.append(acc)\n",
    "\n",
    "plt.plot(c_list, acc_list)"
   ]
  },
  {
   "cell_type": "markdown",
   "metadata": {},
   "source": [
    "Save classifier 1&2+3 and 2&3"
   ]
  },
  {
   "cell_type": "code",
   "execution_count": 38,
   "metadata": {},
   "outputs": [
    {
     "name": "stdout",
     "output_type": "stream",
     "text": [
      "Created Directory :  /media/wz/a7ee6d50-691d-431a-8efb-b93adc04896d/Github/MATools/CE_MC/runs/demo/20221107\n"
     ]
    }
   ],
   "source": [
    "import pickle\n",
    "date = '20221107'\n",
    "pth_lr = '/media/wz/a7ee6d50-691d-431a-8efb-b93adc04896d/Github/MATools/CE_MC/runs/demo/'\n",
    "create_dir(pth_lr+date)\n",
    "name_12 = '/blr_12.sav'\n",
    "pickle.dump(logr_12, open(pth_lr+date+name_12, 'wb'))\n",
    "name_23 = '/blr_23.sav'\n",
    "pickle.dump(logr_23, open(pth_lr+date+name_23, 'wb'))"
   ]
  },
  {
   "cell_type": "markdown",
   "metadata": {},
   "source": [
    "##### LR analysis for mapping CF to E\n",
    "\n",
    "and save the LR param."
   ]
  },
  {
   "cell_type": "code",
   "execution_count": 39,
   "metadata": {},
   "outputs": [
    {
     "name": "stdout",
     "output_type": "stream",
     "text": [
      "Directory already existed :  /media/wz/a7ee6d50-691d-431a-8efb-b93adc04896d/Github/MATools/CE_MC/runs/demo/20221107\n"
     ]
    }
   ],
   "source": [
    "e_1 = energy_hist[ind_e1]\n",
    "e_2 = energy_hist[ind_e2]\n",
    "e_3 = energy_hist[ind_e3]\n",
    "\n",
    "clf_1 = BayesianRidge().fit(weight_e1, e_1)\n",
    "clf_2 = BayesianRidge().fit(weight_e2, e_2)\n",
    "clf_3 = BayesianRidge().fit(weight_e3, e_3)\n",
    "\n",
    "date = '20221107'\n",
    "pth_lr = '/media/wz/a7ee6d50-691d-431a-8efb-b93adc04896d/Github/MATools/CE_MC/runs/demo/'\n",
    "create_dir(pth_lr+date)\n",
    "name_1 = '/clf_1.sav'\n",
    "pickle.dump(clf_1, open(pth_lr+date+name_1, 'wb'))\n",
    "name_2 = '/clf_2.sav'\n",
    "pickle.dump(clf_2, open(pth_lr+date+name_2, 'wb'))\n",
    "name_3 = '/clf_3.sav'\n",
    "pickle.dump(clf_3, open(pth_lr+date+name_3, 'wb'))"
   ]
  },
  {
   "cell_type": "markdown",
   "metadata": {},
   "source": [
    "Find the optimal set of clusters"
   ]
  },
  {
   "cell_type": "code",
   "execution_count": 112,
   "metadata": {},
   "outputs": [
    {
     "data": {
      "text/plain": [
       "(1000,)"
      ]
     },
     "execution_count": 112,
     "metadata": {},
     "output_type": "execute_result"
    }
   ],
   "source": [
    "msad_list.shape"
   ]
  },
  {
   "cell_type": "code",
   "execution_count": 141,
   "metadata": {},
   "outputs": [
    {
     "data": {
      "text/plain": [
       "36.18699289587543"
      ]
     },
     "execution_count": 141,
     "metadata": {},
     "output_type": "execute_result"
    }
   ],
   "source": [
    "res_list = []\n",
    "for i in range(100):\n",
    "    msad_train, msad_test, weight_train, weight_test = train_test_split(\n",
    "        torch.from_numpy(msad_list).clone().reshape(-1,1), weight_list, test_size=0.05)\n",
    "    \n",
    "    #*Linear regression\n",
    "    weight_train_, msad_train_ = weight_train.clone(), msad_train.clone()\n",
    "    weight_test_, msad_test_ = weight_test.clone(), msad_test.clone()\n",
    "\n",
    "    clf_ = BayesianRidge().fit(weight_train.detach().cpu().numpy(), msad_train.detach().cpu().numpy().flatten())\n",
    "    msad_predict_lr = clf_.predict(weight_test.detach().cpu().numpy())\n",
    "\n",
    "    res = msad_predict_lr-msad_test.numpy().flatten()\n",
    "    res_list += (res.tolist())\n",
    "\n",
    "np.linalg.norm(res_list)"
   ]
  },
  {
   "cell_type": "markdown",
   "metadata": {},
   "source": [
    "Seperate the datasets."
   ]
  },
  {
   "cell_type": "code",
   "execution_count": 7,
   "metadata": {},
   "outputs": [],
   "source": [
    "msad_train, msad_test, weight_train, weight_test = train_test_split(\n",
    "    torch.from_numpy(msad_list).clone().reshape(-1,1), weight_list, test_size=0.05)"
   ]
  },
  {
   "cell_type": "code",
   "execution_count": null,
   "metadata": {},
   "outputs": [],
   "source": [
    "#*Linear regression\n",
    "weight_train_, msad_train_ = weight_train.clone(), msad_train.clone()\n",
    "weight_test_, msad_test_ = weight_test.clone(), msad_test.clone()\n",
    "\n",
    "#* Bayesian Ridge LR\n",
    "clf_ = BayesianRidge().fit(weight_train_.detach().cpu().numpy(), msad_train_.detach().cpu().numpy().flatten())\n",
    "msad_predict_lr = clf_.predict(weight_test_.detach().cpu().numpy())"
   ]
  },
  {
   "cell_type": "code",
   "execution_count": 8,
   "metadata": {},
   "outputs": [],
   "source": [
    "#*Linear regression\n",
    "weight_train_, msad_train_ = weight_train.clone(), msad_train.clone()\n",
    "weight_test_, msad_test_ = weight_test.clone(), msad_test.clone()\n",
    "\n",
    "#* Gaussian Process regression\n",
    "kernel = DotProduct() + WhiteKernel()\n",
    "gpr = GaussianProcessRegressor(kernel=kernel,\n",
    "    random_state=0).fit(weight_train_.detach().cpu().numpy(), msad_train_.detach().cpu().numpy().flatten())\n",
    "msad_predict_lr = gpr.predict(weight_test_.detach().cpu().numpy())"
   ]
  },
  {
   "cell_type": "code",
   "execution_count": 9,
   "metadata": {},
   "outputs": [
    {
     "data": {
      "text/plain": [
       "[<matplotlib.lines.Line2D at 0x7f1c88530df0>]"
      ]
     },
     "execution_count": 9,
     "metadata": {},
     "output_type": "execute_result"
    },
    {
     "data": {
      "image/png": "[encoded data removed]",
      "text/plain": [
       "<Figure size 432x288 with 1 Axes>"
      ]
     },
     "metadata": {
      "needs_background": "light"
     },
     "output_type": "display_data"
    }
   ],
   "source": [
    "plt.plot(msad_predict_lr-msad_test.numpy().flatten())"
   ]
  },
  {
   "cell_type": "code",
   "execution_count": 11,
   "metadata": {},
   "outputs": [
    {
     "name": "stdout",
     "output_type": "stream",
     "text": [
      "Directory already existed :  /media/wz/a7ee6d50-691d-431a-8efb-b93adc04896d/Github/MATools/CE_MC/runs/demo/20221119\n"
     ]
    }
   ],
   "source": [
    "import pickle\n",
    "date = '20221119'\n",
    "pth_lr = '/media/wz/a7ee6d50-691d-431a-8efb-b93adc04896d/Github/MATools/CE_MC/runs/demo/'\n",
    "create_dir(pth_lr+date)\n",
    "name = '/gpr_msad.sav'\n",
    "pickle.dump(gpr, open(pth_lr+date+name, 'wb'))"
   ]
  },
  {
   "cell_type": "code",
   "execution_count": 12,
   "metadata": {},
   "outputs": [
    {
     "data": {
      "text/plain": [
       "torch.Size([20, 279])"
      ]
     },
     "execution_count": 12,
     "metadata": {},
     "output_type": "execute_result"
    }
   ],
   "source": [
    "weight_test.shape"
   ]
  },
  {
   "cell_type": "markdown",
   "metadata": {},
   "source": [
    "To calculate the **TURE** MSAD in randomized states?\n",
    "\n",
    "1. Generate configs without constraints.\n",
    "\n",
    "2. Put those configs into CE prediction.\n",
    "\n",
    "3. The outputs must follow a distribution that represents the latent dist. at 0 K.\n",
    "\n",
    "Then take **ensemble average** of outputs to obtain $MSAD^{1/2}$."
   ]
  },
  {
   "cell_type": "code",
   "execution_count": 21,
   "metadata": {},
   "outputs": [
    {
     "name": "stdout",
     "output_type": "stream",
     "text": [
      "6.360689253661201\n"
     ]
    },
    {
     "data": {
      "text/plain": [
       "(array([  1.,   0.,   0.,   0.,   0.,   0.,   2.,   1.,   4.,   6.,   7.,\n",
       "          7.,  15.,  22.,  23.,  39.,  36.,  47.,  58.,  70.,  99., 112.,\n",
       "        105., 139., 100., 117., 116., 120., 112., 102.,  93.,  86.,  56.,\n",
       "         51.,  57.,  49.,  29.,  28.,  13.,  16.,  10.,  17.,   9.,   5.,\n",
       "         11.,   6.,   1.,   1.,   0.,   2.]),\n",
       " array([3.54928007, 3.65675362, 3.76422716, 3.87170071, 3.97917425,\n",
       "        4.0866478 , 4.19412134, 4.30159489, 4.40906843, 4.51654198,\n",
       "        4.62401552, 4.73148907, 4.83896261, 4.94643616, 5.0539097 ,\n",
       "        5.16138325, 5.26885679, 5.37633034, 5.48380388, 5.59127743,\n",
       "        5.69875097, 5.80622452, 5.91369806, 6.02117161, 6.12864515,\n",
       "        6.2361187 , 6.34359224, 6.45106579, 6.55853933, 6.66601288,\n",
       "        6.77348642, 6.88095997, 6.98843351, 7.09590706, 7.2033806 ,\n",
       "        7.31085415, 7.41832769, 7.52580124, 7.63327478, 7.74074833,\n",
       "        7.84822187, 7.95569542, 8.06316896, 8.1706425 , 8.27811605,\n",
       "        8.38558959, 8.49306314, 8.60053668, 8.70801023, 8.81548377,\n",
       "        8.92295732]),\n",
       " <BarContainer object of 50 artists>)"
      ]
     },
     "execution_count": 21,
     "metadata": {},
     "output_type": "execute_result"
    },
    {
     "data": {
      "image/png": "[encoded data removed]",
      "text/plain": [
       "<Figure size 432x288 with 1 Axes>"
      ]
     },
     "metadata": {
      "needs_background": "light"
     },
     "output_type": "display_data"
    }
   ],
   "source": [
    "ele_list_predict, weight_list = [], []\n",
    "for i in range(2000):\n",
    "    ele_list = ele_list_gen(0.45, 0, 0.275, 0.275, 32)\n",
    "    ele_list_predict.append(ele_list.tolist())\n",
    "    weight_list.append(ce_.cluster_extra(np.tile(ele_list, 27)))\n",
    "\n",
    "msad_list = gpr.predict(weight_list)\n",
    "print(np.mean(msad_list))\n",
    "plt.hist(msad_list, bins=50)"
   ]
  },
  {
   "cell_type": "markdown",
   "metadata": {},
   "source": [
    "#### Fit the ECI based on **NN**"
   ]
  },
  {
   "cell_type": "code",
   "execution_count": 71,
   "metadata": {},
   "outputs": [],
   "source": [
    "#* FC part\n",
    "def layer_init(layer, std=np.sqrt(2), bias_const=0.0):\n",
    "    torch.nn.init.orthogonal_(layer.weight, std)\n",
    "    torch.nn.init.constant_(layer.bias, bias_const)\n",
    "    return layer\n",
    "\n",
    "class fc(nn.Module):\n",
    "    def __init__(self, state_dim):\n",
    "        super(fc, self).__init__()\n",
    "\n",
    "        self.state_dim = state_dim\n",
    "        self.output = nn.Sequential(\n",
    "            nn.Linear(state_dim, 128),\n",
    "            nn.ReLU(),\n",
    "            nn.Dropout(0.25),\n",
    "            nn.Linear(128, 128),\n",
    "            nn.ReLU(),\n",
    "            nn.Dropout(0.25),\n",
    "            nn.Linear(128, 1),\n",
    "        )\n",
    "\n",
    "    def forward(self, s_a):\n",
    "        \n",
    "        e_ = self.output(s_a)\n",
    "\n",
    "        return e_"
   ]
  },
  {
   "cell_type": "code",
   "execution_count": 59,
   "metadata": {},
   "outputs": [],
   "source": [
    "msad_test = msad_test.float()\n",
    "msad_train = msad_train.float()\n",
    "weight_test = weight_test.float()\n",
    "weight_train = weight_train.float()"
   ]
  },
  {
   "cell_type": "code",
   "execution_count": 72,
   "metadata": {},
   "outputs": [
    {
     "ename": "KeyboardInterrupt",
     "evalue": "",
     "output_type": "error",
     "traceback": [
      "\u001b[0;31m---------------------------------------------------------------------------\u001b[0m",
      "\u001b[0;31mKeyboardInterrupt\u001b[0m                         Traceback (most recent call last)",
      "\u001b[0;32m/tmp/ipykernel_338633/2653200978.py\u001b[0m in \u001b[0;36m<module>\u001b[0;34m\u001b[0m\n\u001b[1;32m     21\u001b[0m     \u001b[0mweight_train_\u001b[0m \u001b[0;34m=\u001b[0m \u001b[0mweight_train\u001b[0m\u001b[0;34m\u001b[0m\u001b[0;34m\u001b[0m\u001b[0m\n\u001b[1;32m     22\u001b[0m     \u001b[0mmsad_train_\u001b[0m \u001b[0;34m=\u001b[0m \u001b[0mmsad_train\u001b[0m\u001b[0;34m\u001b[0m\u001b[0;34m\u001b[0m\u001b[0m\n\u001b[0;32m---> 23\u001b[0;31m     \u001b[0mmsad_out_train\u001b[0m \u001b[0;34m=\u001b[0m \u001b[0mfc_\u001b[0m\u001b[0;34m(\u001b[0m\u001b[0mweight_train_\u001b[0m\u001b[0;34m)\u001b[0m\u001b[0;34m\u001b[0m\u001b[0;34m\u001b[0m\u001b[0m\n\u001b[0m\u001b[1;32m     24\u001b[0m     \u001b[0mmsad_tar_train\u001b[0m \u001b[0;34m=\u001b[0m \u001b[0mmsad_train_\u001b[0m\u001b[0;34m\u001b[0m\u001b[0;34m\u001b[0m\u001b[0m\n\u001b[1;32m     25\u001b[0m     \u001b[0mmsad_loss_train\u001b[0m \u001b[0;34m=\u001b[0m \u001b[0mmse_loss\u001b[0m\u001b[0;34m(\u001b[0m\u001b[0mmsad_out_train\u001b[0m\u001b[0;34m,\u001b[0m \u001b[0mmsad_tar_train\u001b[0m\u001b[0;34m)\u001b[0m\u001b[0;34m\u001b[0m\u001b[0;34m\u001b[0m\u001b[0m\n",
      "\u001b[0;32m~/anaconda3/lib/python3.9/site-packages/torch/nn/modules/module.py\u001b[0m in \u001b[0;36m_call_impl\u001b[0;34m(self, *input, **kwargs)\u001b[0m\n\u001b[1;32m   1108\u001b[0m         if not (self._backward_hooks or self._forward_hooks or self._forward_pre_hooks or _global_backward_hooks\n\u001b[1;32m   1109\u001b[0m                 or _global_forward_hooks or _global_forward_pre_hooks):\n\u001b[0;32m-> 1110\u001b[0;31m             \u001b[0;32mreturn\u001b[0m \u001b[0mforward_call\u001b[0m\u001b[0;34m(\u001b[0m\u001b[0;34m*\u001b[0m\u001b[0minput\u001b[0m\u001b[0;34m,\u001b[0m \u001b[0;34m**\u001b[0m\u001b[0mkwargs\u001b[0m\u001b[0;34m)\u001b[0m\u001b[0;34m\u001b[0m\u001b[0;34m\u001b[0m\u001b[0m\n\u001b[0m\u001b[1;32m   1111\u001b[0m         \u001b[0;31m# Do not call functions when jit is used\u001b[0m\u001b[0;34m\u001b[0m\u001b[0;34m\u001b[0m\u001b[0m\n\u001b[1;32m   1112\u001b[0m         \u001b[0mfull_backward_hooks\u001b[0m\u001b[0;34m,\u001b[0m \u001b[0mnon_full_backward_hooks\u001b[0m \u001b[0;34m=\u001b[0m \u001b[0;34m[\u001b[0m\u001b[0;34m]\u001b[0m\u001b[0;34m,\u001b[0m \u001b[0;34m[\u001b[0m\u001b[0;34m]\u001b[0m\u001b[0;34m\u001b[0m\u001b[0;34m\u001b[0m\u001b[0m\n",
      "\u001b[0;32m/tmp/ipykernel_338633/10872506.py\u001b[0m in \u001b[0;36mforward\u001b[0;34m(self, s_a)\u001b[0m\n\u001b[1;32m     22\u001b[0m     \u001b[0;32mdef\u001b[0m \u001b[0mforward\u001b[0m\u001b[0;34m(\u001b[0m\u001b[0mself\u001b[0m\u001b[0;34m,\u001b[0m \u001b[0ms_a\u001b[0m\u001b[0;34m)\u001b[0m\u001b[0;34m:\u001b[0m\u001b[0;34m\u001b[0m\u001b[0;34m\u001b[0m\u001b[0m\n\u001b[1;32m     23\u001b[0m \u001b[0;34m\u001b[0m\u001b[0m\n\u001b[0;32m---> 24\u001b[0;31m         \u001b[0me_\u001b[0m \u001b[0;34m=\u001b[0m \u001b[0mself\u001b[0m\u001b[0;34m.\u001b[0m\u001b[0moutput\u001b[0m\u001b[0;34m(\u001b[0m\u001b[0ms_a\u001b[0m\u001b[0;34m)\u001b[0m\u001b[0;34m\u001b[0m\u001b[0;34m\u001b[0m\u001b[0m\n\u001b[0m\u001b[1;32m     25\u001b[0m \u001b[0;34m\u001b[0m\u001b[0m\n\u001b[1;32m     26\u001b[0m         \u001b[0;32mreturn\u001b[0m \u001b[0me_\u001b[0m\u001b[0;34m\u001b[0m\u001b[0;34m\u001b[0m\u001b[0m\n",
      "\u001b[0;32m~/anaconda3/lib/python3.9/site-packages/torch/nn/modules/module.py\u001b[0m in \u001b[0;36m_call_impl\u001b[0;34m(self, *input, **kwargs)\u001b[0m\n\u001b[1;32m   1108\u001b[0m         if not (self._backward_hooks or self._forward_hooks or self._forward_pre_hooks or _global_backward_hooks\n\u001b[1;32m   1109\u001b[0m                 or _global_forward_hooks or _global_forward_pre_hooks):\n\u001b[0;32m-> 1110\u001b[0;31m             \u001b[0;32mreturn\u001b[0m \u001b[0mforward_call\u001b[0m\u001b[0;34m(\u001b[0m\u001b[0;34m*\u001b[0m\u001b[0minput\u001b[0m\u001b[0;34m,\u001b[0m \u001b[0;34m**\u001b[0m\u001b[0mkwargs\u001b[0m\u001b[0;34m)\u001b[0m\u001b[0;34m\u001b[0m\u001b[0;34m\u001b[0m\u001b[0m\n\u001b[0m\u001b[1;32m   1111\u001b[0m         \u001b[0;31m# Do not call functions when jit is used\u001b[0m\u001b[0;34m\u001b[0m\u001b[0;34m\u001b[0m\u001b[0m\n\u001b[1;32m   1112\u001b[0m         \u001b[0mfull_backward_hooks\u001b[0m\u001b[0;34m,\u001b[0m \u001b[0mnon_full_backward_hooks\u001b[0m \u001b[0;34m=\u001b[0m \u001b[0;34m[\u001b[0m\u001b[0;34m]\u001b[0m\u001b[0;34m,\u001b[0m \u001b[0;34m[\u001b[0m\u001b[0;34m]\u001b[0m\u001b[0;34m\u001b[0m\u001b[0;34m\u001b[0m\u001b[0m\n",
      "\u001b[0;32m~/anaconda3/lib/python3.9/site-packages/torch/nn/modules/container.py\u001b[0m in \u001b[0;36mforward\u001b[0;34m(self, input)\u001b[0m\n\u001b[1;32m    139\u001b[0m     \u001b[0;32mdef\u001b[0m \u001b[0mforward\u001b[0m\u001b[0;34m(\u001b[0m\u001b[0mself\u001b[0m\u001b[0;34m,\u001b[0m \u001b[0minput\u001b[0m\u001b[0;34m)\u001b[0m\u001b[0;34m:\u001b[0m\u001b[0;34m\u001b[0m\u001b[0;34m\u001b[0m\u001b[0m\n\u001b[1;32m    140\u001b[0m         \u001b[0;32mfor\u001b[0m \u001b[0mmodule\u001b[0m \u001b[0;32min\u001b[0m \u001b[0mself\u001b[0m\u001b[0;34m:\u001b[0m\u001b[0;34m\u001b[0m\u001b[0;34m\u001b[0m\u001b[0m\n\u001b[0;32m--> 141\u001b[0;31m             \u001b[0minput\u001b[0m \u001b[0;34m=\u001b[0m \u001b[0mmodule\u001b[0m\u001b[0;34m(\u001b[0m\u001b[0minput\u001b[0m\u001b[0;34m)\u001b[0m\u001b[0;34m\u001b[0m\u001b[0;34m\u001b[0m\u001b[0m\n\u001b[0m\u001b[1;32m    142\u001b[0m         \u001b[0;32mreturn\u001b[0m \u001b[0minput\u001b[0m\u001b[0;34m\u001b[0m\u001b[0;34m\u001b[0m\u001b[0m\n\u001b[1;32m    143\u001b[0m \u001b[0;34m\u001b[0m\u001b[0m\n",
      "\u001b[0;32m~/anaconda3/lib/python3.9/site-packages/torch/nn/modules/module.py\u001b[0m in \u001b[0;36m_call_impl\u001b[0;34m(self, *input, **kwargs)\u001b[0m\n\u001b[1;32m   1108\u001b[0m         if not (self._backward_hooks or self._forward_hooks or self._forward_pre_hooks or _global_backward_hooks\n\u001b[1;32m   1109\u001b[0m                 or _global_forward_hooks or _global_forward_pre_hooks):\n\u001b[0;32m-> 1110\u001b[0;31m             \u001b[0;32mreturn\u001b[0m \u001b[0mforward_call\u001b[0m\u001b[0;34m(\u001b[0m\u001b[0;34m*\u001b[0m\u001b[0minput\u001b[0m\u001b[0;34m,\u001b[0m \u001b[0;34m**\u001b[0m\u001b[0mkwargs\u001b[0m\u001b[0;34m)\u001b[0m\u001b[0;34m\u001b[0m\u001b[0;34m\u001b[0m\u001b[0m\n\u001b[0m\u001b[1;32m   1111\u001b[0m         \u001b[0;31m# Do not call functions when jit is used\u001b[0m\u001b[0;34m\u001b[0m\u001b[0;34m\u001b[0m\u001b[0m\n\u001b[1;32m   1112\u001b[0m         \u001b[0mfull_backward_hooks\u001b[0m\u001b[0;34m,\u001b[0m \u001b[0mnon_full_backward_hooks\u001b[0m \u001b[0;34m=\u001b[0m \u001b[0;34m[\u001b[0m\u001b[0;34m]\u001b[0m\u001b[0;34m,\u001b[0m \u001b[0;34m[\u001b[0m\u001b[0;34m]\u001b[0m\u001b[0;34m\u001b[0m\u001b[0;34m\u001b[0m\u001b[0m\n",
      "\u001b[0;32m~/anaconda3/lib/python3.9/site-packages/torch/nn/modules/linear.py\u001b[0m in \u001b[0;36mforward\u001b[0;34m(self, input)\u001b[0m\n\u001b[1;32m    101\u001b[0m \u001b[0;34m\u001b[0m\u001b[0m\n\u001b[1;32m    102\u001b[0m     \u001b[0;32mdef\u001b[0m \u001b[0mforward\u001b[0m\u001b[0;34m(\u001b[0m\u001b[0mself\u001b[0m\u001b[0;34m,\u001b[0m \u001b[0minput\u001b[0m\u001b[0;34m:\u001b[0m \u001b[0mTensor\u001b[0m\u001b[0;34m)\u001b[0m \u001b[0;34m->\u001b[0m \u001b[0mTensor\u001b[0m\u001b[0;34m:\u001b[0m\u001b[0;34m\u001b[0m\u001b[0;34m\u001b[0m\u001b[0m\n\u001b[0;32m--> 103\u001b[0;31m         \u001b[0;32mreturn\u001b[0m \u001b[0mF\u001b[0m\u001b[0;34m.\u001b[0m\u001b[0mlinear\u001b[0m\u001b[0;34m(\u001b[0m\u001b[0minput\u001b[0m\u001b[0;34m,\u001b[0m \u001b[0mself\u001b[0m\u001b[0;34m.\u001b[0m\u001b[0mweight\u001b[0m\u001b[0;34m,\u001b[0m \u001b[0mself\u001b[0m\u001b[0;34m.\u001b[0m\u001b[0mbias\u001b[0m\u001b[0;34m)\u001b[0m\u001b[0;34m\u001b[0m\u001b[0;34m\u001b[0m\u001b[0m\n\u001b[0m\u001b[1;32m    104\u001b[0m \u001b[0;34m\u001b[0m\u001b[0m\n\u001b[1;32m    105\u001b[0m     \u001b[0;32mdef\u001b[0m \u001b[0mextra_repr\u001b[0m\u001b[0;34m(\u001b[0m\u001b[0mself\u001b[0m\u001b[0;34m)\u001b[0m \u001b[0;34m->\u001b[0m \u001b[0mstr\u001b[0m\u001b[0;34m:\u001b[0m\u001b[0;34m\u001b[0m\u001b[0;34m\u001b[0m\u001b[0m\n",
      "\u001b[0;31mKeyboardInterrupt\u001b[0m: "
     ]
    }
   ],
   "source": [
    "#* Training step\n",
    "state_dim = 171\n",
    "mini_batchsize = 16\n",
    "lr_ = 1e-5\n",
    "train_step = 3000000\n",
    "epoch_per_episode = 16\n",
    "path_save = '/media/wz/a7ee6d50-691d-431a-8efb-b93adc04896d/Github/MATools/CE_MC/runs/demo'\n",
    "\n",
    "#*Device is defined in former block\n",
    "fc_ = fc(state_dim).to(device)\n",
    "fc_optim = torch.optim.Adam(fc_.parameters(), lr = lr_)\n",
    "scheduler = torch.optim.lr_scheduler.StepLR(fc_optim,step_size=10000,gamma = 0.98)\n",
    "mse_loss = nn.MSELoss()\n",
    "writer = SummaryWriter(log_dir = path_save)\n",
    "torch.manual_seed(886)\n",
    "\n",
    "for i in range(train_step):\n",
    "    # for index in BatchSampler(SubsetRandomSampler(range(len(weight_train))), mini_batchsize, True):\n",
    "        # for epoch in range(epoch_per_episode):\n",
    "    fc_.train()\n",
    "    weight_train_ = weight_train\n",
    "    msad_train_ = msad_train\n",
    "    msad_out_train = fc_(weight_train_)\n",
    "    msad_tar_train = msad_train_\n",
    "    msad_loss_train = mse_loss(msad_out_train, msad_tar_train)\n",
    "\n",
    "    writer.add_scalar(\"Training Loss of MSAD\", msad_loss_train, i)\n",
    "\n",
    "    fc_optim.zero_grad()\n",
    "    msad_loss_train.backward()\n",
    "    clip_grad_norm_(fc_.parameters(), 1)\n",
    "    fc_optim.step()\n",
    "    scheduler.step()\n",
    "\n",
    "    fc_.eval()\n",
    "    msad_out_test = fc_(weight_test)\n",
    "    msad_loss_test = mse_loss(msad_out_test, msad_test)\n",
    "    writer.add_scalar(\"Testing Loss of MSAD\", msad_loss_test, i)"
   ]
  },
  {
   "cell_type": "code",
   "execution_count": 76,
   "metadata": {},
   "outputs": [
    {
     "data": {
      "text/plain": [
       "0.14383346606523562"
      ]
     },
     "execution_count": 76,
     "metadata": {},
     "output_type": "execute_result"
    }
   ],
   "source": [
    "np.linalg.norm(nn_res)/len(nn_res)"
   ]
  },
  {
   "cell_type": "code",
   "execution_count": 73,
   "metadata": {},
   "outputs": [
    {
     "data": {
      "image/png": "[encoded data removed]",
      "text/plain": [
       "<Figure size 432x288 with 1 Axes>"
      ]
     },
     "metadata": {
      "needs_background": "light"
     },
     "output_type": "display_data"
    }
   ],
   "source": [
    "fc_.eval()\n",
    "energy_std = 1\n",
    "energy_mean = 0\n",
    "e_predict = fc_(weight_test).cpu().detach().numpy()\n",
    "e_test_ = msad_test.cpu().detach().numpy()\n",
    "e_predict_lr_ = msad_predict_lr\n",
    "\n",
    "plt.plot(e_predict, label='predict_nn')\n",
    "plt.plot(e_test_, label='test')\n",
    "plt.plot(e_predict_lr_, label='predict_lr')\n",
    "\n",
    "plt.legend()\n",
    "plt.show()"
   ]
  },
  {
   "cell_type": "code",
   "execution_count": 74,
   "metadata": {},
   "outputs": [
    {
     "data": {
      "image/png": "[encoded data removed]",
      "text/plain": [
       "<Figure size 864x432 with 1 Axes>"
      ]
     },
     "metadata": {
      "needs_background": "light"
     },
     "output_type": "display_data"
    }
   ],
   "source": [
    "nn_res = (e_test_ - e_predict)\n",
    "lr_res = (e_test_ - e_predict_lr_.reshape(-1,1))\n",
    "r_nn_u = np.clip(nn_res, 0, None).flatten()\n",
    "r_nn_l = np.clip(nn_res, None, 0).flatten()\n",
    "r_lr_u = np.clip(lr_res, 0, None).flatten()\n",
    "r_lr_l = np.clip(lr_res, None, 0).flatten()\n",
    "\n",
    "fig, ax = plt.subplots(figsize=(12, 6))\n",
    "ax.set_ylabel('pm/atom')\n",
    "x_axis = np.arange(len(e_test_))\n",
    "plt.scatter(x_axis, nn_res, label='predict_nn_res')\n",
    "plt.scatter(x_axis, lr_res, label='predict_blr_res')\n",
    "plt.plot(x_axis, np.zeros(len(msad_test)), c='k', label='baseline', zorder=0)\n",
    "plt.fill_between(x_axis, r_nn_l, r_nn_u, \n",
    "            alpha=0.2, color=cm.viridis(0.5))\n",
    "plt.fill_between(x_axis, r_lr_l, r_lr_u, \n",
    "            alpha=0.2, color=cm.plasma(0.5))\n",
    "\n",
    "plt.legend()\n",
    "plt.show()"
   ]
  },
  {
   "cell_type": "code",
   "execution_count": 71,
   "metadata": {},
   "outputs": [],
   "source": [
    "###\n",
    "#* Save NN model\n",
    "pth_save = '/media/wz/a7ee6d50-691d-431a-8efb-b93adc04896d/Github/MATools/CE_MC/runs/demo/20221031'\n",
    "torch.save(fc_.state_dict(), pth_save+'/param.pth')"
   ]
  },
  {
   "cell_type": "markdown",
   "metadata": {},
   "source": [
    "#### SA processes:\n",
    "\n",
    "1. Starting from **LOCAL MINIMA**\n",
    "\n",
    "2. Start SA, temperature should gradually increases to ensure the stability of system.\n",
    "\n",
    "##### Supplementary\n",
    "\n",
    "1. $$<\\alpha> = \\frac{\\sum\\alpha e^{-\\beta H_i}}{\\sum e^{-\\beta H_i}} \\tag{1}$$\n",
    "\n",
    "$$<\\alpha>_t = 1/t \\sum \\alpha(t) \\tag{2}$$\n",
    "\n",
    "2. $T(t) = T_0e^{-t/\\tau}$"
   ]
  },
  {
   "cell_type": "code",
   "execution_count": 16,
   "metadata": {},
   "outputs": [
    {
     "data": {
      "text/plain": [
       "Text(0.5, 1.0, 'Final temp.: 54.94691666620253 K')"
      ]
     },
     "execution_count": 16,
     "metadata": {},
     "output_type": "execute_result"
    },
    {
     "data": {
      "image/png": "[encoded data removed]",
      "text/plain": [
       "<Figure size 432x288 with 1 Axes>"
      ]
     },
     "metadata": {
      "needs_background": "light"
     },
     "output_type": "display_data"
    }
   ],
   "source": [
    "#* Test the setting of temperature decay.\n",
    "def temp(temp_0, t, tau):\n",
    "    return temp_0*np.exp(-t/tau)\n",
    "\n",
    "t = np.linspace(0, 4000, 3001)\n",
    "temp_ = temp(3000, t, 1000)\n",
    "\n",
    "plt.plot(t, temp_)\n",
    "plt.title(f'Final temp.: {temp_[-1]} K')"
   ]
  },
  {
   "cell_type": "markdown",
   "metadata": {},
   "source": [
    "#### Analysis part for global minimum configuration."
   ]
  },
  {
   "cell_type": "code",
   "execution_count": 14,
   "metadata": {},
   "outputs": [
    {
     "data": {
      "text/plain": [
       "array([-15860.06482684, -15861.29076902, -15852.86736414, -15848.19600287,\n",
       "       -15853.7409672 , -15858.94716383, -15854.62429982, -15852.32496535,\n",
       "       -15847.70857096, -15853.42011043, -15849.80098587, -15853.33225516])"
      ]
     },
     "execution_count": 14,
     "metadata": {},
     "output_type": "execute_result"
    }
   ],
   "source": [
    "#* Analysis from .py file\n",
    "import pickle\n",
    "e_list = np.load('/media/wz/a7ee6d50-691d-431a-8efb-b93adc04896d/Github/MATools/CE_MC/runs/demo/20221101/min_e_.npy')\n",
    "config_list = np.load('/media/wz/a7ee6d50-691d-431a-8efb-b93adc04896d/Github/MATools/CE_MC/runs/demo/20221101/minconfig_.npy')\n",
    "lr_model = '/media/wz/a7ee6d50-691d-431a-8efb-b93adc04896d/Github/MATools/CE_MC/runs/demo/20221101/blr.sav'\n",
    "lr_model_ = pickle.load(open(lr_model, 'rb'))\n",
    "\n",
    "# lr_model_.predict(config_list)\n",
    "e_list"
   ]
  },
  {
   "cell_type": "markdown",
   "metadata": {},
   "source": [
    "##### Debugging console for SRO evaluation."
   ]
  },
  {
   "cell_type": "code",
   "execution_count": 9,
   "metadata": {},
   "outputs": [],
   "source": [
    "#* Estimation step\n",
    "#* Use NN?\n",
    "# fc_.eval()\n",
    "\n",
    "def norm_w(x, x_mean, x_std):\n",
    "        return (x - x_mean) / x_std\n",
    "\n",
    "def t_range(temp_0, t, tau):\n",
    "    return temp_0*np.exp(-t/tau)\n",
    "\n",
    "ind_1nn = np.load('/media/wz/7AD631A4D6316195/Projects/mc_pure_qua/fcc_2048/ind_1nn.npy')\n",
    "ind_2nn = np.load('/media/wz/7AD631A4D6316195/Projects/mc_pure_qua/fcc_2048/ind_2nn.npy')\n",
    "ind_3nn = np.load('/media/wz/7AD631A4D6316195/Projects/mc_pure_qua/fcc_2048/ind_3nn.npy')\n",
    "ind_4nn = np.load('/media/wz/7AD631A4D6316195/Projects/mc_pure_qua/fcc_2048/ind_4nn.npy')\n",
    "ind_qua1nn = np.load('/media/wz/7AD631A4D6316195/Projects/mc_pure_qua/fcc_2048/ind_qua1nn.npy')\n",
    "ind_qua1nn2nn = np.load('/media/wz/7AD631A4D6316195/Projects/mc_pure_qua/fcc_2048/ind_qua1nn2nn.npy')\n",
    "ind_trip1nn = np.load('/media/wz/7AD631A4D6316195/Projects/mc_pure_qua/fcc_2048/ind_trip1nn.npy')\n",
    "ind_trip1nn2nn = np.load('/media/wz/7AD631A4D6316195/Projects/mc_pure_qua/fcc_2048/ind_trip1nn2nn.npy')\n",
    "ind_trip1nn2nn3nn = np.load('/media/wz/7AD631A4D6316195/Projects/mc_pure_qua/fcc_2048/ind_trip1nn2nn3nn.npy')\n",
    "\n",
    "ind_1nn_pbc = np.load('/media/wz/7AD631A4D6316195/Projects/mc_pure_qua/fcc_2048/ind_1nn_pbc.npy')\n",
    "ind_2nn_pbc = np.load('/media/wz/7AD631A4D6316195/Projects/mc_pure_qua/fcc_2048/ind_2nn_pbc.npy')\n",
    "ind_3nn_pbc = np.load('/media/wz/7AD631A4D6316195/Projects/mc_pure_qua/fcc_2048/ind_3nn_pbc.npy')\n",
    "ind_4nn_pbc = np.load('/media/wz/7AD631A4D6316195/Projects/mc_pure_qua/fcc_2048/ind_4nn_pbc.npy')\n",
    "ind_qua1nn_pbc = np.load('/media/wz/7AD631A4D6316195/Projects/mc_pure_qua/fcc_2048/ind_qua1nn_pbc.npy')\n",
    "# ind_qua1nn2nn_pbc = np.load('/media/wz/7AD631A4D6316195/Projects/mc_pure_qua/fcc_32/ind_qua1nn2nn_pbc.npy')\n",
    "ind_trip1nn_pbc = np.load('/media/wz/7AD631A4D6316195/Projects/mc_pure_qua/fcc_2048/ind_trip1nn_pbc.npy')\n",
    "ind_trip1nn2nn_pbc = np.load('/media/wz/7AD631A4D6316195/Projects/mc_pure_qua/fcc_2048/ind_trip1nn2nn_pbc.npy')\n",
    "ind_trip1nn2nn3nn_pbc = np.load('/media/wz/7AD631A4D6316195/Projects/mc_pure_qua/fcc_2048/ind_trip1nn2nn3nn_pbc.npy')\n",
    "\n",
    "ind_raw = np.load('/media/wz/7AD631A4D6316195/Projects/mc_pure_qua/fcc_2048/ind_raw2048.npy')\n",
    "\n",
    "ce_e = CE(ind_1nn, ind_2nn, ind_3nn, ind_4nn, \n",
    "        ind_qua1nn, ind_trip1nn, ind_trip1nn2nn, ind_trip1nn2nn3nn,\n",
    "        ind_1nn_pbc, ind_2nn_pbc, ind_3nn_pbc, ind_4nn_pbc, \n",
    "        ind_qua1nn_pbc, ind_trip1nn_pbc, ind_trip1nn2nn_pbc, ind_trip1nn2nn3nn_pbc,\n",
    "        ind_raw)\n",
    "\n",
    "pth_raw = '/media/wz/a7ee6d50-691d-431a-8efb-b93adc04896d/Github/MATools/CE_MC/runs/demo/'\n",
    "\n",
    "#* Load Classifier\n",
    "blr_12 = pth_raw+'20221107/blr_12.sav'\n",
    "blr_23 = pth_raw+'20221107/blr_23.sav'\n",
    "\n",
    "blr_12 = pickle.load(open(blr_12, 'rb'))\n",
    "blr_23 = pickle.load(open(blr_23, 'rb'))\n",
    "\n",
    "#* Load ECI parameters\n",
    "clf_1 = pth_raw+'20221107/clf_1.sav'\n",
    "clf_2 = pth_raw+'20221107/clf_2.sav'\n",
    "clf_3 = pth_raw+'20221107/clf_3.sav'\n",
    "\n",
    "clf_1 = pickle.load(open(clf_1, 'rb'))\n",
    "clf_2 = pickle.load(open(clf_2, 'rb'))\n",
    "clf_3 = pickle.load(open(clf_3, 'rb'))\n",
    "\n",
    "#* Load tensorboard\n",
    "date = '20221113'\n",
    "pth_tb = f'/media/wz/a7ee6d50-691d-431a-8efb-b93adc04896d/Github/MATools/CE_MC/runs/demo/{date}'\n",
    "writer = SummaryWriter(log_dir = pth_tb)\n",
    "\n",
    "energy_std, energy_mean = 1, 0\n",
    "\n",
    "config = ele_list_gen(1/4, 1/4, 1/4, 1/4, num_c=2048)\n",
    "iter_time= 10000\n",
    "temp = 1200\n",
    "k_ = 8.617333262e-5\n",
    "atom_num = 2048\n",
    "# energy_std = 1\n",
    "config_list = np.zeros((50, atom_num))\n",
    "e_list_store = np.zeros(50)\n",
    "sro_list_store = np.zeros((iter_time, 12))\n",
    "\n",
    "for i in range(iter_time):\n",
    "        # weight_config = norm_w(ce_e.cluster_extra(config).reshape(-1,1).T,\n",
    "        #                 weight_mean, weight_std)\n",
    "        config_tile = np.tile(config, 27) #* In 3*3*3 PBC space.\n",
    "        weight_config  = ce_e.cluster_extra(config_tile).reshape(-1,1).T\n",
    "\n",
    "        #* Prediction part\n",
    "        label = int(blr_12.predict(weight_config)[0])\n",
    "        if label == 0:\n",
    "                energy = (clf_1.predict(weight_config)*energy_std + energy_mean)[0]\n",
    "        else:\n",
    "                label_ = int(blr_23.predict(weight_config)[0])\n",
    "                if label_ == 0:\n",
    "                        energy = (clf_2.predict(weight_config)*energy_std + energy_mean)[0]\n",
    "                else:\n",
    "                        energy = (clf_3.predict(weight_config)*energy_std + energy_mean)[0]  \n",
    "\n",
    "        #* NN's prediction\n",
    "        # weight_config = torch.from_numpy(weight_config.astype(np.float32)).clone().to(device)\n",
    "        # energy = fc_(weight_config).cpu().detach().numpy()[0,0]*energy_std + energy_mean\n",
    "        energy *= atom_num\n",
    "        # e_list.append(energy)\n",
    "        config_list[i%50] = config\n",
    "        e_list_store[i%50] = energy\n",
    "        #* Extract SRO params of current config..\n",
    "        sro = sub_func_ce.sro_extra(ind_1nn, config, 0.25, 0.25, 0.25, 0.25)\n",
    "        sro_list_store[i%iter_time] = sro\n",
    "        \n",
    "        writer.add_scalar(f'Thermo-MC Energy (eV)', energy, i)\n",
    "        writer.add_scalar(f'SRO param/CrCr', sro[0], i)\n",
    "        writer.add_scalar(f'SRO param/MnMn', sro[1], i)\n",
    "        writer.add_scalar(f'SRO param/CoCo', sro[2], i)\n",
    "        writer.add_scalar(f'SRO param/NiNi', sro[3], i)\n",
    "        writer.add_scalar(f'SRO param/CrMn', sro[4], i)\n",
    "        writer.add_scalar(f'SRO param/CrCo', sro[5], i)\n",
    "        writer.add_scalar(f'SRO param/CrNi', sro[6], i)\n",
    "        writer.add_scalar(f'SRO param/MnCo', sro[7], i)\n",
    "        writer.add_scalar(f'SRO param/MnNi', sro[8], i)\n",
    "        writer.add_scalar(f'SRO param/CoNi', sro[9], i)\n",
    "\n",
    "        while True:\n",
    "                a_ind = randrange(len(ind_1nn))\n",
    "                action = ind_1nn[a_ind]\n",
    "                a1, a2 = config[action[0]], config[action[1]]\n",
    "                if a1 != a2:\n",
    "                        break\n",
    "\n",
    "        config_ = swap_step(action, config)\n",
    "\n",
    "        assert np.linalg.norm(np.sort(config_)-np.sort(config)) == 0, print(f'BUG in swap_step')\n",
    "        # weight_config_ = norm_w(ce_e.cluster_extra(config_).reshape(-1,1).T,\n",
    "        #                 weight_mean, weight_std)\n",
    "        config_tile_ = np.tile(config_, 27) #* In 3*3*3 PBC space.\n",
    "        weight_config_ = ce_e.cluster_extra(config_tile_).reshape(-1,1).T\n",
    "        #* NN's prediction\n",
    "        # weight_config_ = torch.from_numpy(weight_config_.astype(np.float32)).clone().to(device)\n",
    "        # energy_ = fc_(weight_config_).cpu().detach().numpy()[0,0]*energy_std + energy_mean\n",
    "        #* Prediction part\n",
    "        label = int(blr_12.predict(weight_config_)[0])\n",
    "        if label == 0:\n",
    "                energy_ = (clf_1.predict(weight_config_)*energy_std + energy_mean)[0]\n",
    "        else:\n",
    "                label_ = int(blr_23.predict(weight_config_)[0])\n",
    "                if label_ == 0:\n",
    "                        energy_ = (clf_2.predict(weight_config_)*energy_std + energy_mean)[0]\n",
    "                else:\n",
    "                        energy_ = (clf_3.predict(weight_config_)*energy_std + energy_mean)[0] \n",
    "\n",
    "        energy_ *= atom_num\n",
    "\n",
    "        accept = np.min([1, np.exp((energy-energy_)/(k_*temp))])\n",
    "        r_v = np.random.rand()\n",
    "        if r_v <= accept:\n",
    "                config = config_\n",
    "        else:\n",
    "                config = config\n",
    "\n",
    "        clear_output(True)\n",
    "        # plt.title(f'Iter num {i} at {temp} K')\n",
    "        # plt.plot(e_list)\n",
    "        # plt.show()"
   ]
  },
  {
   "cell_type": "code",
   "execution_count": 2,
   "metadata": {},
   "outputs": [
    {
     "data": {
      "text/plain": [
       "array([ 5.01481481e-01,  5.02962963e-01,  4.88148148e-01,  5.00000000e-01,\n",
       "        1.40740741e-02, -1.40740741e-02,  2.22222222e-03, -7.40740741e-04,\n",
       "        4.44444444e-03,  1.48148148e-03,  1.08000000e+04,  1.08000000e+04])"
      ]
     },
     "execution_count": 2,
     "metadata": {},
     "output_type": "execute_result"
    }
   ],
   "source": [
    "config = ele_list_gen(1/4, 1/4, 1/4, 1/4, num_c=2048)\n",
    "ind_1nn = np.load('/media/wz/7AD631A4D6316195/Projects/mc_pure_qua/fcc_2048/ind_1nn.npy')\n",
    "sub_func_ce.sro_extra(ind_1nn, config, 0.25, 0.25, 0.25, 0.25)"
   ]
  },
  {
   "cell_type": "code",
   "execution_count": 11,
   "metadata": {},
   "outputs": [
    {
     "data": {
      "image/png": "[encoded data removed]",
      "text/plain": [
       "<Figure size 432x288 with 1 Axes>"
      ]
     },
     "metadata": {
      "needs_background": "light"
     },
     "output_type": "display_data"
    }
   ],
   "source": [
    "%matplotlib inline\n",
    "from fitter import Fitter\n",
    "#* Check the distribution of energy\n",
    "for i in range(sro_list_store.shape[1]-2):\n",
    "    sro = sro_list_store[:,i]\n",
    "    plt.hist(sro, bins=100, alpha=0.4)\n",
    "\n",
    "plt.show()\n",
    "# f_pair = Fitter(mncr_list, distributions = ['norm'], timeout = 1500)\n",
    "# f_pair.fit()\n",
    "\n",
    "# print(f_pair.get_best())\n",
    "# f_pair.summary()"
   ]
  },
  {
   "cell_type": "code",
   "execution_count": 10,
   "metadata": {},
   "outputs": [],
   "source": [
    "np.save('/media/wz/a7ee6d50-691d-431a-8efb-b93adc04896d/Github/MATools/CE_MC/runs/demo/20221107/sro_1200.npy', sro_list_store)"
   ]
  },
  {
   "cell_type": "code",
   "execution_count": 12,
   "metadata": {},
   "outputs": [],
   "source": [
    "# sro_100 = np.load('/media/wz/a7ee6d50-691d-431a-8efb-b93adc04896d/Github/MATools/CE_MC/runs/demo/20221107/sro_100.npy')\n",
    "sro_400 = np.load('/media/wz/a7ee6d50-691d-431a-8efb-b93adc04896d/Github/MATools/CE_MC/runs/demo/20221107/sro_400.npy')\n",
    "sro_1200 = np.load('/media/wz/a7ee6d50-691d-431a-8efb-b93adc04896d/Github/MATools/CE_MC/runs/demo/20221107/sro_1200.npy')\n",
    "# sro_4000 = np.load('/media/wz/a7ee6d50-691d-431a-8efb-b93adc04896d/Github/MATools/CE_MC/runs/demo/20221107/sro_4000.npy')\n",
    "\n",
    "# sro_100_mean = np.mean(sro_100[1000:], 0).reshape(-1,1)\n",
    "sro_400_mean = np.mean(sro_400[1000:], 0).reshape(-1,1)\n",
    "sro_1200_mean = np.mean(sro_1200[1000:], 0).reshape(-1,1)\n",
    "# sro_4000_mean = np.mean(sro_4000[1000:], 0).reshape(-1,1)\n",
    "\n",
    "sro_mean = np.concatenate([sro_400_mean, sro_1200_mean], 1)"
   ]
  },
  {
   "cell_type": "code",
   "execution_count": 18,
   "metadata": {},
   "outputs": [
    {
     "data": {
      "image/png": "[encoded data removed]",
      "text/plain": [
       "<Figure size 360x1080 with 1 Axes>"
      ]
     },
     "metadata": {
      "needs_background": "light"
     },
     "output_type": "display_data"
    }
   ],
   "source": [
    "fig, ax = plt.subplots(figsize=(5, 15))\n",
    "\n",
    "for i in range(len(sro_400_mean)-2):\n",
    "    plt.plot(sro_mean[i])\n",
    "\n",
    "plt.ylim([-0.1, 0.6])\n",
    "plt.show()"
   ]
  },
  {
   "cell_type": "markdown",
   "metadata": {},
   "source": [
    "#### Analyzing CE estimations\n",
    "\n",
    "Results are following an order of \n",
    "\n",
    "a_crcr, a_mnmn, a_coco, a_nini, a_mncr, a_cocr, a_nicr, a_comn, a_nimn, a_nico"
   ]
  },
  {
   "cell_type": "code",
   "execution_count": 18,
   "metadata": {},
   "outputs": [
    {
     "data": {
      "text/plain": [
       "(12, 10)"
      ]
     },
     "execution_count": 18,
     "metadata": {},
     "output_type": "execute_result"
    }
   ],
   "source": [
    "sro_name = ['a_crcr', 'a_mnmn', 'a_coco', 'a_nini', 'a_mncr', 'a_cocr', 'a_nicr', 'a_comn', 'a_nimn', 'a_nico']\n",
    "temp_range = np.array([100, 200, 300, 400, 500, 800, 1000, 1200, 1600, 2400, 3200, 4800])\n",
    "sro_list = np.zeros((len(temp_range), 10)) #* Nx10\n",
    "pth_raw = '/media/wz/a7ee6d50-691d-431a-8efb-b93adc04896d/Github/MATools/CE_MC/runs/demo/20221101/'\n",
    "for i in range(len(temp_range)):\n",
    "    sro_list[i] = np.mean(np.load(pth_raw+f'sro_{temp_range[i]}.npy'), axis=0)\n",
    "\n",
    "sro_list.shape"
   ]
  },
  {
   "cell_type": "code",
   "execution_count": 20,
   "metadata": {},
   "outputs": [
    {
     "data": {
      "image/png": "[encoded data removed]",
      "text/plain": [
       "<Figure size 432x288 with 1 Axes>"
      ]
     },
     "metadata": {
      "needs_background": "light"
     },
     "output_type": "display_data"
    }
   ],
   "source": [
    "for i in range(10):\n",
    "    plt.plot(temp_range, sro_list[:, i], label=sro_name[i])\n",
    "\n",
    "plt.legend()\n",
    "plt.show()"
   ]
  }
 ],
 "metadata": {
  "kernelspec": {
   "display_name": "Python 3.9.7 ('base')",
   "language": "python",
   "name": "python3"
  },
  "language_info": {
   "codemirror_mode": {
    "name": "ipython",
    "version": 3
   },
   "file_extension": ".py",
   "mimetype": "text/x-python",
   "name": "python",
   "nbconvert_exporter": "python",
   "pygments_lexer": "ipython3",
   "version": "3.9.7"
  },
  "orig_nbformat": 4,
  "vscode": {
   "interpreter": {
    "hash": "68475d8e8ba7c27bff5b0c1dcce162ecdafd8f583568d2d03f898fe272d0ccc7"
   }
  }
 },
 "nbformat": 4,
 "nbformat_minor": 2
}
