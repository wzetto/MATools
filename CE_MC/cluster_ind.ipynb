{
 "cells": [
  {
   "cell_type": "code",
   "execution_count": 6,
   "metadata": {},
   "outputs": [],
   "source": [
    "import math\n",
    "import numpy as np \n",
    "import sub_func_ce\n",
    "from sub_func_ce import abs_dis, find_overlap\n",
    "import matplotlib.pyplot as plt\n",
    "from itertools import combinations, product\n",
    "from sklearn.model_selection import train_test_split\n",
    "from sklearn.linear_model import RidgeCV\n",
    "from sklearn.linear_model import BayesianRidge\n",
    "from random import randrange\n",
    "from IPython.display import clear_output\n",
    "import os\n",
    "\n",
    "# %matplotlib widget\n",
    "%matplotlib inline\n",
    "\n",
    "def draw_3d(ind_raw):\n",
    "    ind_raw = np.array(ind_raw)\n",
    "    plt.rcParams[\"figure.figsize\"] = [5, 5]\n",
    "    # plt.rcParams[\"figure.autolayout\"] = True\n",
    "    fig = plt.figure()\n",
    "    ax = fig.add_subplot(111, projection='3d')\n",
    "    ax.scatter(ind_raw[:,0], ind_raw[:,1], ind_raw[:,2], alpha = 0.5, c = 'r')\n",
    "    plt.show()\n",
    "\n",
    "def ele_list_gen(cr_c, mn_c, co_c, ni_c, num_c, mode = 'randchoice'):\n",
    "    np.random.seed()\n",
    "\n",
    "    assert abs(cr_c + mn_c + co_c + ni_c - 1) < 0.001, 'Make sure atomic ratio sum to 1'\n",
    "\n",
    "    while True:\n",
    "        if mode == 'randchoice':\n",
    "            len_cr = randrange(int(cr_c*num_c),int(cr_c*num_c)+2)\n",
    "            len_mn = randrange(int(mn_c*num_c),int(mn_c*num_c)+2)\n",
    "            len_co = randrange(int(co_c*num_c),int(co_c*num_c)+2)\n",
    "        elif mode == 'int':\n",
    "            len_cr = int(cr_c*num_c)\n",
    "            len_mn = int(mn_c*num_c)\n",
    "            len_co = int(co_c*num_c)\n",
    "        \n",
    "        len_ni = num_c-len_cr-len_mn-len_co\n",
    "        if abs(len_ni-num_c*ni_c) <= 1:\n",
    "            break\n",
    "\n",
    "    ele_list_raw = np.concatenate([np.zeros(len_cr)+2,np.ones(len_mn),0-np.ones(len_co),-1-np.ones(len_ni)],axis=0)\n",
    "    np.random.shuffle(ele_list_raw)\n",
    "    \n",
    "    return ele_list_raw\n",
    "\n",
    "def swap_step(action, state,):\n",
    "\n",
    "    a1 = action[0]\n",
    "    a2 = action[1]\n",
    "\n",
    "    state[a2], state[a1] = state[a1], state[a2]\n",
    "\n",
    "    return state\n",
    "\n",
    "def create_dir(directory):\n",
    "    if not os.path.exists(directory):\n",
    "        os.makedirs(directory)\n",
    "        print(\"Created Directory : \", directory)\n",
    "    else:\n",
    "        print(\"Directory already existed : \", directory)\n",
    "    return directory"
   ]
  },
  {
   "cell_type": "markdown",
   "metadata": {},
   "source": [
    "##### Deduction of configs which are in 3-D periodic boundary condition (PBC)."
   ]
  },
  {
   "cell_type": "code",
   "execution_count": 14,
   "metadata": {},
   "outputs": [
    {
     "data": {
      "text/plain": [
       "array([[ 0.  ,  0.  , -1.  ],\n",
       "       [ 0.  ,  0.  , -0.5 ],\n",
       "       [ 0.  ,  0.25, -0.75],\n",
       "       [ 0.  ,  0.25, -0.25],\n",
       "       [ 0.  ,  0.5 , -1.  ],\n",
       "       [ 0.  ,  0.5 , -0.5 ],\n",
       "       [ 0.  ,  0.75, -0.75],\n",
       "       [ 0.  ,  0.75, -0.25],\n",
       "       [ 0.25,  0.  , -0.75],\n",
       "       [ 0.25,  0.  , -0.25],\n",
       "       [ 0.25,  0.25, -1.  ],\n",
       "       [ 0.25,  0.25, -0.5 ],\n",
       "       [ 0.25,  0.5 , -0.75],\n",
       "       [ 0.25,  0.5 , -0.25],\n",
       "       [ 0.25,  0.75, -1.  ],\n",
       "       [ 0.25,  0.75, -0.5 ],\n",
       "       [ 0.5 ,  0.  , -1.  ],\n",
       "       [ 0.5 ,  0.  , -0.5 ],\n",
       "       [ 0.5 ,  0.25, -0.75],\n",
       "       [ 0.5 ,  0.25, -0.25],\n",
       "       [ 0.5 ,  0.5 , -1.  ],\n",
       "       [ 0.5 ,  0.5 , -0.5 ],\n",
       "       [ 0.5 ,  0.75, -0.75],\n",
       "       [ 0.5 ,  0.75, -0.25],\n",
       "       [ 0.75,  0.  , -0.75],\n",
       "       [ 0.75,  0.  , -0.25],\n",
       "       [ 0.75,  0.25, -1.  ],\n",
       "       [ 0.75,  0.25, -0.5 ],\n",
       "       [ 0.75,  0.5 , -0.75],\n",
       "       [ 0.75,  0.5 , -0.25],\n",
       "       [ 0.75,  0.75, -1.  ],\n",
       "       [ 0.75,  0.75, -0.5 ]])"
      ]
     },
     "execution_count": 14,
     "metadata": {},
     "output_type": "execute_result"
    }
   ],
   "source": [
    "%matplotlib widget\n",
    "ind_raw = np.load('/media/wz/7AD631A4D6316195/Projects/mc_pure_qua/fcc_32/ind_raw32.npy')\n",
    "ind_pbc = ind_raw.copy()\n",
    "trans_mat = np.array([0,-1,1])\n",
    "for i, j, k in product(trans_mat, repeat=3):\n",
    "    trans_vector = np.array([i,j,k])\n",
    "    if np.linalg.norm(trans_vector) != 0:\n",
    "        ind_pbc = np.concatenate([ind_pbc, ind_raw+trans_vector], axis=0)\n",
    "\n",
    "ind_pbc[]"
   ]
  },
  {
   "cell_type": "code",
   "execution_count": 12,
   "metadata": {},
   "outputs": [
    {
     "data": {
      "text/plain": [
       "array([[0.  , 0.  , 0.  ],\n",
       "       [0.  , 0.  , 0.5 ],\n",
       "       [0.  , 0.25, 0.25],\n",
       "       ...,\n",
       "       [1.75, 1.5 , 1.75],\n",
       "       [1.75, 1.75, 1.  ],\n",
       "       [1.75, 1.75, 1.5 ]])"
      ]
     },
     "execution_count": 12,
     "metadata": {},
     "output_type": "execute_result"
    }
   ],
   "source": [
    "ind_pbc"
   ]
  },
  {
   "cell_type": "code",
   "execution_count": 25,
   "metadata": {},
   "outputs": [],
   "source": [
    "np.save('/media/wz/7AD631A4D6316195/Projects/mc_pure_qua/fcc_32/ind_raw_pbc32.npy', ind_pbc)"
   ]
  },
  {
   "cell_type": "code",
   "execution_count": 24,
   "metadata": {},
   "outputs": [],
   "source": [
    "ind_raw = np.load('/media/wz/7AD631A4D6316195/Projects/mc_pure_qua/fcc_32/ind_raw32.npy')\n",
    "pth = '/media/wz/7AD631A4D6316195/Projects/mc_pure_qua/fcc_32/'\n",
    "len_c = len(ind_pbc)\n",
    "ind_1nn_pbc, ind_2nn_pbc, ind_3nn_pbc, ind_4nn_pbc = [], [], [], []\n",
    "dis_list = []\n",
    "for i, j in combinations(range(len_c), 2):\n",
    "    ind = np.array([i,j])\n",
    "    if len(np.where(ind < 32)[0]) == 1:\n",
    "        a1 = ind_pbc[i]\n",
    "        a2 = ind_pbc[j]\n",
    "        if abs_dis(a1, a2, nn1) < 0.001:\n",
    "            ind_1nn_pbc.append([i,j])\n",
    "        elif abs_dis(a1, a2, nn2) < 0.001:\n",
    "            ind_2nn_pbc.append([i,j])\n",
    "        elif abs_dis(a1, a2, nn3) < 0.001:\n",
    "            ind_3nn_pbc.append([i,j])\n",
    "        elif abs_dis(a1, a2, nn4) < 0.001:\n",
    "            ind_4nn_pbc.append([i,j])\n",
    "\n",
    "np.save(pth+'ind_1nn_pbc', ind_1nn_pbc)\n",
    "np.save(pth+'ind_2nn_pbc', ind_2nn_pbc)\n",
    "np.save(pth+'ind_3nn_pbc', ind_3nn_pbc)\n",
    "np.save(pth+'ind_4nn_pbc', ind_4nn_pbc)"
   ]
  },
  {
   "cell_type": "code",
   "execution_count": null,
   "metadata": {},
   "outputs": [],
   "source": [
    "dis_list = np.sort(np.unique(dis_list))\n",
    "nn1, nn2, nn3, nn4 = dis_list[:4]"
   ]
  },
  {
   "cell_type": "markdown",
   "metadata": {},
   "source": [
    "Arrangement:\n",
    "\n",
    "$\\bar\\Phi_i = \\Gamma(\\Phi_i)$\n",
    "\n",
    "$\\bar\\Phi_i = \\bar\\Phi_i(\\widehat{T} \\circ \\vec\\sigma)$\n",
    "\n",
    "$\\{\\phi_1, ..., \\phi_n\\} = \\bar\\Phi_i$\n",
    "\n",
    "$E(\\vec{\\sigma})=V_0\\Phi_0 + \\sum_{n}\\sum_{\\tau}V_n^{\\tau}(T)\\bar\\Phi_n^{\\tau}(\\vec{\\sigma})^T$\n",
    "\n",
    "$n$ = Number of cluster in such config.\n",
    "\n",
    "$V_n =\\ <E(\\vec{\\sigma})|\\bar\\Phi_n>$ = Weight, from the viewpoint of FFT."
   ]
  },
  {
   "cell_type": "markdown",
   "metadata": {},
   "source": [
    "Clusters' symmetry operation:\n",
    "\n",
    "1. Pair\n",
    "\n",
    "A = B: ./1\n",
    "\n",
    "A != B: ./2\n",
    "\n",
    "2. Trip.\n",
    "\n",
    "A = B = C: ./1\n",
    "\n",
    "A = B != C: ./3\n",
    "\n",
    "A != B != C: ./6\n",
    "\n",
    "3. Quad.\n",
    "\n",
    "A = B = C = D: ./1\n",
    "\n",
    "A = B = C != D: ./4\n",
    "\n",
    "A = B != C != D: ./8\n",
    "\n",
    "A != B != C != D: ./8"
   ]
  },
  {
   "cell_type": "code",
   "execution_count": 4,
   "metadata": {},
   "outputs": [],
   "source": [
    "class CE:\n",
    "    def __init__(self, ind_1nn, ind_2nn, ind_3nn, ind_4nn, \n",
    "                ind_qua1nn, ind_qua1nn2nn,\n",
    "                ind_trip1nn, ind_trip1nn2nn, ind_trip1nn2nn3nn,\n",
    "                ind_raw):\n",
    "\n",
    "        self.ind_1nn = ind_1nn\n",
    "        self.ind_2nn = ind_2nn\n",
    "        self.ind_3nn = ind_3nn\n",
    "        self.ind_4nn = ind_4nn\n",
    "        self.ind_qua1nn = ind_qua1nn\n",
    "        self.ind_qua1nn2nn = ind_qua1nn2nn\n",
    "        self.ind_trip1nn = ind_trip1nn\n",
    "        self.ind_trip1nn2nn = ind_trip1nn2nn\n",
    "        self.ind_trip1nn2nn3nn = ind_trip1nn2nn3nn\n",
    "        self.ind_raw = ind_raw\n",
    "        self.sym_oplist = np.array([2, 1, 1, 0, 6, 0, 4, 12, 24])\n",
    "        self.sym_optri = np.array([6, 3, 1])\n",
    "        self.sym_opqua = np.array([0, 0, 1, 0, 0, 0, 2, 0, 4])\n",
    "\n",
    "    #*Normalizaiton by the symmetry operation for each cluster\n",
    "    def sym_operator(self, cluster, mode='None'):\n",
    "        if mode == 'None':\n",
    "            mode_cluster = len(cluster)\n",
    "            uni, count_uni = np.unique(cluster, return_counts=True)\n",
    "            len_uni = len(uni)\n",
    "            count_uni = np.sort(count_uni)\n",
    "            mode_sym = mode_cluster - len(uni)\n",
    "            sym_op = self.sym_oplist[mode_sym+mode_cluster-2]\n",
    "\n",
    "        if mode == 'tri1nn':\n",
    "            mode_cluster = len(cluster)\n",
    "            uni, count_uni = np.unique(cluster, return_counts=True)\n",
    "            len_uni = len(uni)\n",
    "            mode_sym = mode_cluster - len(uni)\n",
    "            sym_op = self.sym_optri[mode_sym]\n",
    "        \n",
    "        if mode == 'qua1nn':\n",
    "            uni, count_uni = np.unique(cluster, return_counts=True)\n",
    "            len_uni = len(uni)\n",
    "            count_uni = np.sort(count_uni)\n",
    "            len_count = len(count_uni)\n",
    "            c_ind = len_uni+len_count+count_uni[-1]-count_uni[0]\n",
    "            sym_op = self.sym_oplist[c_ind]\n",
    "\n",
    "        if mode == 'qua1nn2nn':\n",
    "            uni, count_uni = np.unique(cluster, return_counts=True)\n",
    "            len_uni = len(uni)\n",
    "            count_uni = np.sort(count_uni)\n",
    "            len_count = len(count_uni)\n",
    "            c_ind = len_uni+len_count+count_uni[-1]-count_uni[0]\n",
    "            single_list = np.array([2, 6, 8])\n",
    "            if c_ind in single_list:\n",
    "                sym_op = self.sym_opqua[c_ind]\n",
    "            else:\n",
    "                if c_ind == 4:\n",
    "                    if len(np.unique(cluster[:2])) == 2:\n",
    "                        sym_op = 4\n",
    "                    else:\n",
    "                        sym_op = 1\n",
    "\n",
    "                elif c_ind == 7:\n",
    "                    if len(np.unique(cluster[:2])) == 2 and len(np.unique(cluster[2:4])) == 2:\n",
    "                        sym_op = 4\n",
    "                    else:\n",
    "                        sym_op = 2\n",
    "\n",
    "        return sym_op\n",
    "\n",
    "    def phi1(self, x):\n",
    "        return 2/math.sqrt(10)*x\n",
    "\n",
    "    def phi2(self, x):\n",
    "        return -5/3 + 2/3*(x**2)\n",
    "\n",
    "    def phi3(self, x):\n",
    "        return -17/30*math.sqrt(10)*x + math.sqrt(10)/6*(x**3)\n",
    "    \n",
    "    #*Return the correlation function for each cluster\n",
    "    def cpr(self, val_list):\n",
    "        p1l = self.phi1(val_list).reshape(-1, 1)\n",
    "        p2l = self.phi2(val_list).reshape(-1, 1)\n",
    "        p3l = self.phi3(val_list).reshape(-1, 1)\n",
    "        pl = np.concatenate([p1l, p2l, p3l], 1).T\n",
    "        c_len = len(val_list)\n",
    "        atom = 1\n",
    "        for i in range(c_len):\n",
    "            atom_1 = pl[:, i]\n",
    "            atom = np.outer(atom_1, atom)\n",
    "\n",
    "        return atom.flatten()\n",
    "\n",
    "    def cluster_extra(self, config):\n",
    "        cpr_1nn = 0\n",
    "        for i in self.ind_1nn:\n",
    "            a1, a2 = config[i[0]], config[i[1]]\n",
    "            #* Extra a single cluster within that specie\n",
    "            cluster = np.array([a1, a2])\n",
    "            cpr_1nn += self.cpr(cluster)/self.sym_operator(cluster)\n",
    "\n",
    "        cpr_2nn = 0\n",
    "        for i in self.ind_2nn:\n",
    "            a1, a2 = config[i[0]], config[i[1]]\n",
    "            cluster = np.array([a1, a2])\n",
    "            cpr_2nn += self.cpr(cluster)/self.sym_operator(cluster)\n",
    "        \n",
    "        cpr_3nn = 0\n",
    "        for i in self.ind_3nn:\n",
    "            a1, a2 = config[i[0]], config[i[1]]\n",
    "            cluster = np.array([a1, a2])\n",
    "            cpr_3nn += self.cpr(cluster)/self.sym_operator(cluster)\n",
    "\n",
    "        cpr_4nn = 0\n",
    "        for i in self.ind_4nn:\n",
    "            a1, a2 = config[i[0]], config[i[1]]\n",
    "            cluster = np.array([a1, a2])\n",
    "            cpr_4nn += self.cpr(cluster)/self.sym_operator(cluster)\n",
    "            \n",
    "        cpr_tri1nn = 0\n",
    "        for i in self.ind_trip1nn:\n",
    "            a1, a2, a3 = config[i[0]], config[i[1]], config[i[2]]\n",
    "            cluster = np.array([a1, a2, a3])\n",
    "            cpr_tri1nn += self.cpr(cluster)/self.sym_operator(cluster, mode='tri1nn')\n",
    "\n",
    "        cpr_tri1nn2nn = 0\n",
    "        for i in self.ind_trip1nn2nn:\n",
    "            a1, a2, a3 = config[i[0]], config[i[1]], config[i[2]]\n",
    "            cluster = np.array([a1, a2, a3])\n",
    "            #*The only operation in this case when in AAB form\n",
    "            if (a1 == a2 and a1 != a3) or (a1 == a3 and a1 != a2):\n",
    "                cpr_tri1nn2nn += self.cpr(cluster)/2\n",
    "            else:\n",
    "                cpr_tri1nn2nn += self.cpr(cluster)\n",
    "\n",
    "        cpr_tri1nn2nn3nn = 0\n",
    "        for i in self.ind_trip1nn2nn3nn:\n",
    "            a1, a2, a3 = config[i[0]], config[i[1]], config[i[2]]\n",
    "            cluster = np.array([a1, a2, a3])\n",
    "            cpr_tri1nn2nn3nn += self.cpr(cluster)\n",
    "\n",
    "        #!Consider the operation in qua later\n",
    "        cpr_qua1nn = 0\n",
    "        for i in self.ind_qua1nn:\n",
    "            a1, a2, a3, a4 = config[i[0]], config[i[1]], config[i[2]], config[i[3]]\n",
    "            cluster = np.array([a1, a2, a3, a4])\n",
    "            cpr_qua1nn += self.cpr(cluster)/self.sym_operator(cluster, mode='qua1nn')\n",
    "\n",
    "        cpr_qua1nn2nn = 0\n",
    "        for i in self.ind_qua1nn2nn:\n",
    "            a1, a2, a3, a4 = config[i[0]], config[i[1]], config[i[2]], config[i[3]]\n",
    "            cluster = np.array([a1, a2, a3, a4])\n",
    "            cpr_qua1nn2nn += self.cpr(cluster)/self.sym_operator(cluster, mode='qua1nn2nn')\n",
    "\n",
    "        return np.concatenate([\n",
    "            cpr_1nn, cpr_2nn, cpr_3nn, cpr_4nn,\n",
    "            cpr_tri1nn, cpr_tri1nn2nn, cpr_tri1nn2nn3nn,\n",
    "            cpr_qua1nn, \n",
    "            # np.ones(1)\n",
    "        ], 0) #*Remove a quadruplet term\n",
    "\n",
    "    def config_extra(self, num_cell, ind_cr, ind_mn, ind_co, ind_ni):\n",
    "        ele_list = np.zeros(num_cell)\n",
    "        overlap_cr = find_overlap(self.ind_raw, ind_cr)\n",
    "        overlap_mn = find_overlap(self.ind_raw, ind_mn)\n",
    "        overlap_co = find_overlap(self.ind_raw, ind_co)\n",
    "        overlap_ni = find_overlap(self.ind_raw, ind_ni)\n",
    "\n",
    "        ele_list[np.where(overlap_cr)[0]] = 2\n",
    "        ele_list[np.where(overlap_mn)[0]] = 1\n",
    "        ele_list[np.where(overlap_co)[0]] = -1\n",
    "        ele_list[np.where(overlap_ni)[0]] = -2\n",
    "\n",
    "        cpr_list = self.cluster_extra(ele_list)\n",
    "\n",
    "        return cpr_list\n",
    "\n",
    "    def read(self, incar_dir):\n",
    "        with open(incar_dir) as f:\n",
    "            input_strip = [s.strip() for s in f.readlines()]\n",
    "        return input_strip"
   ]
  },
  {
   "cell_type": "code",
   "execution_count": 11,
   "metadata": {},
   "outputs": [
    {
     "name": "stdout",
     "output_type": "stream",
     "text": [
      "0.9999808178364704\n"
     ]
    }
   ],
   "source": [
    "#* Deducing step\n",
    "\n",
    "ind_1nn = np.load('/media/wz/7AD631A4D6316195/Projects/mc_pure_qua/fcc_32/ind_1nn.npy')\n",
    "ind_2nn = np.load('/media/wz/7AD631A4D6316195/Projects/mc_pure_qua/fcc_32/ind_2nn.npy')\n",
    "ind_3nn = np.load('/media/wz/7AD631A4D6316195/Projects/mc_pure_qua/fcc_32/ind_3nn.npy')\n",
    "ind_4nn = np.load('/media/wz/7AD631A4D6316195/Projects/mc_pure_qua/fcc_32/ind_4nn.npy')\n",
    "ind_qua1nn = np.load('/media/wz/7AD631A4D6316195/Projects/mc_pure_qua/fcc_32/ind_qua1nn.npy')\n",
    "ind_qua1nn2nn = np.load('/media/wz/7AD631A4D6316195/Projects/mc_pure_qua/fcc_32/ind_qua1nn2nn.npy')\n",
    "ind_trip1nn = np.load('/media/wz/7AD631A4D6316195/Projects/mc_pure_qua/fcc_32/ind_trip1nn.npy')\n",
    "ind_trip1nn2nn = np.load('/media/wz/7AD631A4D6316195/Projects/mc_pure_qua/fcc_32/ind_trip1nn2nn.npy')\n",
    "ind_trip1nn2nn3nn = np.load('/media/wz/7AD631A4D6316195/Projects/mc_pure_qua/fcc_32/ind_trip1nn2nn3nn.npy')\n",
    "ind_raw = np.load('/media/wz/7AD631A4D6316195/Projects/mc_pure_qua/fcc_32/ind_raw32.npy')\n",
    "\n",
    "weight_list, energy = [], []\n",
    "ce_ = CE(ind_1nn, ind_2nn, ind_3nn, ind_4nn, \n",
    "        ind_qua1nn, ind_qua1nn2nn,\n",
    "        ind_trip1nn, ind_trip1nn2nn, ind_trip1nn2nn3nn,\n",
    "        ind_raw)\n",
    "for i in range(1, 73):\n",
    "    if i!=50:\n",
    "        ind_cr = np.load(f'/media/wz/7AD631A4D6316195/Projects/mc_pure_qua/252525/Cr25Mn25Co25Ni2532_try{i}/Cr25Mn25Co25Ni25_cr_chosen.npy')\n",
    "        ind_mn = np.load(f'/media/wz/7AD631A4D6316195/Projects/mc_pure_qua/252525/Cr25Mn25Co25Ni2532_try{i}/Cr25Mn25Co25Ni25_mn_chosen.npy')\n",
    "        ind_co = np.load(f'/media/wz/7AD631A4D6316195/Projects/mc_pure_qua/252525/Cr25Mn25Co25Ni2532_try{i}/Cr25Mn25Co25Ni25_co_chosen.npy')\n",
    "        ind_ni = np.load(f'/media/wz/7AD631A4D6316195/Projects/mc_pure_qua/252525/Cr25Mn25Co25Ni2532_try{i}/Cr25Mn25Co25Ni25_ni_chosen.npy')\n",
    "        osz_dir = f'/media/wz/7AD631A4D6316195/Projects/MSAD/outputs_32_crmnconi/Cr25Mn25Co25Ni25_3.512_try{i}/OSZICAR'\n",
    "        oszicar = ce_.read(osz_dir)[-1]\n",
    "        e_ground = float(''.join(oszicar).split()[-4])\n",
    "        ce_feature = ce_.config_extra(32, ind_cr, ind_mn, ind_co, ind_ni)\n",
    "        weight_list.append(ce_feature)\n",
    "        energy.append(e_ground)\n",
    "\n",
    "weight_list, energy = np.array(weight_list), np.array(energy)\n",
    "e_train, e_test, weight_train, weight_test = train_test_split(energy, weight_list, test_size=0.2)\n",
    "n_weights_ = weight_train.shape[0]\n",
    "clf_ = RidgeCV().fit(weight_train, e_train)\n",
    "print(clf_.score(weight_train, e_train))\n",
    "coef_ = clf_.coef_"
   ]
  },
  {
   "cell_type": "code",
   "execution_count": 17,
   "metadata": {},
   "outputs": [
    {
     "data": {
      "image/png": "[encoded data removed]",
      "text/plain": [
       "<Figure size 432x288 with 1 Axes>"
      ]
     },
     "metadata": {
      "needs_background": "light"
     },
     "output_type": "display_data"
    }
   ],
   "source": [
    "#* Estimation step\n",
    "ind_1nn = np.load('/media/wz/7AD631A4D6316195/Projects/mc_pure_qua/fcc_2048/ind_1nn.npy')\n",
    "ind_2nn = np.load('/media/wz/7AD631A4D6316195/Projects/mc_pure_qua/fcc_2048/ind_2nn.npy')\n",
    "ind_3nn = np.load('/media/wz/7AD631A4D6316195/Projects/mc_pure_qua/fcc_2048/ind_3nn.npy')\n",
    "ind_4nn = np.load('/media/wz/7AD631A4D6316195/Projects/mc_pure_qua/fcc_2048/ind_4nn.npy')\n",
    "ind_qua1nn = np.load('/media/wz/7AD631A4D6316195/Projects/mc_pure_qua/fcc_2048/ind_qua1nn.npy')\n",
    "ind_qua1nn2nn = np.load('/media/wz/7AD631A4D6316195/Projects/mc_pure_qua/fcc_2048/ind_qua1nn2nn.npy')\n",
    "ind_trip1nn = np.load('/media/wz/7AD631A4D6316195/Projects/mc_pure_qua/fcc_2048/ind_trip1nn.npy')\n",
    "ind_trip1nn2nn = np.load('/media/wz/7AD631A4D6316195/Projects/mc_pure_qua/fcc_2048/ind_trip1nn2nn.npy')\n",
    "ind_trip1nn2nn3nn = np.load('/media/wz/7AD631A4D6316195/Projects/mc_pure_qua/fcc_2048/ind_trip1nn2nn3nn.npy')\n",
    "ind_raw = np.load('/media/wz/7AD631A4D6316195/Projects/mc_pure_qua/fcc_2048/ind_raw2048.npy')\n",
    "\n",
    "ce_e = CE(ind_1nn, ind_2nn, ind_3nn, ind_4nn, \n",
    "        ind_qua1nn, ind_qua1nn2nn,\n",
    "        ind_trip1nn, ind_trip1nn2nn, ind_trip1nn2nn3nn,\n",
    "        ind_raw)\n",
    "\n",
    "config = ele_list_gen(1/4, 1/4, 1/4, 1/4, num_c=2048)\n",
    "iter_time= 10000\n",
    "temp = 1273\n",
    "k_ = 8.617333262e-5\n",
    "e_list = []\n",
    "config_list = np.zeros((50, 2048))\n",
    "e_list_store = np.zeros(50)\n",
    "for i in range(iter_time):\n",
    "        weight_config = ce_e.cluster_extra(config).reshape(-1,1).T\n",
    "        energy = clf_.predict(weight_config)\n",
    "        e_list.append(energy)\n",
    "        config_list[iter_time%50] = config\n",
    "        e_list_store[iter_time%50] = energy\n",
    "\n",
    "        a_ind = randrange(len(ind_1nn))\n",
    "        action = ind_1nn[a_ind]\n",
    "        config_ = swap_step(action, config)\n",
    "        weight_config_ = ce_e.cluster_extra(config_).reshape(-1,1).T\n",
    "        energy_ = clf_.predict(weight_config_)\n",
    "\n",
    "        accept = np.min([1, np.exp((energy-energy_)/(k_*temp))])\n",
    "        r_v = np.random.rand()\n",
    "        if r_v <= accept:\n",
    "                config = config_\n",
    "        else:\n",
    "                config = config\n",
    "\n",
    "        clear_output(True)\n",
    "        plt.title(f'Iter num {i} at {temp} K')\n",
    "        plt.plot(e_list)\n",
    "        plt.show()"
   ]
  },
  {
   "cell_type": "code",
   "execution_count": 15,
   "metadata": {},
   "outputs": [],
   "source": [
    "np.save('/media/wz/7AD631A4D6316195/Projects/mc_pure_qua/CE/2048_qua/273/config', config_list)\n",
    "np.save('/media/wz/7AD631A4D6316195/Projects/mc_pure_qua/CE/2048_qua/273/energy', e_list)"
   ]
  },
  {
   "cell_type": "code",
   "execution_count": 196,
   "metadata": {},
   "outputs": [
    {
     "data": {
      "text/plain": [
       "array([-247.60429228, -247.39531867, -248.81587907, -248.34429353,\n",
       "       -249.09029811, -248.82051696, -248.96710965, -245.77977474,\n",
       "       -249.21112519, -248.0147978 , -246.99721478, -250.96710612,\n",
       "       -246.67043486])"
      ]
     },
     "execution_count": 196,
     "metadata": {},
     "output_type": "execute_result"
    }
   ],
   "source": [
    "clf_.predict(weight_test)"
   ]
  },
  {
   "cell_type": "code",
   "execution_count": 201,
   "metadata": {},
   "outputs": [
    {
     "data": {
      "text/plain": [
       "(1, 279)"
      ]
     },
     "execution_count": 201,
     "metadata": {},
     "output_type": "execute_result"
    }
   ],
   "source": [
    "ce_e.cluster_extra(config).reshape(-1,1).T.shapen_weights_"
   ]
  },
  {
   "cell_type": "code",
   "execution_count": 31,
   "metadata": {},
   "outputs": [],
   "source": [
    "ind_raw = np.load('/media/wz/7AD631A4D6316195/Projects/mc_pure_qua/fcc_32/ind_raw32.npy')"
   ]
  },
  {
   "cell_type": "markdown",
   "metadata": {},
   "source": [
    "1. Triplets"
   ]
  },
  {
   "cell_type": "code",
   "execution_count": 26,
   "metadata": {},
   "outputs": [],
   "source": [
    "ind_pbc = np.load('/media/wz/7AD631A4D6316195/Projects/mc_pure_qua/fcc_32/ind_raw_pbc32.npy')\n",
    "# ind_raw = np.load('/media/wz/7AD631A4D6316195/Projects/mc_pure_qua/fcc_32/ind_raw32.npy')\n",
    "pth = '/media/wz/7AD631A4D6316195/Projects/mc_pure_qua/fcc_32/'\n",
    "len_c = len(ind_pbc)\n",
    "ind_trip1nn_pbc, ind_trip1nn2nn_pbc, ind_trip1nn2nn3nn_pbc = [], [], []\n",
    "\n",
    "ideal_1nn = np.array([nn1, nn1, nn1])\n",
    "ideal_1nn2nn = np.array([nn1, nn1, nn2])\n",
    "ideal_1nn2nn3nn = np.array([nn1, nn2, nn3])\n",
    "short_path = np.array([nn1, nn1])\n",
    "\n",
    "for i, j, k in combinations(range(len_c), 3):\n",
    "    ind = np.array([i, j, k])\n",
    "    if 1 <= len(np.where(ind < 32)[0]) <= 2:\n",
    "        a1 = ind_pbc[i]\n",
    "        a2 = ind_pbc[j]\n",
    "        a3 = ind_pbc[k]\n",
    "        dis1 = abs_dis(a1, a2, 0)\n",
    "        dis2 = abs_dis(a1, a3, 0)\n",
    "        dis3 = abs_dis(a2, a3, 0)\n",
    "        \n",
    "        if np.linalg.norm(np.sort([dis1, dis2, dis3]) - ideal_1nn) < 0.001:\n",
    "            ind_trip1nn_pbc.append([i,j,k])\n",
    "        \n",
    "        elif np.linalg.norm(np.sort([dis1, dis2, dis3])-ideal_1nn2nn) < 0.001:\n",
    "            if np.linalg.norm(np.sort([dis1, dis2])-short_path) < 0.001:\n",
    "                ind_trip1nn2nn_pbc.append([i, j, k])\n",
    "            elif np.linalg.norm(np.sort([dis1, dis3])-short_path) < 0.001:\n",
    "                ind_trip1nn2nn_pbc.append([j, i, k])\n",
    "            elif np.linalg.norm(np.sort([dis2, dis3])-short_path) < 0.001:\n",
    "                ind_trip1nn2nn_pbc.append([k, i, j])\n",
    "\n",
    "        elif np.linalg.norm(np.sort([dis1, dis2, dis3])-ideal_1nn2nn3nn) < 0.001:\n",
    "            ind_trip1nn2nn3nn_pbc.append([i,j,k])\n",
    "\n",
    "np.save(pth+'ind_trip1nn_pbc', ind_trip1nn_pbc)\n",
    "np.save(pth+'ind_trip1nn2nn_pbc', ind_trip1nn2nn_pbc)\n",
    "np.save(pth+'ind_trip1nn2nn3nn_pbc', ind_trip1nn2nn3nn_pbc)"
   ]
  },
  {
   "cell_type": "code",
   "execution_count": 39,
   "metadata": {},
   "outputs": [
    {
     "data": {
      "text/plain": [
       "108"
      ]
     },
     "execution_count": 39,
     "metadata": {},
     "output_type": "execute_result"
    }
   ],
   "source": [
    "#*a, b, c = 1nn, 1nn, 1nn\n",
    "ind_trip1nn = []\n",
    "for i, j, k in combinations(range(len(ind_raw)), 3):\n",
    "    a1 = ind_raw[i]\n",
    "    a2 = ind_raw[j]\n",
    "    a3 = ind_raw[k]\n",
    "    dis1 = abs_dis(a1, a2, nn1)\n",
    "    dis2 = abs_dis(a1, a3, nn1)\n",
    "    dis3 = abs_dis(a2, a3, nn1)\n",
    "    if np.linalg.norm([dis1, dis2, dis3]) < 0.001:\n",
    "        ind_trip1nn.append([i, j, k])\n",
    "\n",
    "np.save('/media/wz/7AD631A4D6316195/Projects/mc_pure_qua/fcc_32/ind_trip1nn', ind_trip1nn)\n",
    "len(ind_trip1nn)"
   ]
  },
  {
   "cell_type": "code",
   "execution_count": 15,
   "metadata": {},
   "outputs": [
    {
     "data": {
      "text/plain": [
       "144"
      ]
     },
     "execution_count": 15,
     "metadata": {},
     "output_type": "execute_result"
    }
   ],
   "source": [
    "#*a, b, c = 1nn, 1nn, 2nn\n",
    "nn1, nn2 = dis_list[:2]\n",
    "ind_trip1nn = []\n",
    "ideal_len = np.array([nn1, nn1, nn2])\n",
    "short_path = np.array([nn1, nn1])\n",
    "for i, j, k in combinations(range(len(ind_raw)), 3):\n",
    "    a1 = ind_raw[i]\n",
    "    a2 = ind_raw[j]\n",
    "    a3 = ind_raw[k]\n",
    "    dis1 = abs_dis(a1, a2, 0)\n",
    "    dis2 = abs_dis(a1, a3, 0)\n",
    "    dis3 = abs_dis(a2, a3, 0)\n",
    "    \n",
    "    if np.linalg.norm(np.sort([dis1, dis2, dis3])-ideal_len) < 0.001:\n",
    "        if np.linalg.norm(np.sort([dis1, dis2])-short_path) < 0.001:\n",
    "            ind_trip1nn.append([i, j, k])\n",
    "        elif np.linalg.norm(np.sort([dis1, dis3])-short_path) < 0.001:\n",
    "            ind_trip1nn.append([j, i, k])\n",
    "        elif np.linalg.norm(np.sort([dis2, dis3])-short_path) < 0.001:\n",
    "            ind_trip1nn.append([k, i, j])\n",
    "\n",
    "np.save('/media/wz/7AD631A4D6316195/Projects/mc_pure_qua/fcc_32/ind_trip1nn2nn', ind_trip1nn)\n",
    "len(ind_trip1nn)"
   ]
  },
  {
   "cell_type": "code",
   "execution_count": 41,
   "metadata": {},
   "outputs": [
    {
     "data": {
      "text/plain": [
       "216"
      ]
     },
     "execution_count": 41,
     "metadata": {},
     "output_type": "execute_result"
    }
   ],
   "source": [
    "#*a, b, c = 1nn, 2nn, 3nn\n",
    "ind_trip1nn = []\n",
    "ideal_len = np.array([nn1, nn2, nn3])\n",
    "for i, j, k in combinations(range(len(ind_raw)), 3):\n",
    "    a1 = ind_raw[i]\n",
    "    a2 = ind_raw[j]\n",
    "    a3 = ind_raw[k]\n",
    "    dis1 = abs_dis(a1, a2, 0)\n",
    "    dis2 = abs_dis(a1, a3, 0)\n",
    "    dis3 = abs_dis(a2, a3, 0)\n",
    "    if np.linalg.norm(np.sort([dis1, dis2, dis3])-ideal_len) < 0.001:\n",
    "        ind_trip1nn.append([i, j, k])\n",
    "\n",
    "np.save('/media/wz/7AD631A4D6316195/Projects/mc_pure_qua/fcc_32/ind_trip1nn2nn3nn', ind_trip1nn)\n",
    "len(ind_trip1nn)"
   ]
  },
  {
   "cell_type": "markdown",
   "metadata": {},
   "source": [
    "2. Quadruplets"
   ]
  },
  {
   "cell_type": "code",
   "execution_count": 29,
   "metadata": {},
   "outputs": [],
   "source": [
    "ind_pbc = np.load('/media/wz/7AD631A4D6316195/Projects/mc_pure_qua/fcc_32/ind_raw_pbc32.npy')\n",
    "# ind_raw = np.load('/media/wz/7AD631A4D6316195/Projects/mc_pure_qua/fcc_32/ind_raw32.npy')\n",
    "pth = '/media/wz/7AD631A4D6316195/Projects/mc_pure_qua/fcc_32/'\n",
    "len_c = len(ind_pbc)\n",
    "ind_qua1nn_pbc = []\n",
    "\n",
    "ideal_1nn = np.array([nn1, nn1, nn1, nn1, nn1, nn1])\n",
    "\n",
    "for i, j, k, l in combinations(range(len_c), 4):\n",
    "    ind = np.array([i, j, k, l])\n",
    "    if 1 <= len(np.where(ind < 32)[0]) <= 3:\n",
    "        a1 = ind_pbc[i]\n",
    "        a2 = ind_pbc[j]\n",
    "        a3 = ind_pbc[k]\n",
    "        a4 = ind_pbc[l]\n",
    "\n",
    "        dis1 = abs_dis(a1, a2, 0)\n",
    "        dis2 = abs_dis(a1, a3, 0)\n",
    "        dis3 = abs_dis(a1, a4, 0)\n",
    "        dis4 = abs_dis(a2, a3, 0)\n",
    "        dis5 = abs_dis(a2, a4, 0)\n",
    "        dis6 = abs_dis(a3, a4, 0)\n",
    "\n",
    "        if np.linalg.norm(np.sort([dis1, dis2, dis3, dis4, dis5, dis6])-ideal_1nn) < 0.001:\n",
    "            ind_qua1nn_pbc.append([i, j, k, l])\n",
    "\n",
    "np.save(pth+'ind_qua1nn_pbc', ind_qua1nn_pbc)"
   ]
  },
  {
   "cell_type": "code",
   "execution_count": 45,
   "metadata": {},
   "outputs": [
    {
     "data": {
      "text/plain": [
       "27"
      ]
     },
     "execution_count": 45,
     "metadata": {},
     "output_type": "execute_result"
    }
   ],
   "source": [
    "#*a, b, c, d, e, f = 1nn, 1nn, 1nn, 1nn, 1nn, 2nn\n",
    "ind_qua1nn = []\n",
    "ideal_len = np.array([nn1, nn1, nn1, nn1, nn1, nn1])\n",
    "for i, j, k, l in combinations(range(len(ind_raw)), 4):\n",
    "    a1 = ind_raw[i]\n",
    "    a2 = ind_raw[j]\n",
    "    a3 = ind_raw[k]\n",
    "    a4 = ind_raw[l]\n",
    "    dis1 = abs_dis(a1, a2, 0)\n",
    "    dis2 = abs_dis(a1, a3, 0)\n",
    "    dis3 = abs_dis(a1, a4, 0)\n",
    "    dis4 = abs_dis(a2, a3, 0)\n",
    "    dis5 = abs_dis(a2, a4, 0)\n",
    "    dis6 = abs_dis(a3, a4, 0)\n",
    "    if np.linalg.norm(np.sort([dis1, dis2, dis3, dis4, dis5, dis6])-ideal_len) < 0.001:\n",
    "        ind_qua1nn.append([i, j, k, l])\n",
    "\n",
    "np.save('/media/wz/7AD631A4D6316195/Projects/mc_pure_qua/fcc_32/ind_qua1nn', ind_trip1nn)\n",
    "len(ind_qua1nn)"
   ]
  },
  {
   "cell_type": "code",
   "execution_count": 27,
   "metadata": {},
   "outputs": [
    {
     "data": {
      "text/plain": [
       "108"
      ]
     },
     "execution_count": 27,
     "metadata": {},
     "output_type": "execute_result"
    }
   ],
   "source": [
    "#*a, b, c, d = 1nn, 1nn, 1nn, 1nn\n",
    "ind_qua1nn = []\n",
    "ideal_len = np.array([nn1, nn1, nn1, nn1, nn1, nn2])\n",
    "for i, j, k, l in combinations(range(len(ind_raw)), 4):\n",
    "    a1 = ind_raw[i]\n",
    "    a2 = ind_raw[j]\n",
    "    a3 = ind_raw[k]\n",
    "    a4 = ind_raw[l]\n",
    "    dis1 = abs_dis(a1, a2, 0)\n",
    "    dis2 = abs_dis(a1, a3, 0)\n",
    "    dis3 = abs_dis(a1, a4, 0)\n",
    "    dis4 = abs_dis(a2, a3, 0)\n",
    "    dis5 = abs_dis(a2, a4, 0)\n",
    "    dis6 = abs_dis(a3, a4, 0)\n",
    "    if np.linalg.norm(np.sort([dis1, dis2, dis3, dis4, dis5, dis6])-ideal_len) < 0.001:\n",
    "        if dis1 == nn2:\n",
    "            ind_qua1nn.append([i, j, k, l])\n",
    "        elif dis2 == nn2:\n",
    "            ind_qua1nn.append([i, k, j, l])\n",
    "        elif dis3 == nn2:\n",
    "            ind_qua1nn.append([i, l, k, j])\n",
    "        elif dis4 == nn2:\n",
    "            ind_qua1nn.append([k, j, i, l])\n",
    "        elif dis5 == nn2:\n",
    "            ind_qua1nn.append([l, j, k, i])\n",
    "        elif dis6 == nn2:\n",
    "            ind_qua1nn.append([k, l, i, j])\n",
    "\n",
    "np.save('/media/wz/7AD631A4D6316195/Projects/mc_pure_qua/fcc_32/ind_qua1nn2nn', ind_qua1nn)\n",
    "len(ind_qua1nn)"
   ]
  }
 ],
 "metadata": {
  "kernelspec": {
   "display_name": "Python 3.9.7 ('base')",
   "language": "python",
   "name": "python3"
  },
  "language_info": {
   "codemirror_mode": {
    "name": "ipython",
    "version": 3
   },
   "file_extension": ".py",
   "mimetype": "text/x-python",
   "name": "python",
   "nbconvert_exporter": "python",
   "pygments_lexer": "ipython3",
   "version": "3.9.7"
  },
  "orig_nbformat": 4,
  "vscode": {
   "interpreter": {
    "hash": "68475d8e8ba7c27bff5b0c1dcce162ecdafd8f583568d2d03f898fe272d0ccc7"
   }
  }
 },
 "nbformat": 4,
 "nbformat_minor": 2
}
