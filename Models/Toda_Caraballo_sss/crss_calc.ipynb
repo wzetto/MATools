{
 "cells": [
  {
   "cell_type": "code",
   "execution_count": 1,
   "metadata": {},
   "outputs": [],
   "source": [
    "import numpy as np\n",
    "import math\n",
    "import matplotlib.pyplot as plt\n",
    "import matplotlib"
   ]
  },
  {
   "cell_type": "code",
   "execution_count": 32,
   "metadata": {},
   "outputs": [],
   "source": [
    "#*TC model for yield strength at room temperature\n",
    "class TC_model:\n",
    "    def __init__(self, x, f, k, r, r2, r3, delta, mu):\n",
    "        self.x = x # atomic concentration\n",
    "        self.f = f # packing factor\n",
    "        self.k = k # bulk modulus\n",
    "        self.r = r # TC-EARS atomic radii\n",
    "        self.r2 = r2 # Var-EARS atomic radii\n",
    "        self.r3 = r3 # Curtin's atomic radii\n",
    "        self.delta = delta # change in composition\n",
    "        self.mu = mu\n",
    "\n",
    "    def lattice_param(self):\n",
    "        matrix = self.sij()\n",
    "        a =  1/self.f*np.dot(np.dot(self.x, matrix), self.x.T)\n",
    "        return a\n",
    "\n",
    "    def lattice_param_(self, x_):\n",
    "        matrix = self.sij()\n",
    "        a = np.dot(np.dot(x_, matrix), x_.T)\n",
    "        return a\n",
    "\n",
    "    def sij(self):\n",
    "        k, r = self.k, self.r\n",
    "        len_s = len(self.x[0])\n",
    "        matrix = np.zeros((len_s, len_s))\n",
    "        for i in range(len_s):\n",
    "            for j in range(len_s):\n",
    "                matrix[i][j] = ((4*(r[i]**2)*k[i]*self.x[0][i] + 4*(r[j]**2)*k[j]*self.x[0][j])/\n",
    "                                    (2*r[i]*k[i]*self.x[0][i] + 2*r[j]*k[j]*self.x[0][j]))\n",
    "        # print(matrix)\n",
    "        return matrix\n",
    "\n",
    "    def delta_(self, da_x):\n",
    "        return np.dot(np.dot(self.x, da_x), self.x.T)\n",
    "\n",
    "    def da_x_(self, i, j):\n",
    "        dx = self.delta\n",
    "        x = self.x\n",
    "        x_ = x.copy()\n",
    "        x_[0][i] -= dx\n",
    "        x_[0][j] += dx\n",
    "        da_x = (self.lattice_param()*self.f - self.lattice_param_(x_))/dx\n",
    "        return da_x\n",
    "\n",
    "    def ys_(self, s0):\n",
    "        mu = self.mu\n",
    "        a = self.lattice_param().flatten()[0]\n",
    "        len_s = len(self.x[0])\n",
    "        da_x = np.zeros((len_s, len_s))\n",
    "        for i in range(len_s):\n",
    "            for j in range(len_s):\n",
    "                if i != j:\n",
    "                    da_x[i][j] = abs(self.da_x_(i, j))**(4/3)\n",
    "        delta = self.delta_(da_x)\n",
    "        return s0 + 3.06*5*mu*((1*16/a)**(4/3))*delta\n",
    "\n",
    "    #*deltaE_b\n",
    "    def dEb(self):\n",
    "        l_param = self.lattice_param().flatten()[0]\n",
    "        x = self.x\n",
    "        b = math.sqrt(2)/2*l_param\n",
    "        print(f'b: {b}')\n",
    "        atom_v3 = (2/0.74*self.r3)**3/4 #* atomic volume by radii from reference\n",
    "        print(f'ave_atom by radii from closed packing model: {atom_v3}')\n",
    "        atom_v2 = (self.r2*math.sqrt(2)*2)**3/4 #* atomic volume by radii from reference\n",
    "        print(f'ave_atom by radii from closed packing model: {atom_v2}')\n",
    "        atom_v = (2/0.74*self.r)**3/4 #* atomic volume by TC model\n",
    "        print(f'ave_atom by TC model: {atom_v}')\n",
    "        ave_atom_v = np.mean(atom_v) #*Mixture vol by average of atoms\n",
    "        ave_atom_v3 = np.mean(atom_v3) #*Mixture vol by average of atoms\n",
    "        ave_atom_v2  = np.mean(atom_v2)\n",
    "        # print(f'ave_atom by linear average: {ave_atom_v}')\n",
    "        # ave_atom_v = l_param**3/4 #* Mixture vol By lattice param calculated\n",
    "        # print(f'ave_atom by lattice param: {ave_atom_v}')\n",
    "        sum_x = 0\n",
    "        for i in range(len(self.x[0])):\n",
    "            sum_x += x[0][i]*((atom_v[i]-ave_atom_v)**2)/(b**6)\n",
    "\n",
    "        sum_x2 = 0\n",
    "        for i in range(len(self.x[0])):\n",
    "            sum_x2 += x[0][i]*((atom_v2[i]-ave_atom_v2)**2)/(b**6)\n",
    "\n",
    "        sum_x3 = 0\n",
    "        for i in range(len(self.x[0])):\n",
    "            sum_x3 += x[0][i]*((atom_v3[i]-ave_atom_v3)**2)/(b**6)\n",
    "\n",
    "        poi_v = np.sum(x[0]*np.array([0.275, 0.293, 0.310]))\n",
    "        poi_part = ((1+poi_v)/(1-poi_v))**(2/3)\n",
    "        sum_part = sum_x**(1/3)\n",
    "        sum_part2 = sum_x2**(1/3)\n",
    "        sum_part3 = sum_x3**(1/3)\n",
    "        delta_e = 0.274*(0.123**(1/3))*(b**3)*poi_part*5.7*sum_part*1e-36*self.mu*1e3\n",
    "        delta_e2 = 0.274*(0.123**(1/3))*(b**3)*poi_part*5.7*sum_part2*1e-36*self.mu*1e3\n",
    "        delta_e3 = 0.274*(0.123**(1/3))*(b**3)*poi_part*5.7*sum_part3*1e-36*self.mu*1e3\n",
    "        return delta_e, delta_e2, delta_e3\n",
    "\n",
    "    #*tao0 by Varvenne\n",
    "    def tao0(self):\n",
    "        k, r = self.k, self.r2\n",
    "        len_s = len(self.x[0])\n",
    "        matrix = np.zeros((len_s, len_s))\n",
    "        for i in range(len_s):\n",
    "            for j in range(len_s):\n",
    "                matrix[i][j] = ((4*(r[i]**2)*k[i]*self.x[0][i] + 4*(r[j]**2)*k[j]*self.x[0][j])/\n",
    "                                    (2*r[i]*k[i]*self.x[0][i] + 2*r[j]*k[j]*self.x[0][j]))\n",
    "        l_param = 1/self.f*np.dot(np.dot(self.x, matrix), self.x.T).flatten()[0]\n",
    "\n",
    "        x = self.x\n",
    "        b = math.sqrt(2)/2*l_param\n",
    "        atom_v1 = (self.r2*math.sqrt(2)*2)**3/4 #* atomic volume by radii from reference\n",
    "        print(f'ave_atom by radii from closed packing model: {atom_v1}')\n",
    "        atom_v2 = (2/0.74*self.r2)**3/4 #* atomic volume by TC model\n",
    "        print(f'ave_atom by TC model: {atom_v2}')\n",
    "        ave_atom_v = np.mean(atom_v2) #*Mixture vol by average of atoms\n",
    "        print(f'ave_atom by linear average: {ave_atom_v}')\n",
    "        # ave_atom_v = l_param**3/4 #* Mixture vol By lattice param calculated\n",
    "        # print(f'ave_atom by lattice param: {ave_atom_v}')\n",
    "\n",
    "        sum_x = 0\n",
    "        for i in range(len(self.x[0])):\n",
    "            sum_x += x[0][i]*((atom_v1[i]-ave_atom_v)**2)/(b**6)\n",
    "        sum_part = sum_x**(2/3)\n",
    "\n",
    "        poi_v = np.sum(x[0]*np.array([0.275, 0.293, 0.310]))\n",
    "        poi_part = ((1+poi_v)/(1-poi_v))**(4/3)\n",
    "        print(f'poission ration: {poi_v, poi_part}')\n",
    "\n",
    "        return 0.051*(0.123**(-1/3))*poi_part*0.35*sum_part"
   ]
  },
  {
   "cell_type": "markdown",
   "metadata": {},
   "source": [
    "2 ways to calc the atomic volume.\n",
    "\n",
    "2 ways to calc the mixture volume."
   ]
  },
  {
   "cell_type": "code",
   "execution_count": 45,
   "metadata": {},
   "outputs": [
    {
     "data": {
      "text/plain": [
       "(349.61655416722493,\n",
       " 357.47662674890915,\n",
       " 371.3758105482599,\n",
       " 381.1759328968827,\n",
       " 311.2504473873934)"
      ]
     },
     "execution_count": 45,
     "metadata": {},
     "output_type": "execute_result"
    }
   ],
   "source": [
    "#*Cr, Co, Ni\n",
    "def mu_l(x):\n",
    "    return 103.5*x[0][0] + 81*x[0][1] + 76*x[0][2]\n",
    "\n",
    "x_4527 = np.array([[0.45, 0.275, 0.275]])\n",
    "x_4525 = np.array([[0.45, 0.25, 0.3]])\n",
    "x_4520 = np.array([[0.45, 0.20, 0.35]])\n",
    "x_4515 = np.array([[0.45, 0.15, 0.4]])\n",
    "x_3333 = np.array([[1/3, 1/3, 1/3]])\n",
    "f = 0.74\n",
    "k = np.array([160, 180, 180])/1000\n",
    "r = np.array([129.25, 124.46, 123.28])\n",
    "r2 = np.array([130.09, 124.30, 122.66])\n",
    "r3 = np.array([122.7, 111.2, 109.4])\n",
    "\n",
    "mu_4527 = mu_l(x_4527)\n",
    "mu_4525 = mu_l(x_4525)\n",
    "mu_4520 = mu_l(x_4520)\n",
    "mu_4515 = mu_l(x_4515)\n",
    "mu_3333 = mu_l(x_3333)\n",
    "\n",
    "ys_tc_4527 = TC_model(x_4527, f, k, r, r2, r3, 0.001, mu_4527)\n",
    "tao0_4527 = ys_tc_4527.ys_(60)[0][0]\n",
    "ys_tc_4525 = TC_model(x_4525, f, k, r, r2, r3, 0.001, mu_4525)\n",
    "tao0_4525 = ys_tc_4525.ys_(60)[0][0]\n",
    "ys_tc_4520 = TC_model(x_4520, f, k, r, r2, r3, 0.001, mu_4520)\n",
    "tao0_4520 = ys_tc_4520.ys_(60)[0][0]\n",
    "ys_tc_4515 = TC_model(x_4515, f, k, r, r2, r3, 0.001, mu_4515)\n",
    "tao0_4515 = ys_tc_4515.ys_(60)[0][0]\n",
    "ys_tc_3333 = TC_model(x_3333, f, k, r, r2, r3, 0.001, mu_3333)\n",
    "tao0_3333 = ys_tc_3333.ys_(60)[0][0]\n",
    "tao0_4527, tao0_4525, tao0_4520, tao0_4515, tao0_3333"
   ]
  },
  {
   "cell_type": "code",
   "execution_count": 37,
   "metadata": {},
   "outputs": [
    {
     "name": "stdout",
     "output_type": "stream",
     "text": [
      "b: 241.87938828734403\n",
      "ave_atom by radii from closed packing model: [9117347.8520522  6786552.26738791 6462295.34282274]\n",
      "ave_atom by radii from closed packing model: [12453938.88620162 10863965.43264568 10439600.27649136]\n",
      "ave_atom by TC model: [10656792.06130436  9515338.14648688  9247252.44088208]\n",
      "b: 241.79527111039326\n",
      "ave_atom by radii from closed packing model: [9117347.8520522  6786552.26738791 6462295.34282274]\n",
      "ave_atom by radii from closed packing model: [12453938.88620162 10863965.43264568 10439600.27649136]\n",
      "ave_atom by TC model: [10656792.06130436  9515338.14648688  9247252.44088208]\n",
      "b: 240.07097921475108\n",
      "ave_atom by radii from closed packing model: [9117347.8520522  6786552.26738791 6462295.34282274]\n",
      "ave_atom by radii from closed packing model: [12453938.88620162 10863965.43264568 10439600.27649136]\n",
      "ave_atom by TC model: [10656792.06130436  9515338.14648688  9247252.44088208]\n",
      "b: 240.07097921475108\n",
      "ave_atom by radii from closed packing model: [9117347.8520522  6786552.26738791 6462295.34282274]\n",
      "ave_atom by radii from closed packing model: [12453938.88620162 10863965.43264568 10439600.27649136]\n",
      "ave_atom by TC model: [10656792.06130436  9515338.14648688  9247252.44088208]\n",
      "b: 240.07097921475108\n",
      "ave_atom by radii from closed packing model: [9117347.8520522  6786552.26738791 6462295.34282274]\n",
      "ave_atom by radii from closed packing model: [12453938.88620162 10863965.43264568 10439600.27649136]\n",
      "ave_atom by TC model: [10656792.06130436  9515338.14648688  9247252.44088208]\n"
     ]
    },
    {
     "data": {
      "text/plain": [
       "(1.9006543258722484e-25,\n",
       " 1.9067822758088653e-25,\n",
       " 1.7429927242571985e-25,\n",
       " 1.7429927242571985e-25,\n",
       " 1.7429927242571985e-25)"
      ]
     },
     "execution_count": 37,
     "metadata": {},
     "output_type": "execute_result"
    }
   ],
   "source": [
    "dE1_4527, _, _ = ys_tc_4527.dEb()\n",
    "dE1_4525, _, _ = ys_tc_4525.dEb()\n",
    "dE1_4520, _, _ = ys_tc_3333.dEb()\n",
    "dE1_4515, _, _ = ys_tc_3333.dEb()\n",
    "dE1_3333, _, _ = ys_tc_3333.dEb()\n",
    "dE1_4527, dE1_4525, dE1_4520, dE1_4515, dE1_3333"
   ]
  },
  {
   "cell_type": "code",
   "execution_count": 347,
   "metadata": {},
   "outputs": [
    {
     "name": "stdout",
     "output_type": "stream",
     "text": [
      "ave_atom by radii from closed packing model: [12453938.88620162 10863965.43264568 10439600.27649136]\n",
      "ave_atom by TC model: [10865921.85916431  9478687.87139952  9108434.03695733]\n",
      "ave_atom by linear average: 9817681.255840389\n",
      "poission ration: (0.29266666666666663, 2.234343291326024)\n"
     ]
    },
    {
     "data": {
      "text/plain": [
       "417.2731013600596"
      ]
     },
     "execution_count": 347,
     "metadata": {},
     "output_type": "execute_result"
    }
   ],
   "source": [
    "ys_tc = TC_model(x, f, k, r, r2, r3, 0.001, mu)\n",
    "tao0_var = ys_tc.tao0()\n",
    "tao0_var"
   ]
  },
  {
   "cell_type": "code",
   "execution_count": 20,
   "metadata": {},
   "outputs": [
    {
     "data": {
      "text/plain": [
       "array([1048240.60332393, -338993.38444087, -709247.21888306])"
      ]
     },
     "execution_count": 20,
     "metadata": {},
     "output_type": "execute_result"
    }
   ],
   "source": [
    "ave_atom_list = np.array([10865921.85916431, 9478687.87139952, 9108434.03695733])\n",
    "ave_atom_list - np.mean(ave_atom_list)"
   ]
  },
  {
   "cell_type": "code",
   "execution_count": 27,
   "metadata": {},
   "outputs": [
    {
     "data": {
      "text/plain": [
       "311.2504473873934"
      ]
     },
     "execution_count": 27,
     "metadata": {},
     "output_type": "execute_result"
    }
   ],
   "source": [
    "#*Varvenne model for yield strength's temperature dependence\n",
    "b = 1.380649e-23 # m2 -> pm2\n",
    "def taoT(t0, dE, t):\n",
    "    return t0*np.exp(-1/0.51*b*t/dE*math.log(1e7))\n",
    "\n",
    "taoT(tao0_4527-60, dE1_4527, 293)\n",
    "taoT(tao0_4525-60, dE1_4525, 293)\n",
    "taoT(tao0_3333, dE1_3333, 293)\n",
    "#* if removing the sigma_0, values are close to reference data."
   ]
  },
  {
   "cell_type": "code",
   "execution_count": 44,
   "metadata": {},
   "outputs": [
    {
     "data": {
      "image/png": "[encoded data removed]",
      "text/plain": [
       "<Figure size 432x288 with 1 Axes>"
      ]
     },
     "metadata": {
      "needs_background": "light"
     },
     "output_type": "display_data"
    }
   ],
   "source": [
    "b = 1.380649e-23 # m2 -> pm2\n",
    "def taoT(t0, dE, t):\n",
    "    return t0*np.exp(-1/0.51*b*t/dE*math.log(1e7))\n",
    "\n",
    "x_tc = np.linspace(0, 293, 10000)\n",
    "tao_t_tc_4527 = taoT(tao0_4527, dE1_4527*1e6, x_tc)\n",
    "tao_t_tc_4525 = taoT(tao0_4525, dE1_4525*1e6, x_tc)\n",
    "tao_t_tc_4520 = taoT(tao0_4520, dE1_4520*1e6, x_tc)\n",
    "tao_t_tc_4515 = taoT(tao0_4515, dE1_4515*1e6, x_tc)\n",
    "tao_t_tc_3333 = taoT(tao0_3333, dE1_3333*1e6, x_tc)\n",
    "\n",
    "plt.plot(x_tc, tao_t_tc_4527, label='45275')\n",
    "plt.plot(x_tc, tao_t_tc_4525, label='4525')\n",
    "plt.plot(x_tc, tao_t_tc_4520, label='4520')\n",
    "plt.plot(x_tc, tao_t_tc_4515, label='4515')\n",
    "plt.plot(x_tc, tao_t_tc_3333, label='3333')\n",
    "\n",
    "legend = plt.legend()\n",
    "\n",
    "# x_va = np.linspace(0, 293, 10000)\n",
    "# tao_t_va = taoT(tao0_var, dE2, x_va)\n",
    "\n",
    "# plt.plot(x_va, tao_t_va)"
   ]
  }
 ],
 "metadata": {
  "kernelspec": {
   "display_name": "Python 3.9.7 ('base')",
   "language": "python",
   "name": "python3"
  },
  "language_info": {
   "codemirror_mode": {
    "name": "ipython",
    "version": 3
   },
   "file_extension": ".py",
   "mimetype": "text/x-python",
   "name": "python",
   "nbconvert_exporter": "python",
   "pygments_lexer": "ipython3",
   "version": "3.9.7"
  },
  "orig_nbformat": 4,
  "vscode": {
   "interpreter": {
    "hash": "68475d8e8ba7c27bff5b0c1dcce162ecdafd8f583568d2d03f898fe272d0ccc7"
   }
  }
 },
 "nbformat": 4,
 "nbformat_minor": 2
}
