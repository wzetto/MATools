{
 "cells": [
  {
   "cell_type": "code",
   "execution_count": 26,
   "metadata": {},
   "outputs": [],
   "source": [
    "import numpy as np\n",
    "import math\n",
    "import matplotlib.pyplot as plt\n",
    "import matplotlib\n",
    "from scipy import constants"
   ]
  },
  {
   "cell_type": "code",
   "execution_count": 88,
   "metadata": {},
   "outputs": [],
   "source": [
    "#*TC model for yield strength at room temperature\n",
    "class TC_model:\n",
    "    def __init__(self, x, f, k, r, r2, r3, delta, mu):\n",
    "        self.x = x #* atomic concentration\n",
    "        self.f = f #* packing factor\n",
    "        self.k = k #* bulk modulus\n",
    "        self.r = r #* TC-EARS atomic radii\n",
    "        self.r2 = r2 #* Var-EARS atomic radii\n",
    "        self.r3 = r3 #* Curtin's atomic radii\n",
    "        self.delta = delta #* change in composition, 0.001 is used in the paper\n",
    "        self.mu = mu #* Shear modulus\n",
    "\n",
    "    def lattice_param(self):\n",
    "        '''\n",
    "        Lattice parameter $a$.\n",
    "        '''\n",
    "        matrix = self.sij()\n",
    "        a =  1/self.f*np.dot(np.dot(self.x, matrix), self.x.T)\n",
    "        return a\n",
    "\n",
    "    def lattice_param_(self, x_):\n",
    "        ''' \n",
    "        The distorted term within lattice.\n",
    "        '''\n",
    "        matrix = self.sij()\n",
    "        a = np.dot(np.dot(x_, matrix), x_.T)\n",
    "        return a\n",
    "\n",
    "    def sij(self):\n",
    "        ''' \n",
    "        Interatomic spacing $s_ij$.\n",
    "        NxN matrix where N is the number of elements.\n",
    "        '''\n",
    "        k, r = self.k, self.r\n",
    "        len_s = len(self.x[0])\n",
    "        matrix = np.zeros((len_s, len_s))\n",
    "        for i in range(len_s):\n",
    "            for j in range(len_s):\n",
    "                matrix[i][j] = ((4*(r[i]**2)*k[i]*self.x[0][i] + 4*(r[j]**2)*k[j]*self.x[0][j])/\n",
    "                                    (2*r[i]*k[i]*self.x[0][i] + 2*r[j]*k[j]*self.x[0][j]))\n",
    "        # print(matrix)\n",
    "        return matrix\n",
    "\n",
    "    def delta_(self, da_x):\n",
    "        '''  \n",
    "        Estimated lattice distortion $\\delta$.\n",
    "        '''\n",
    "        return np.dot(np.dot(self.x, da_x), self.x.T)\n",
    "\n",
    "    def da_x_(self, i, j):\n",
    "        ''' \n",
    "        Each single da_x\n",
    "        '''\n",
    "        dx = self.delta\n",
    "        x = self.x\n",
    "        x_ = x.copy()\n",
    "        x_[0][i] -= dx\n",
    "        x_[0][j] += dx\n",
    "        da_x = (self.lattice_param()*self.f - self.lattice_param_(x_))/dx\n",
    "        return da_x\n",
    "\n",
    "    #* TD-model for yield strength.\n",
    "    def ys_(self, s0):\n",
    "        mu = self.mu\n",
    "        a = self.lattice_param().flatten()[0]\n",
    "        len_s = len(self.x[0])\n",
    "        da_x = np.zeros((len_s, len_s))\n",
    "        #* Matrix of da_x\n",
    "        for i in range(len_s):\n",
    "            for j in range(len_s):\n",
    "                if i != j:\n",
    "                    da_x[i][j] = abs(self.da_x_(i, j))**(4/3)\n",
    "        delta = self.delta_(da_x)\n",
    "        return s0 + 3*5*mu*((1*16/a)**(4/3))*delta\n",
    "\n",
    "    def volome_mis(self):\n",
    "\n",
    "        atom_v3 = (self.r3*math.sqrt(2)*2)**3/4 #* atomic volume by radii from reference\n",
    "        b3 = np.mean(self.r3)*2\n",
    "        # print(f'ave_atom by radii from closed packing model: {atom_v3}')\n",
    "        atom_v2 = (self.r2*math.sqrt(2)*2)**3/4 #* atomic volume by radii from reference\n",
    "        b2 = np.mean(self.r2)*2\n",
    "        # print(f'ave_atom by radii from closed packing model: {atom_v2}')\n",
    "        atom_v = (self.r*math.sqrt(2)*2)**3/4 #* atomic volume by TC model\n",
    "        b = np.mean(self.r)*2\n",
    "        # print(f'ave_atom by TC model: {atom_v}')\n",
    "\n",
    "        ave_atom_v = np.mean(atom_v) #*Mixture vol by average of atoms\n",
    "        ave_atom_v2  = np.mean(atom_v2)\n",
    "        ave_atom_v3 = np.mean(atom_v3) #*Mixture vol by average of atoms\n",
    "\n",
    "        return [atom_v-ave_atom_v, atom_v2-ave_atom_v2, atom_v3-ave_atom_v3,\n",
    "                b, b2, b3]\n",
    "\n",
    "    #*deltaE_b\n",
    "    def dEb(self):\n",
    "        l_param = self.lattice_param().flatten()[0]\n",
    "        x = self.x\n",
    "        # b = math.sqrt(2)/2*l_param\n",
    "        # print(f'b: {b}')\n",
    "\n",
    "        # print(f'ave_atom by linear average: {ave_atom_v}')\n",
    "        # ave_atom_v = l_param**3/4 #* Mixture vol By lattice param calculated\n",
    "        # print(f'ave_atom by lattice param: {ave_atom_v}')\n",
    "        diff_v, diff_v2, diff_v3, b, b2, b3 = self.volome_mis()\n",
    "\n",
    "        sum_x1 = np.sum(x*(diff_v)**2)/b**6\n",
    "        sum_x2 = np.sum(x*(diff_v2)**2)/b2**6\n",
    "        sum_x3 = np.sum(x*(diff_v3)**2)/b3**6\n",
    "\n",
    "        poi_v = np.sum(x[0]*np.array([0.275, 0.293, 0.310]))\n",
    "        poi_part = ((1+poi_v)/(1-poi_v))**(2/3)\n",
    "\n",
    "        sum_part = sum_x1**(1/3)\n",
    "        sum_part2 = sum_x2**(1/3)\n",
    "        sum_part3 = sum_x3**(1/3)\n",
    "\n",
    "        delta_e = 0.274*(0.123**(1/3))*(b**3)*poi_part*5.7*sum_part*self.mu\n",
    "        delta_e2 = 0.274*(0.123**(1/3))*(b**3)*poi_part*5.7*sum_part2*self.mu\n",
    "        delta_e3 = 0.274*(0.123**(1/3))*(b**3)*poi_part*5.7*sum_part3*self.mu\n",
    "\n",
    "        return delta_e, delta_e2, delta_e3\n",
    "\n",
    "    #*tao0 by Varvenne\n",
    "    def tao0(self):\n",
    "\n",
    "        x = self.x\n",
    "        # b = math.sqrt(2)/2*l_param\n",
    "\n",
    "        diff_v, diff_v2, diff_v3, b, b1, b2 = self.volome_mis()\n",
    "\n",
    "        sum_x1 = np.sum(x*(diff_v)**2)/b**6\n",
    "        sum_x2 = np.sum(x*(diff_v2)**2)/b1**6\n",
    "        sum_x3 = np.sum(x*(diff_v3)**2)/b2**6\n",
    "\n",
    "        sum_part = sum_x1**(2/3)\n",
    "        sum_part2 = sum_x2**(2/3)\n",
    "        sum_part3 = sum_x3**(2/3)\n",
    "\n",
    "        poi_v = np.sum(x[0]*np.array([0.275, 0.293, 0.310]))\n",
    "        poi_part = ((1+poi_v)/(1-poi_v))**(4/3)\n",
    "        # print(f'poission ration: {poi_v, poi_part}')\n",
    "\n",
    "        tao0_1 = 0.051*(0.123**(-1/3))*poi_part*0.35*sum_part*self.mu\n",
    "        tao0_2 = 0.051*(0.123**(-1/3))*poi_part*0.35*sum_part2*self.mu\n",
    "        tao0_3 = 0.051*(0.123**(-1/3))*poi_part*0.35*sum_part3*self.mu\n",
    "        return tao0_1, tao0_2, tao0_3\n",
    "\n",
    "    def tao_list(self, tao0, temp, epsi_0, epsi_):\n",
    "\n",
    "        tao_1, tao_2, tao_3 = tao0\n",
    "        d_e, d_e2, d_e3 = self.dEb()\n",
    "        ys_temp1 = tao_1*np.exp(-1/0.51*constants.k*temp/d_e*np.log(epsi_0/epsi_))\n",
    "        ys_temp2 = tao_2*np.exp(-1/0.51*constants.k*temp/d_e2*np.log(epsi_0/epsi_))\n",
    "        ys_temp3 = tao_3*np.exp(-1/0.51*constants.k*temp/d_e3*np.log(epsi_0/epsi_))\n",
    "        return [ys_temp1, ys_temp2, ys_temp3]\n",
    "\n",
    "    def tao0_deduce(self, tao_fin, temp_fin, epsi_0, epsi_):\n",
    "        ''' \n",
    "        From tau0 at finite temperature deduce tau0 at 0K\n",
    "        '''\n",
    "        d_e, d_e2, d_e3 = self.dEb()\n",
    "        ys_temp1 = tao_fin/np.exp(-1/0.51*constants.k*temp_fin/d_e*np.log(epsi_0/epsi_))\n",
    "        ys_temp2 = tao_fin/np.exp(-1/0.51*constants.k*temp_fin/d_e2*np.log(epsi_0/epsi_))\n",
    "        ys_temp3 = tao_fin/np.exp(-1/0.51*constants.k*temp_fin/d_e3*np.log(epsi_0/epsi_))\n",
    "        return [ys_temp1, ys_temp2, ys_temp3]"
   ]
  },
  {
   "cell_type": "markdown",
   "metadata": {},
   "source": [
    "2 ways to calc the atomic volume.\n",
    "\n",
    "2 ways to calc the mixture volume."
   ]
  },
  {
   "cell_type": "code",
   "execution_count": 89,
   "metadata": {},
   "outputs": [],
   "source": [
    "#* x\n",
    "x_4527 = np.array([[0.45, 0.275, 0.275]])\n",
    "x_4525 = np.array([[0.45, 0.25, 0.3]])\n",
    "x_4520 = np.array([[0.45, 0.20, 0.35]])\n",
    "x_4515 = np.array([[0.45, 0.15, 0.4]])\n",
    "x_3333 = np.array([[1/3, 1/3, 1/3]])\n",
    "\n",
    "#* f, delta\n",
    "f = 0.74\n",
    "delta_ = 0.001\n",
    "\n",
    "#* atomic radii\n",
    "r = np.array([129.25, 124.46, 123.28])*1e-12 #? pm -> m\n",
    "r2 = np.array([130.09, 124.30, 122.66])*1e-12\n",
    "r3 = np.array([122.7, 111.2, 109.4])*1e-12\n",
    "\n",
    "#* Elastic moduli\n",
    "#*Cr, Co, Ni\n",
    "def elastic_constants(x):\n",
    "    g_vec = np.array([[103.5, 81.0, 76.0]]) #* Shear modulus\n",
    "    poisson_vec = np.array([[0.275, 0.293, 0.310]]) #* Poisson ratio\n",
    "    g_ = g_vec@x.T\n",
    "    poisson_ = poisson_vec@x.T \n",
    "    k_ = 2*g_*(1+poisson_)/(3*(1-2*poisson_)) #* Bulk modulus\n",
    "    e_ = 2*g_*(1+poisson_) #* Young's modulus\n",
    "    return np.array([g_[0,0], k_[0,0], e_[0,0]])\n",
    "\n",
    "mu_4527, k_4527, e_4527 = elastic_constants(x_4527)*1e9 #? Gpa -> pa\n",
    "mu_3333, k_3333, e_3333 = elastic_constants(x_3333)*1e9 #? Gpa -> pa\n",
    "\n",
    "#* k for Cr, Co, Ni\n",
    "k_list = np.array([195.5, 168.65, 174.67])*1e9\n",
    "# ys_tc_4527 = TC_model(x_4527, f, k, r, r2, r3, 0.001, mu_4527)\n",
    "# tao0_4527 = ys_tc_4527.ys_(60)[0][0]\n",
    "# ys_tc_4525 = TC_model(x_4525, f, k, r, r2, r3, 0.001, mu_4525)\n",
    "# tao0_4525 = ys_tc_4525.ys_(60)[0][0]\n",
    "# ys_tc_4520 = TC_model(x_4520, f, k, r, r2, r3, 0.001, mu_4520)\n",
    "# tao0_4520 = ys_tc_4520.ys_(60)[0][0]\n",
    "# ys_tc_4515 = TC_model(x_4515, f, k, r, r2, r3, 0.001, mu_4515)\n",
    "# tao0_4515 = ys_tc_4515.ys_(60)[0][0]\n",
    "# ys_tc_3333 = TC_model(x_3333, f, k, r, r2, r3, 0.001, mu_3333)\n",
    "# tao0_3333 = ys_tc_3333.ys_(60)[0][0]\n",
    "# tao0_4527, tao0_4525, tao0_4520, tao0_4515, tao0_3333\n",
    "tc_ = TC_model(x_3333, f, k_list, r, r2, r3, delta_, mu_3333)\n",
    "temp = np.linspace(0, 300, 300)\n",
    "tao_0 = tc_.tao0_deduce(240*1e6, 293, 1e4, 1e-4)\n",
    "\n",
    "ys_temp1, ys_temp2, ys_temp3 = tc_.tao_list(\n",
    "    tao0=tao_0, temp=temp, \n",
    "    epsi_0=1e4, epsi_=1e-4\n",
    ")\n",
    "\n",
    "plt.plot(temp, ys_temp1*1e-6)\n",
    "plt.plot(temp, ys_temp2*1e-6)\n",
    "plt.plot(temp, ys_temp3*1e-6)\n",
    "    # tc_.ys_(60*1e-3)"
   ]
  },
  {
   "cell_type": "code",
   "execution_count": 68,
   "metadata": {},
   "outputs": [
    {
     "data": {
      "text/plain": [
       "(108577591.82118063, 144207322.03916794, 380730190.89265424)"
      ]
     },
     "execution_count": 68,
     "metadata": {},
     "output_type": "execute_result"
    }
   ],
   "source": [
    "tao1, tao2, tao3 = tc_.tao0()\n",
    "tao1, tao2, tao3"
   ]
  },
  {
   "cell_type": "code",
   "execution_count": 90,
   "metadata": {},
   "outputs": [
    {
     "data": {
      "text/plain": [
       "[<matplotlib.lines.Line2D at 0x7f9f8444d340>]"
      ]
     },
     "execution_count": 90,
     "metadata": {},
     "output_type": "execute_result"
    },
    {
     "data": {
      "image/png": "[encoded data removed]",
      "text/plain": [
       "<Figure size 432x288 with 1 Axes>"
      ]
     },
     "metadata": {
      "needs_background": "light"
     },
     "output_type": "display_data"
    }
   ],
   "source": [
    "temp = np.linspace(0, 300, 300)\n",
    "tao_0 = tc_.tao0_deduce(240*1e6, 293, 1e4, 1e-4)\n",
    "\n",
    "ys_temp1, ys_temp2, ys_temp3 = tc_.tao_list(\n",
    "    tao0=tao_0, temp=temp, \n",
    "    epsi_0=1e4, epsi_=1e-4\n",
    ")\n",
    "\n",
    "plt.plot(temp, ys_temp1*1e-6)\n",
    "plt.plot(temp, ys_temp2*1e-6)\n",
    "plt.plot(temp, ys_temp3*1e-6)"
   ]
  },
  {
   "cell_type": "code",
   "execution_count": 27,
   "metadata": {},
   "outputs": [
    {
     "data": {
      "text/plain": [
       "311.2504473873934"
      ]
     },
     "execution_count": 27,
     "metadata": {},
     "output_type": "execute_result"
    }
   ],
   "source": [
    "#*Varvenne model for yield strength's temperature dependence\n",
    "b = 1.380649e-23 # m2 -> pm2\n",
    "def taoT(t0, dE, t):\n",
    "    return t0*np.exp(-1/0.51*b*t/dE*math.log(1e7))\n",
    "\n",
    "taoT(tao0_4527-60, dE1_4527, 293)\n",
    "taoT(tao0_4525-60, dE1_4525, 293)\n",
    "taoT(tao0_3333, dE1_3333, 293)\n",
    "#* if removing the sigma_0, values are close to reference data."
   ]
  },
  {
   "cell_type": "code",
   "execution_count": 44,
   "metadata": {},
   "outputs": [
    {
     "data": {
      "image/png": "[encoded data removed]",
      "text/plain": [
       "<Figure size 432x288 with 1 Axes>"
      ]
     },
     "metadata": {
      "needs_background": "light"
     },
     "output_type": "display_data"
    }
   ],
   "source": [
    "b = 1.380649e-23 # m2 -> pm2\n",
    "def taoT(t0, dE, t):\n",
    "    return t0*np.exp(-1/0.51*b*t/dE*math.log(1e7))\n",
    "\n",
    "x_tc = np.linspace(0, 293, 10000)\n",
    "tao_t_tc_4527 = taoT(tao0_4527, dE1_4527*1e6, x_tc)\n",
    "tao_t_tc_4525 = taoT(tao0_4525, dE1_4525*1e6, x_tc)\n",
    "tao_t_tc_4520 = taoT(tao0_4520, dE1_4520*1e6, x_tc)\n",
    "tao_t_tc_4515 = taoT(tao0_4515, dE1_4515*1e6, x_tc)\n",
    "tao_t_tc_3333 = taoT(tao0_3333, dE1_3333*1e6, x_tc)\n",
    "\n",
    "plt.plot(x_tc, tao_t_tc_4527, label='45275')\n",
    "plt.plot(x_tc, tao_t_tc_4525, label='4525')\n",
    "plt.plot(x_tc, tao_t_tc_4520, label='4520')\n",
    "plt.plot(x_tc, tao_t_tc_4515, label='4515')\n",
    "plt.plot(x_tc, tao_t_tc_3333, label='3333')\n",
    "\n",
    "legend = plt.legend()\n",
    "\n",
    "# x_va = np.linspace(0, 293, 10000)\n",
    "# tao_t_va = taoT(tao0_var, dE2, x_va)\n",
    "\n",
    "# plt.plot(x_va, tao_t_va)"
   ]
  }
 ],
 "metadata": {
  "kernelspec": {
   "display_name": "Python 3.9.7 ('base')",
   "language": "python",
   "name": "python3"
  },
  "language_info": {
   "codemirror_mode": {
    "name": "ipython",
    "version": 3
   },
   "file_extension": ".py",
   "mimetype": "text/x-python",
   "name": "python",
   "nbconvert_exporter": "python",
   "pygments_lexer": "ipython3",
   "version": "3.9.7"
  },
  "orig_nbformat": 4,
  "vscode": {
   "interpreter": {
    "hash": "68475d8e8ba7c27bff5b0c1dcce162ecdafd8f583568d2d03f898fe272d0ccc7"
   }
  }
 },
 "nbformat": 4,
 "nbformat_minor": 2
}
