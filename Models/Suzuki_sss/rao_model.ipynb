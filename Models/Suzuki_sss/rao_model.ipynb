{
 "cells": [
  {
   "cell_type": "markdown",
   "metadata": {},
   "source": [
    "Suzuki model for solid solution hardening in BCC alloy.\n",
    "\n",
    "https://doi.org/10.1016/j.actamat.2019.02.013"
   ]
  },
  {
   "cell_type": "code",
   "execution_count": 5,
   "metadata": {},
   "outputs": [],
   "source": [
    "from sympy import *\n",
    "import numpy as np\n",
    "import math\n",
    "import sympy\n",
    "import matplotlib.pyplot as plt\n",
    "from IPython.display import clear_output\n",
    "from random import randrange"
   ]
  },
  {
   "cell_type": "code",
   "execution_count": 18,
   "metadata": {},
   "outputs": [],
   "source": [
    "class rao_model():\n",
    "    def __init__(self, mu, b, E, c, k, T, v, epsilon, u, k_, comment='None'):\n",
    "        super(rao_model, self).__init__()\n",
    "        self.mu = mu\n",
    "        self.b = b\n",
    "        self.E = E\n",
    "        self.c = c\n",
    "        self.k = k \n",
    "        self.T = T\n",
    "        self.a = 0.942*b \n",
    "        self.lamda = 10*b \n",
    "        self.v = v\n",
    "        self.epsilon = epsilon \n",
    "        self.u = u\n",
    "        self.k_ = k_\n",
    "        self.comment = comment\n",
    "\n",
    "    def softmax(self, x):\n",
    "        f_x = np.exp(x) / np.sum(np.exp(x))\n",
    "        return f_x\n",
    "\n",
    "    def f1(self):\n",
    "        tao_chose_list = []\n",
    "        for index in range(len(self.c)):\n",
    "            mu_, c_, E_ = self.mu[index], self.c[index], self.E[index]\n",
    "            tao_k = Symbol('tao_k', real=True)\n",
    "            #*deltaV\n",
    "            v_lefttop = 3*(self.k_**2)*(E_**2)*c_\n",
    "            v_leftbot = 2*(tao_k**2)*self.a*(self.b**2)\n",
    "            v_righttop = tao_k**2*(self.a**3)*(self.b**4)*(self.lamda**2)\n",
    "            v_rightbot = 6*(self.k_**2)*(E_**2)*c_\n",
    "\n",
    "            v_ = v_lefttop/v_leftbot + v_righttop/v_rightbot\n",
    "\n",
    "            #*S\n",
    "            s_lefttop = 18*(self.k_**2)*(E_**2)*c_*self.k*self.T\n",
    "            s_leftbot = self.a**3*(self.b**4)*(self.lamda**2)\n",
    "            s_righttop = (5*math.pi*self.k*self.T)**2*self.v*self.a*self.b\n",
    "            s_rightbot = (mu_*self.b*v_)**2*self.epsilon\n",
    "\n",
    "            s_ = s_lefttop/s_leftbot*sympy.log(s_righttop/s_rightbot)\n",
    "\n",
    "            #*R\n",
    "            r_top = 27*(self.k_**4)*(E_**4)*(c_**2)\n",
    "            r_bot = (self.a**4)*(self.b**6)*(self.lamda**2)\n",
    "\n",
    "            r_ = r_top/r_bot\n",
    "\n",
    "            #*tao_k\n",
    "            f1_ = tao_k**4 + s_*tao_k - r_bot\n",
    "            res_list, tao_list = [], []\n",
    "            tao_k_c = 2e8\n",
    "            temp = 1e7\n",
    "            speed = 1e7\n",
    "            step = 0\n",
    "\n",
    "            while True:\n",
    "                # tao_k_c = np.clip(tao_k_c, 1e7, 1e9)\n",
    "                f1_res = abs(f1_.subs(tao_k, tao_k_c))\n",
    "                res_list.append(abs(f1_res.evalf()))\n",
    "                tao_list.append(tao_k_c)\n",
    "                tao_chose = tao_k_c\n",
    "                tao_chose += (np.random.rand()-0.5)*speed\n",
    "                f1_res_ = abs(f1_.subs(tao_k, tao_chose))\n",
    "                res = (f1_res - f1_res_).evalf()\n",
    "\n",
    "                accep = np.random.rand()\n",
    "                prob_ = np.min([1, exp(res/temp)])\n",
    "                if accep <= prob_:\n",
    "                    tao_k_c = tao_chose\n",
    "\n",
    "                temp /= 1.001\n",
    "                speed /= 1.001\n",
    "\n",
    "                if step % 100 == 0:\n",
    "                    clear_output(True)\n",
    "\n",
    "                    fig, (ax1, ax2) = plt.subplots(1, 2)\n",
    "                    ax1.plot(res_list)\n",
    "                    ax1.set_ylim([1e7, 1e9])\n",
    "                    ax2.plot(tao_list)\n",
    "                    plt.suptitle(f'Num steps: {step}, Minimum res: {f1_res}\\n{tao_chose/1e6} MPa')\n",
    "                    plt.suptitle(f'Num steps: {step}, Minimum res: {np.min(res_list)}\\n{tao_chose/1e6} MPa')\n",
    "                    plt.show()\n",
    "\n",
    "                step += 1\n",
    "                if step >= 5000:\n",
    "                    tao_chose_list.append(tao_chose)\n",
    "                    break\n",
    "                \n",
    "        return np.array(tao_chose_list)\n",
    "\n",
    "    def f4(self):\n",
    "        j_list = []\n",
    "        for index in range(len(self.c)):\n",
    "            mu_, c_, E_ = self.mu[index], self.c[index], self.E[index]\n",
    "            x = Symbol('x')\n",
    "            inte_ = sympy.exp(-x**2/2)\n",
    "            f4_ = 1/sympy.sqrt(2*math.pi)*integrate(inte_, (x, self.k_, oo))\n",
    "            L_ = self.b/(f4_*3*c_)\n",
    "            j_ = mu_*self.b/(4*L_)\n",
    "            j_list.append(j_.evalf())\n",
    "\n",
    "        return np.array(j_list)\n",
    "\n",
    "    def tao(self):\n",
    "        return (self.f1()+self.f4())*self.u\n",
    "\n",
    "    def ys(self, tf, q):\n",
    "        tao_list = self.tao()\n",
    "        ys_ = np.sum(tao_list**(1/q))**q\n",
    "        if self.comment != 'None':\n",
    "            print(self.comment)\n",
    "        return ys_.evalf()*tf"
   ]
  },
  {
   "cell_type": "code",
   "execution_count": 16,
   "metadata": {},
   "outputs": [],
   "source": [
    "mo_mu, nb_mu, ta_mu, w_mu = np.array([20, 38, 67, 161])*1e9\n",
    "\n",
    "mu_list = np.array([20, 38, 67, 161])*1e9 #*Shear modulus, Gpa -> Pa\n",
    "b = 2.7886e-10 #*Burgers vector of the a/2[111] screw dislocation, m\n",
    "E = np.array([0.025, -0.074, -0.035, 0.059])*1.6022e-19 #*E_int for a particular atom specie, J, kg m^2 s^-2\n",
    "c = np.array([1/4, 1/4, 1/4, 1/4]) #*Atomic concentration\n",
    "k = 8.617e-5 #*Boltzmann constant, in eV form\n",
    "k = 1.380649e-23 #*Standard form, m^2 kg s^-2 k^-1\n",
    "T = 293 #*Temperature, K\n",
    "v = 5e12 #*Debye frequency, s^-1\n",
    "epsilon = 1e-3 #*Strain rate, s^-1\n",
    "u = 1 #*Unit convertion to Pa, kg m^-1 s^-2"
   ]
  },
  {
   "cell_type": "code",
   "execution_count": null,
   "metadata": {},
   "outputs": [],
   "source": [
    "#*Searching for the best k and the minimum tao_i\n",
    "# ys_list, list_, k_list = [], [], []\n",
    "# for k_latent in np.linspace(0.1, 4, 50):\n",
    "#     print(f'step: {k_latent}')\n",
    "#     rao_model_ = rao_model(mu_list, b, E, c, k, T, v, epsilon, u, k_latent, 'MoNbTaW')\n",
    "#     tao_k = rao_model_.ys(3.067, 2/3)\n",
    "#     list_.append(tao_k)\n",
    "#     k_list.append(k_latent)\n",
    "#     clear_output(True)\n",
    "#     try:\n",
    "#         plt.plot(list_)\n",
    "#         plt.show()\n",
    "#     except:\n",
    "#         pass\n",
    "\n",
    "# print(np.min(np.abs(list_)).evalf()/1e6, 'Mpa')"
   ]
  },
  {
   "cell_type": "code",
   "execution_count": 19,
   "metadata": {},
   "outputs": [
    {
     "data": {
      "image/png": "[encoded data removed]",
      "text/plain": [
       "<Figure size 432x288 with 2 Axes>"
      ]
     },
     "metadata": {
      "needs_background": "light"
     },
     "output_type": "display_data"
    },
    {
     "data": {
      "text/plain": [
       "array([-138242.13012025,  420892.53559727, -309537.95521187,\n",
       "        761674.22106258])"
      ]
     },
     "execution_count": 19,
     "metadata": {},
     "output_type": "execute_result"
    }
   ],
   "source": [
    "k_latent = 3\n",
    "rao_model_ = rao_model(mu_list, b, E, c, k, T, v, epsilon, u, k_latent, 'MoNbTaW')\n",
    "rao_model_.f1()"
   ]
  },
  {
   "cell_type": "code",
   "execution_count": 11,
   "metadata": {},
   "outputs": [],
   "source": [
    "ys_list = np.load(f'/media/wz/a7ee6d50-691d-431a-8efb-b93adc04896d/Github/MATools/Models/Suzuki_sss/ys_list_MoNbTaW.npy', allow_pickle=True)\n",
    "t_list = np.load('/media/wz/a7ee6d50-691d-431a-8efb-b93adc04896d/Github/MATools/Models/Suzuki_sss/temp_list.npy')"
   ]
  },
  {
   "cell_type": "code",
   "execution_count": 21,
   "metadata": {},
   "outputs": [
    {
     "data": {
      "text/plain": [
       "[<matplotlib.lines.Line2D at 0x7f3afa298f10>]"
      ]
     },
     "execution_count": 21,
     "metadata": {},
     "output_type": "execute_result"
    },
    {
     "data": {
      "image/png": "[encoded data removed]",
      "text/plain": [
       "<Figure size 432x288 with 1 Axes>"
      ]
     },
     "metadata": {
      "needs_background": "light"
     },
     "output_type": "display_data"
    }
   ],
   "source": [
    "plt.plot(t_list, ys_list*100)"
   ]
  }
 ],
 "metadata": {
  "kernelspec": {
   "display_name": "Python 3.9.7 ('base')",
   "language": "python",
   "name": "python3"
  },
  "language_info": {
   "codemirror_mode": {
    "name": "ipython",
    "version": 3
   },
   "file_extension": ".py",
   "mimetype": "text/x-python",
   "name": "python",
   "nbconvert_exporter": "python",
   "pygments_lexer": "ipython3",
   "version": "3.9.7"
  },
  "orig_nbformat": 4,
  "vscode": {
   "interpreter": {
    "hash": "68475d8e8ba7c27bff5b0c1dcce162ecdafd8f583568d2d03f898fe272d0ccc7"
   }
  }
 },
 "nbformat": 4,
 "nbformat_minor": 2
}
