{
 "cells": [
  {
   "cell_type": "code",
   "execution_count": null,
   "metadata": {},
   "outputs": [],
   "source": [
    "using Pkg; Pkg.instantiate()"
   ]
  },
  {
   "cell_type": "code",
   "execution_count": 204,
   "metadata": {},
   "outputs": [],
   "source": [
    "# import Pkg; Pkg.add(\"PyCall\"); Pkg.add(\"JLD\"); Pkg.add(\"LinearAlgebra\")\n",
    "using PyCall\n",
    "using JLD\n",
    "using LinearAlgebra\n",
    "using Random\n",
    "using Base\n",
    "using Distributed\n",
    "using Dates\n",
    "# using UnicodePlots \n",
    "using NPZ\n",
    "using Plots\n",
    "# Distributed.addprocs(5)"
   ]
  },
  {
   "cell_type": "code",
   "execution_count": 4,
   "metadata": {},
   "outputs": [],
   "source": [
    "\"\"\"First convert numpy indices of atom coordinates\n",
    "to Julia's form of array.\"\"\"\n",
    "\n",
    "py\"\"\"\n",
    "    import numpy as np\n",
    "    ind_1nn_pbc = np.load(\"fcc_192/ind_1nn_pbc.npy\")\n",
    "    ind_2nn_pbc = np.load(\"fcc_192/ind_2nn_pbc.npy\")\n",
    "    ind_3nn_pbc = np.load(\"fcc_192/ind_3nn_pbc.npy\")\n",
    "    ind_4nn_pbc = np.load(\"fcc_192/ind_4nn_pbc.npy\")\n",
    "    ind_5nn_pbc = np.load(\"fcc_192/ind_5nn_pbc.npy\")\n",
    "    ind_6nn_pbc = np.load(\"fcc_192/ind_6nn_pbc.npy\")\n",
    "    \"\"\"\n",
    "\n",
    "ind_1nn_pbc = convert(Matrix{Int64}, PyArray(py\"ind_1nn_pbc\"o));\n",
    "ind_2nn_pbc = convert(Matrix{Int64}, PyArray(py\"ind_2nn_pbc\"o));\n",
    "ind_3nn_pbc = convert(Matrix{Int64}, PyArray(py\"ind_3nn_pbc\"o));\n",
    "ind_4nn_pbc = convert(Matrix{Int64}, PyArray(py\"ind_4nn_pbc\"o));\n",
    "ind_5nn_pbc = convert(Matrix{Int64}, PyArray(py\"ind_5nn_pbc\"o));\n",
    "ind_6nn_pbc = convert(Matrix{Int64}, PyArray(py\"ind_6nn_pbc\"o));"
   ]
  },
  {
   "cell_type": "code",
   "execution_count": 17,
   "metadata": {},
   "outputs": [
    {
     "data": {
      "text/plain": [
       "6-element Vector{Float64}:\n",
       " 1.6\n",
       " 1.2649110640673515\n",
       " 0.8000000000000002\n",
       " 0.9999999999999996\n",
       " 0.6324555320336759\n",
       " 0.40000000000000013"
      ]
     },
     "metadata": {},
     "output_type": "display_data"
    }
   ],
   "source": [
    "cpr(2,2)"
   ]
  },
  {
   "cell_type": "code",
   "execution_count": 232,
   "metadata": {},
   "outputs": [],
   "source": [
    "pth = \"fcc_192/ind_pair_pbc.jld\"\n",
    "save(pth, \"ind_1nn_pbc\", ind_1nn_pbc,\n",
    "     \"ind_2nn_pbc\", ind_2nn_pbc,\n",
    "     \"ind_3nn_pbc\", ind_3nn_pbc,\n",
    "     \"ind_4nn_pbc\", ind_4nn_pbc,\n",
    "     \"ind_5nn_pbc\", ind_5nn_pbc,\n",
    "     \"ind_6nn_pbc\", ind_6nn_pbc,)"
   ]
  },
  {
   "attachments": {},
   "cell_type": "markdown",
   "metadata": {},
   "source": [
    "#### The sub func part.\n",
    "\n",
    "- From 1nn to 6nn pair, the indices are stored in <code>ind_pair.jld</code> file."
   ]
  },
  {
   "cell_type": "code",
   "execution_count": 237,
   "metadata": {},
   "outputs": [
    {
     "data": {
      "text/plain": [
       "15488×2 Matrix{Int64}:\n",
       "    1    74\n",
       "    1   268\n",
       "    1   666\n",
       "    1   860\n",
       "    1  1866\n",
       "    1  2060\n",
       "    1  2458\n",
       "    1  2652\n",
       "    2    73\n",
       "    2    75\n",
       "    ⋮  \n",
       " 5115  5170\n",
       " 5115  5172\n",
       " 5116  5171\n",
       " 5117  5174\n",
       " 5118  5173\n",
       " 5118  5175\n",
       " 5119  5174\n",
       " 5119  5176\n",
       " 5120  5175"
      ]
     },
     "metadata": {},
     "output_type": "display_data"
    }
   ],
   "source": [
    "pth = \"fcc_192/ind_pair_pbc.jld\"\n",
    "\n",
    "#* Suit with the Julia's format\n",
    "ind_1nn = load(pth, \"ind_1nn_pbc\") .+1\n",
    "ind_2nn = load(pth, \"ind_2nn_pbc\") .+1\n",
    "ind_3nn = load(pth, \"ind_3nn_pbc\") .+1\n",
    "ind_4nn = load(pth, \"ind_4nn_pbc\") .+1\n",
    "ind_5nn = load(pth, \"ind_5nn_pbc\") .+1\n",
    "ind_6nn = load(pth, \"ind_6nn_pbc\") .+1"
   ]
  },
  {
   "attachments": {},
   "cell_type": "markdown",
   "metadata": {},
   "source": [
    "#### Second part\n",
    "\n",
    "Executing the SA for SQS generation."
   ]
  },
  {
   "cell_type": "code",
   "execution_count": 178,
   "metadata": {},
   "outputs": [
    {
     "data": {
      "text/plain": [
       "main (generic function with 1 method)"
      ]
     },
     "metadata": {},
     "output_type": "display_data"
    }
   ],
   "source": [
    "function main(iter)\n",
    "    ele_list = ele_list_gen(cr_, mn_, co_, ni_, \"randchoice\")\n",
    "    cor_func = cor_func_all(ele_list)\n",
    "\n",
    "    step_count = 0\n",
    "    cor_func_raw = cor_func\n",
    "    while true\n",
    "        action = [rand(1:192), rand(1:192)]\n",
    "        ele_list_n, r, cor_func_n, done = swap_step(action, cor_func_raw, ele_list, target_val)\n",
    "        r_ = exp(r/3)\n",
    "        if rand() <= min(r_, 1) && cor_func_n != cor_func_raw\n",
    "            ele_list = ele_list_n\n",
    "            cor_func_raw = cor_func_n\n",
    "            step_count += 1\n",
    "        end\n",
    "\n",
    "        if done\n",
    "            println(\"iter: $iter, step: $step_count\") \n",
    "            return ele_list_n\n",
    "            break\n",
    "        end\n",
    "    end\n",
    "end"
   ]
  },
  {
   "cell_type": "code",
   "execution_count": 143,
   "metadata": {},
   "outputs": [
    {
     "name": "stdout",
     "output_type": "stream",
     "text": [
      "[0.0 0.0 0.0 0.0 0.0 -4.547473508864641e-13; 0.0 -2.2737367544323206e-13 0.0 0.0 0.0 0.0; 0.0 -2.2737367544323206e-13 0.0 0.0 0.0 -9.094947017729282e-13; 0.0 2.2737367544323206e-13 0.0 0.0 0.0 -4.547473508864641e-13; 0.0 -2.2737367544323206e-13 0.0 0.0 0.0 -1.8189894035458565e-12; 0.0 1.1368683772161603e-13 0.0 0.0 0.0 2.2737367544323206e-13]\n",
      "      From worker 2:\t[0.0 0.0 0.0 0.0 0.0 -4.547473508864641e-13; 0.0 -2.2737367544323206e-13 0.0 0.0 0.0 0.0; 0.0 -2.2737367544323206e-13 0.0 0.0 0.0 -9.094947017729282e-13; 0.0 2.2737367544323206e-13 0.0 0.0 0.0 -4.547473508864641e-13; 0.0 -2.2737367544323206e-13 0.0 0.0 0.0 -1.8189894035458565e-12; 0.0 1.1368683772161603e-13 0.0 0.0 0.0 2.2737367544323206e-13]\n"
     ]
    },
    {
     "name": "stdout",
     "output_type": "stream",
     "text": [
      "      From worker 6:\t[0.0 0.0 0.0 0.0 0.0 -4.547473508864641e-13; 0.0 -2.2737367544323206e-13 0.0 0.0 0.0 0.0; 0.0 -2.2737367544323206e-13 0.0 0.0 0.0 -9.094947017729282e-13; 0.0 2.2737367544323206e-13 0.0 0.0 0.0 -4.547473508864641e-13; 0.0 -2.2737367544323206e-13 0.0 0.0 0.0 -1.8189894035458565e-12; 0.0 1.1368683772161603e-13 0.0 0.0 0.0 2.2737367544323206e-13]\n"
     ]
    },
    {
     "name": "stdout",
     "output_type": "stream",
     "text": [
      "      From worker 4:\t[0.0 0.0 0.0 0.0 0.0 -4.547473508864641e-13; 0.0 -2.2737367544323206e-13 0.0 0.0 0.0 0.0; 0.0 -2.2737367544323206e-13 0.0 0.0 0.0 -9.094947017729282e-13; 0.0 2.2737367544323206e-13 0.0 0.0 0.0 -4.547473508864641e-13; 0.0 -2.2737367544323206e-13 0.0 0.0 0.0 -1.8189894035458565e-12; 0.0 1.1368683772161603e-13 0.0 0.0 0.0 2.2737367544323206e-13]\n",
      "      From worker 3:\t[0.0 0.0 0.0 0.0 0.0 -4.547473508864641e-13; 0.0 -2.2737367544323206e-13 0.0 0.0 0.0 0.0; 0.0 -2.2737367544323206e-13 0.0 0.0 0.0 -9.094947017729282e-13; 0.0 2.2737367544323206e-13 0.0 0.0 0.0 -4.547473508864641e-13; 0.0 -2.2737367544323206e-13 0.0 0.0 0.0 -1.8189894035458565e-12; 0.0 1.1368683772161603e-13 0.0 0.0 0.0 2.2737367544323206e-13]\n"
     ]
    },
    {
     "name": "stdout",
     "output_type": "stream",
     "text": [
      "      From worker 5:\t[0.0 0.0 0.0 0.0 0.0 -4.547473508864641e-13; 0.0 -2.2737367544323206e-13 0.0 0.0 0.0 0.0; 0.0 -2.2737367544323206e-13 0.0 0.0 0.0 -9.094947017729282e-13; 0.0 2.2737367544323206e-13 0.0 0.0 0.0 -4.547473508864641e-13; 0.0 -2.2737367544323206e-13 0.0 0.0 0.0 -1.8189894035458565e-12; 0.0 1.1368683772161603e-13 0.0 0.0 0.0 2.2737367544323206e-13]\n"
     ]
    },
    {
     "data": {
      "text/plain": [
       "                    \u001b[38;5;8m┌                                        ┐\u001b[0m \n",
       "   [2500.0, 3000.0) \u001b[38;5;8m┤\u001b[0m\u001b[38;5;2m\u001b[0m\u001b[38;5;2m▌\u001b[0m 4                                     \u001b[38;5;8m \u001b[0m \u001b[38;5;8m\u001b[0m\n",
       "   [3000.0, 3500.0) \u001b[38;5;8m┤\u001b[0m\u001b[38;5;2m██████\u001b[0m\u001b[38;5;2m▍\u001b[0m 54                              \u001b[38;5;8m \u001b[0m \u001b[38;5;8m\u001b[0m\n",
       "   [3500.0, 4000.0) \u001b[38;5;8m┤\u001b[0m\u001b[38;5;2m███████████████████████\u001b[0m\u001b[38;5;2m▏\u001b[0m 198            \u001b[38;5;8m \u001b[0m \u001b[38;5;8m\u001b[0m\n",
       "   [4000.0, 4500.0) \u001b[38;5;8m┤\u001b[0m\u001b[38;5;2m███████████████████████████████████\u001b[0m\u001b[38;5;2m \u001b[0m 301\u001b[38;5;8m \u001b[0m \u001b[38;5;8m\u001b[0m\n",
       "   [4500.0, 5000.0) \u001b[38;5;8m┤\u001b[0m\u001b[38;5;2m█████████████████████████████\u001b[0m\u001b[38;5;2m▌\u001b[0m 253      \u001b[38;5;8m \u001b[0m \u001b[38;5;8m\u001b[0m\n",
       "   [5000.0, 5500.0) \u001b[38;5;8m┤\u001b[0m\u001b[38;5;2m██████████████\u001b[0m\u001b[38;5;2m▎\u001b[0m 122                     \u001b[38;5;8m \u001b[0m \u001b[38;5;8m\u001b[0m\n",
       "   [5500.0, 6000.0) \u001b[38;5;8m┤\u001b[0m\u001b[38;5;2m█████\u001b[0m\u001b[38;5;2m▌\u001b[0m 48                               \u001b[38;5;8m \u001b[0m \u001b[38;5;8m\u001b[0m\n",
       "   [6000.0, 6500.0) \u001b[38;5;8m┤\u001b[0m\u001b[38;5;2m██\u001b[0m\u001b[38;5;2m▎\u001b[0m 18                                  \u001b[38;5;8m \u001b[0m \u001b[38;5;8m\u001b[0m\n",
       "   [6500.0, 7000.0) \u001b[38;5;8m┤\u001b[0m\u001b[38;5;2m\u001b[0m\u001b[38;5;2m▎\u001b[0m 2                                     \u001b[38;5;8m \u001b[0m \u001b[38;5;8m\u001b[0m\n",
       "                    \u001b[38;5;8m└                                        ┘\u001b[0m \n",
       "                                     Frequency                 "
      ]
     },
     "metadata": {},
     "output_type": "display_data"
    }
   ],
   "source": [
    "@everywhere include(\"fcc_192.jl\");\n",
    "cor_func_list = zeros(Float64, 1000)\n",
    "vlock = Threads.ReentrantLock()\n",
    "\n",
    "Threads.@threads for i in 1:1000\n",
    "    ele_gen = ele_list_gen(0.25, 0.25, 0.25, 0.25)\n",
    "    # lock(vlock) do\n",
    "    cor_func_list[i] = cor_func_all(ele_gen, true)\n",
    "    # end\n",
    "end\n",
    "\n",
    "histogram(cor_func_list)"
   ]
  },
  {
   "cell_type": "code",
   "execution_count": 144,
   "metadata": {},
   "outputs": [
    {
     "data": {
      "text/plain": [
       "6"
      ]
     },
     "metadata": {},
     "output_type": "display_data"
    }
   ],
   "source": [
    "Distributed.nprocs()"
   ]
  },
  {
   "cell_type": "code",
   "execution_count": null,
   "metadata": {},
   "outputs": [],
   "source": [
    "include(\"fcc_192.jl\");\n",
    "cor_list = main(1)"
   ]
  },
  {
   "cell_type": "code",
   "execution_count": null,
   "metadata": {},
   "outputs": [],
   "source": [
    "@everywhere include(\"fcc_192.jl\");\n",
    "result = Distributed.pmap(main, 1:200);"
   ]
  },
  {
   "cell_type": "code",
   "execution_count": 210,
   "metadata": {},
   "outputs": [
    {
     "data": {
      "text/plain": [
       "              \u001b[38;5;8m┌                                        ┐\u001b[0m \n",
       "   [0.0, 0.5) \u001b[38;5;8m┤\u001b[0m\u001b[38;5;2m███████████████████████████████████\u001b[0m\u001b[38;5;2m \u001b[0m 143\u001b[38;5;8m \u001b[0m \u001b[38;5;8m\u001b[0m\n",
       "   [0.5, 1.0) \u001b[38;5;8m┤\u001b[0m\u001b[38;5;2m█████████\u001b[0m\u001b[38;5;2m▊\u001b[0m 40                           \u001b[38;5;8m \u001b[0m \u001b[38;5;8m\u001b[0m\n",
       "   [1.0, 1.5) \u001b[38;5;8m┤\u001b[0m\u001b[38;5;2m██\u001b[0m\u001b[38;5;2m▌\u001b[0m 10                                  \u001b[38;5;8m \u001b[0m \u001b[38;5;8m\u001b[0m\n",
       "   [1.5, 2.0) \u001b[38;5;8m┤\u001b[0m\u001b[38;5;2m█\u001b[0m\u001b[38;5;2m▎\u001b[0m 5                                    \u001b[38;5;8m \u001b[0m \u001b[38;5;8m\u001b[0m\n",
       "   [2.0, 2.5) \u001b[38;5;8m┤\u001b[0m\u001b[38;5;2m\u001b[0m\u001b[38;5;2m \u001b[0m 0                                     \u001b[38;5;8m \u001b[0m \u001b[38;5;8m\u001b[0m\n",
       "   [2.5, 3.0) \u001b[38;5;8m┤\u001b[0m\u001b[38;5;2m\u001b[0m\u001b[38;5;2m▌\u001b[0m 2                                     \u001b[38;5;8m \u001b[0m \u001b[38;5;8m\u001b[0m\n",
       "              \u001b[38;5;8m└                                        ┘\u001b[0m \n",
       "                               Frequency                 "
      ]
     },
     "metadata": {},
     "output_type": "display_data"
    }
   ],
   "source": [
    "time_ = [i[1] for i in result]\n",
    "step_ = [i[2] for i in result]\n",
    "histogram(time_)"
   ]
  },
  {
   "cell_type": "code",
   "execution_count": 211,
   "metadata": {},
   "outputs": [],
   "source": [
    "save(\"Cr25Mn25Co25_try_jltime_pbc.npy\", time_)\n",
    "save(\"Cr25Mn25Co25_try_jlstep_pbc.npy\", step_)"
   ]
  }
 ],
 "metadata": {
  "kernelspec": {
   "display_name": "Julia 1.8.3",
   "language": "julia",
   "name": "julia-1.8"
  },
  "language_info": {
   "file_extension": ".jl",
   "mimetype": "application/julia",
   "name": "julia",
   "version": "1.8.3"
  },
  "orig_nbformat": 4,
  "vscode": {
   "interpreter": {
    "hash": "40d3a090f54c6569ab1632332b64b2c03c39dcf918b08424e98f38b5ae0af88f"
   }
  }
 },
 "nbformat": 4,
 "nbformat_minor": 2
}
