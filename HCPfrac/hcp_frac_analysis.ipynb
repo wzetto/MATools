{
 "cells": [
  {
   "cell_type": "code",
   "execution_count": 1,
   "metadata": {},
   "outputs": [],
   "source": [
    "import cv2\n",
    "import numpy as np\n",
    "import matplotlib.pyplot as plt\n",
    "from sklearn import mixture"
   ]
  },
  {
   "cell_type": "code",
   "execution_count": 38,
   "metadata": {},
   "outputs": [
    {
     "name": "stdout",
     "output_type": "stream",
     "text": [
      "1024 350\n"
     ]
    }
   ],
   "source": [
    "#*VBGMM\n",
    "# path = '/run/user/1000/gvfs/smb-share:server=nas-inuilab.local,share=data_users/WangZhi/Image data/EBSDdata/20220805/dense_1_hcp.bmp'\n",
    "img_n = '4050_'\n",
    "path = f'//NAS-INUILAB/Data_Users/WangZhi/Image data/EBSDdata/20220810/{img_n}.bmp'\n",
    "path_out = f'//NAS-INUILAB/Data_Users/WangZhi/Image data/EBSDdata/20220810/{img_n}_p.bmp'\n",
    "path_phaseout = f'//NAS-INUILAB/Data_Users/WangZhi/Image data/EBSDdata/20220810/{img_n}_hcpfrac.bmp'\n",
    "\n",
    "img = cv2.imread(path)\n",
    "img_ = img.reshape(-1, 3)\n",
    "\n",
    "cv2.imshow('original img', img)\n",
    "\n",
    "cv2.waitKey(0)\n",
    "cv2.destroyAllWindows()\n",
    "\n",
    "img_len, img_width = img.shape[0], img.shape[1]\n",
    "print(img_len, img_width)"
   ]
  },
  {
   "cell_type": "code",
   "execution_count": 48,
   "metadata": {},
   "outputs": [],
   "source": [
    "#*inserting position into raw image array\n",
    "img_pos = np.zeros((img_len, img_width, 5))\n",
    "for i in range(img_len):\n",
    "    for j in range(img_width):\n",
    "        img_pos[i, j] = np.insert(np.array([i, j]), 0, img[i, j])\n",
    "\n",
    "img_pos_ = img_pos.reshape(-1, 5)   "
   ]
  },
  {
   "cell_type": "code",
   "execution_count": 49,
   "metadata": {},
   "outputs": [],
   "source": [
    "vbgmm = mixture.BayesianGaussianMixture(n_components=10, random_state=0)\n",
    "vbgmm=vbgmm.fit(img_pos_)\n",
    "labels=vbgmm.predict(img_pos_)"
   ]
  },
  {
   "cell_type": "code",
   "execution_count": 50,
   "metadata": {},
   "outputs": [
    {
     "name": "stdout",
     "output_type": "stream",
     "text": [
      "label=0, length=26732\n",
      "label=3, length=65133\n",
      "label=4, length=13893\n",
      "label=6, length=16175\n",
      "label=7, length=201270\n",
      "label=9, length=35197\n"
     ]
    }
   ],
   "source": [
    "for l in np.unique(labels):\n",
    "    len_i = len([img_[i] for i in range(len(labels)) if labels[i] == l])\n",
    "    print(f'label={l}, length={len_i}')"
   ]
  },
  {
   "cell_type": "code",
   "execution_count": 36,
   "metadata": {},
   "outputs": [
    {
     "data": {
      "text/plain": [
       "0.3798146253682225"
      ]
     },
     "execution_count": 36,
     "metadata": {},
     "output_type": "execute_result"
    }
   ],
   "source": [
    "(108263+14999)/(108263+14999+201270)"
   ]
  },
  {
   "cell_type": "code",
   "execution_count": 53,
   "metadata": {},
   "outputs": [],
   "source": [
    "true_list = [7, 3, 9, 0]\n",
    "img = cv2.imread(path)\n",
    "img_ = img.reshape(-1, 3)\n",
    "img_phase = img_.copy()\n",
    "for i in range(len(img_)):\n",
    "\n",
    "    if labels[i] not in true_list and np.min(img_[i]) < 250:\n",
    "        img_[i] = np.zeros(3)\n",
    "        img_phase[i] = np.zeros(3)\n",
    "    #fcc\n",
    "    elif labels[i] == true_list[0] and np.min(img_[i]) < 250:\n",
    "        img_phase[i][0], img_phase[i][1], img_phase[i][2] = 0, 0, 255\n",
    "    #hcp\n",
    "    elif labels[i] != true_list[0] and np.min(img_[i]) < 250:\n",
    "        img_phase[i][0], img_phase[i][1], img_phase[i][2] = 0, 255, 0\n",
    "\n",
    "img_p = img_.reshape(img.shape)\n",
    "img_phase_p = img_phase.reshape(img.shape)\n",
    "\n",
    "cv2.imshow('img', np.hstack([img_p, img_phase_p]))\n",
    "\n",
    "cv2.waitKey(0)\n",
    "cv2.destroyAllWindows()"
   ]
  },
  {
   "cell_type": "code",
   "execution_count": 35,
   "metadata": {},
   "outputs": [
    {
     "data": {
      "text/plain": [
       "True"
      ]
     },
     "execution_count": 35,
     "metadata": {},
     "output_type": "execute_result"
    }
   ],
   "source": [
    "cv2.imwrite(path_out, img_p)\n",
    "cv2.imwrite(path_phaseout, img_phase_p)"
   ]
  },
  {
   "cell_type": "code",
   "execution_count": 55,
   "metadata": {},
   "outputs": [
    {
     "data": {
      "text/plain": [
       "(1024, 347, 3)"
      ]
     },
     "execution_count": 55,
     "metadata": {},
     "output_type": "execute_result"
    }
   ],
   "source": [
    "#*Inverse img\n",
    "path = '//NAS-INUILAB/Data_Users/WangZhi/Image data/EBSDdata/nonEter_sup/4520_4_HCPFRAC114.bmp'\n",
    "img = cv2.imread(path)\n",
    "\n",
    "cv2.imshow('original img', img)\n",
    "\n",
    "cv2.waitKey(0)\n",
    "cv2.destroyAllWindows()\n",
    "\n",
    "img.shape"
   ]
  },
  {
   "cell_type": "code",
   "execution_count": 52,
   "metadata": {},
   "outputs": [],
   "source": [
    "length = []\n",
    "for i in range(1024):\n",
    "    for j in range(347):\n",
    "        pix = img[i][j]\n",
    "        if pix[2] == 255 and pix[0] == 0:\n",
    "            pix[2] = 0\n",
    "            pix[1] = 255\n",
    "\n",
    "        elif pix[1] == 255 and pix[0] == 0:\n",
    "            pix[2] = 255\n",
    "            pix[1] = 0\n",
    "    \n",
    "cv2.imshow('original img', img)\n",
    "\n",
    "cv2.waitKey(0)\n",
    "cv2.destroyAllWindows()"
   ]
  },
  {
   "cell_type": "code",
   "execution_count": 59,
   "metadata": {},
   "outputs": [
    {
     "data": {
      "text/plain": [
       "True"
      ]
     },
     "execution_count": 59,
     "metadata": {},
     "output_type": "execute_result"
    }
   ],
   "source": [
    "path_n = '//NAS-INUILAB/Data_Users/WangZhi/Image data/EBSDdata/nonEter_sup/4520_4_HCPFRAC114.bmp'\n",
    "cv2.imwrite(path_n, img)"
   ]
  },
  {
   "cell_type": "code",
   "execution_count": 208,
   "metadata": {},
   "outputs": [],
   "source": [
    "#extrat certain color\n",
    "index = 8\n",
    "path = \"//NAS-INUILAB/Data_Users/WangZhi/Image data/EBSDdata/20220710/\"\n",
    "name_fcc = f'4525_FCC_{index}.bmp'\n",
    "name_hcp = f'4525_HCP_{index}_CI.bmp'\n",
    "name_raw = f'4525_HCP_{index}.bmp'\n",
    "name_new = f'4525_HCP_{index}_new.bmp'\n",
    "img_fcc = cv2.imread(path + name_fcc)\n",
    "img = cv2.imread(path + name_hcp)\n",
    "img_raw = cv2.imread(path + name_raw)\n",
    "img_raw1 = img_raw.copy()\n",
    "\n",
    "for i in range(img.shape[0]):\n",
    "    for j in range(img.shape[1]):\n",
    "        pix = img[i][j]\n",
    "        if np.linalg.norm(pix) < 10:\n",
    "            img_raw[i][j] = np.zeros(3)\n",
    "\n",
    "cv2.imshow('extration img', np.hstack([img_raw1, img_raw]))\n",
    "\n",
    "cv2.waitKey(0)\n",
    "cv2.destroyAllWindows()"
   ]
  },
  {
   "cell_type": "code",
   "execution_count": 209,
   "metadata": {},
   "outputs": [],
   "source": [
    "#extrat certain color\n",
    "# index = 8\n",
    "# path = \"//NAS-INUILAB/Data_Users/WangZhi/Image data/EBSDdata/20220710/\"\n",
    "# name_fcc = f'4525_FCC_{index}.bmp'\n",
    "# name_hcp = f'4525_HCP_{index}.bmp'\n",
    "# name_new = f'4525_HCP_{index}_new.bmp'\n",
    "\n",
    "# img_fcc = cv2.imread(path + name_fcc)\n",
    "# img_raw = cv2.imread(path + name_hcp)\n",
    "\n",
    "low_pink = np.array([150, 100, 100])\n",
    "high_pink = np.array([255, 255, 255])\n",
    "\n",
    "x1 = cv2.inRange(img_raw, low_pink, high_pink)\n",
    "z1 = cv2.bitwise_and(img_raw, img_raw, mask = x1)\n",
    "\n",
    "# low_purple = np.array([0, 200, 100])\n",
    "# high_purple = np.array([100, 255, 150])\n",
    "\n",
    "# x2 = cv2.inRange(img, low_purple, high_purple)\n",
    "# z2 = cv2.bitwise_and(img, img, mask = x2)\n",
    "\n",
    "# low_purple = np.array([100, 80, 200])\n",
    "# high_purple = np.array([255, 150, 255])\n",
    "\n",
    "# x3 = cv2.inRange(img, low_purple, high_purple)\n",
    "# z3 = cv2.bitwise_and(img, img, mask = x3)\n",
    "\n",
    "z = z1\n",
    "\n",
    "for i in range(z.shape[0]):\n",
    "    for j in range(z.shape[1]):\n",
    "        pix = z[i][j]\n",
    "        # if np.mean(pix) > 190:\n",
    "        #     pix[0], pix[1], pix[2] = 0, 0, 0\n",
    "\n",
    "cv2.imshow('extration img', np.hstack([img_raw, z]))\n",
    "\n",
    "cv2.waitKey(0)\n",
    "cv2.destroyAllWindows()"
   ]
  },
  {
   "cell_type": "code",
   "execution_count": 210,
   "metadata": {},
   "outputs": [
    {
     "data": {
      "text/plain": [
       "True"
      ]
     },
     "execution_count": 210,
     "metadata": {},
     "output_type": "execute_result"
    }
   ],
   "source": [
    "cv2.imwrite(path+name_new, z)"
   ]
  },
  {
   "cell_type": "code",
   "execution_count": 192,
   "metadata": {},
   "outputs": [
    {
     "name": "stdout",
     "output_type": "stream",
     "text": [
      "HCP farc: 0.040266157835510547\n"
     ]
    }
   ],
   "source": [
    "count_hcp, count_fcc = 0, 0\n",
    "height, width = z.shape[0], z.shape[1]\n",
    "for i in range(height):\n",
    "    for j in range(width):\n",
    "        if 440 > np.linalg.norm(z[i][j]) > 0:\n",
    "            count_hcp += 1\n",
    "        if 440 > np.linalg.norm(img_fcc[i][j]) > 0:\n",
    "            count_fcc += 1\n",
    "\n",
    "\n",
    "hcp_f = count_hcp/(count_hcp + count_fcc)\n",
    "print(f'HCP farc: {hcp_f}')"
   ]
  },
  {
   "cell_type": "code",
   "execution_count": 106,
   "metadata": {},
   "outputs": [
    {
     "name": "stdout",
     "output_type": "stream",
     "text": [
      "(1023, 349, 3)\n"
     ]
    }
   ],
   "source": [
    "#denoising\n",
    "path = '//NAS-INUILAB/Data_Users/WangZhi/Image data/EBSDdata/nonEter_sup/'\n",
    "name = '4515_hcp.bmp'\n",
    "name_new = '4515_hcp_new.bmp'\n",
    "img = cv2.imread(path + name)\n",
    "print(img.shape)\n",
    "\n",
    "for i in range(img.shape[0]):\n",
    "    for j in range(img.shape[1]):\n",
    "        pix = img[i][j]\n",
    "        if np.linalg.norm(pix) > 2 and np.random.rand() > 0.04 and np.linalg.norm(pix) < 441:\n",
    "            pix[0], pix[1], pix[2] = 0, 0, 0\n",
    "\n",
    "cv2.imshow('extration img', img)\n",
    "\n",
    "cv2.waitKey(0)\n",
    "cv2.destroyAllWindows()"
   ]
  },
  {
   "cell_type": "code",
   "execution_count": 107,
   "metadata": {},
   "outputs": [
    {
     "name": "stdout",
     "output_type": "stream",
     "text": [
      "HCP farc: 0.009324224778518152\n"
     ]
    }
   ],
   "source": [
    "count_hcp = 0\n",
    "height, width = img.shape[0], img.shape[1]\n",
    "for i in range(height):\n",
    "    for j in range(width):\n",
    "\n",
    "        if np.linalg.norm(img[i][j]) > 0:\n",
    "            count_hcp += 1\n",
    "\n",
    "\n",
    "hcp_f = count_hcp/(height*width)\n",
    "print(f'HCP farc: {hcp_f}')"
   ]
  },
  {
   "cell_type": "code",
   "execution_count": 233,
   "metadata": {},
   "outputs": [
    {
     "name": "stdout",
     "output_type": "stream",
     "text": [
      "True fraction of HCP: 0.010879331559218245\n"
     ]
    }
   ],
   "source": [
    "#*merge FCC and HCP phase into phasemap\n",
    "index = 4\n",
    "path = \"//NAS-INUILAB/Data_Users/WangZhi/Image data/EBSDdata/20220617/\"\n",
    "name_fcc = f'4020_fcc_{index}.bmp'\n",
    "name_hcp = f'4020_hcp_{index}.bmp'\n",
    "name_new = f'4020_hcpfrac_{index}.bmp'\n",
    "\n",
    "fcc_img = cv2.imread(path + name_fcc)\n",
    "hcp_img = cv2.imread(path + name_hcp)\n",
    "hcp_raw1, hcp_raw2 = hcp_img.copy(), hcp_img.copy()\n",
    "\n",
    "height, width = fcc_img.shape[0], fcc_img.shape[1]\n",
    "count_hcp, count_fcc = 0, 0\n",
    "\n",
    "for i in range(height):\n",
    "    for j in range(width):\n",
    "        pix_fcc = fcc_img[i][j]\n",
    "        pix_hcp = hcp_img[i][j]\n",
    "        if 440 > np.linalg.norm(pix_fcc) > 1:\n",
    "            count_fcc += 1\n",
    "            pix_fcc[0], pix_fcc[1], pix_fcc[2] = 0, 0, 255\n",
    "        if 440 > np.linalg.norm(pix_hcp) > 1:\n",
    "            count_hcp += 1\n",
    "            pix_hcp[0], pix_hcp[1], pix_hcp[2] = 0, 255, 0\n",
    "\n",
    "img = fcc_img + hcp_img\n",
    "true_frac = count_hcp/(count_fcc+count_hcp)\n",
    "print(f'True fraction of HCP: {true_frac}')\n",
    "\n",
    "cv2.imshow('merge img', img)\n",
    "\n",
    "cv2.waitKey(0)\n",
    "cv2.destroyAllWindows()"
   ]
  },
  {
   "cell_type": "code",
   "execution_count": 234,
   "metadata": {},
   "outputs": [
    {
     "data": {
      "text/plain": [
       "True"
      ]
     },
     "execution_count": 234,
     "metadata": {},
     "output_type": "execute_result"
    }
   ],
   "source": [
    "cv2.imwrite(path+name_new, img)"
   ]
  },
  {
   "cell_type": "code",
   "execution_count": null,
   "metadata": {},
   "outputs": [],
   "source": [
    "\n",
    "path = \"//NAS-INUILAB/Data_Users/WangZhi/nonE_CrCoNi/nonEter_sup/\"\n",
    "name_fcc = '4030_fcc.bmp'\n",
    "name_hcp = '4030_hcp_new.bmp'\n",
    "name_new = '4520_frac_4_new.bmp'"
   ]
  },
  {
   "cell_type": "code",
   "execution_count": 231,
   "metadata": {},
   "outputs": [],
   "source": [
    "#*remove random noise\n",
    "index = 4\n",
    "path = \"//NAS-INUILAB/Data_Users/WangZhi/Image data/EBSDdata/20220617/\"\n",
    "name_fcc = f'4020_fcc_{index}.bmp'\n",
    "name_hcp = f'4020_hcp_{index}.bmp'\n",
    "name_new = f'4020_hcpfrac_{index}.bmp'\n",
    "\n",
    "fcc_img = cv2.imread(path + name_fcc)\n",
    "hcp_img = cv2.imread(path + name_hcp)\n",
    "hcp_raw1, hcp_raw2 = hcp_img.copy(), hcp_img.copy()\n",
    "height, width = fcc_img.shape[0], fcc_img.shape[1]\n",
    "\n",
    "w_h, w_w = 40, 40\n",
    "tolerate_degree = 4\n",
    "for i in range(height):\n",
    "    for j in range(width):\n",
    "        if i + w_h <= height and j + w_w <= width:\n",
    "            filter_ = hcp_raw1[i:i+w_h, j:j+w_w]\n",
    "            # print(filter_.shape)\n",
    "            f_2, f_1, f_0 = filter_[:,0], filter_[:,1], filter_[:,2]\n",
    "            f_2 = f_2[f_2 > 5]\n",
    "            f_1 = f_1[f_1 > 5]\n",
    "            f_0 = f_0[f_0 > 5]\n",
    "            var_2, var_1, var_0 = np.sqrt(np.var(f_2)), np.sqrt(np.var(f_1)), np.sqrt(np.var(f_0))\n",
    "            if ((len(np.unique(f_2)) > tolerate_degree \n",
    "            or len(np.unique(f_1)) > tolerate_degree \n",
    "            or len(np.unique(f_0)) > tolerate_degree) \n",
    "            and np.mean([var_1, var_2, var_0]) > 40):\n",
    "                hcp_raw1[i:i+w_h, j:j+w_w] = np.zeros((w_h, w_w, 3))\n",
    "\n",
    "cv2.imshow('denoised img', np.hstack([hcp_raw1, hcp_raw2]))\n",
    "\n",
    "cv2.waitKey(0)\n",
    "cv2.destroyAllWindows()"
   ]
  },
  {
   "cell_type": "code",
   "execution_count": 232,
   "metadata": {},
   "outputs": [
    {
     "data": {
      "text/plain": [
       "True"
      ]
     },
     "execution_count": 232,
     "metadata": {},
     "output_type": "execute_result"
    }
   ],
   "source": [
    "cv2.imwrite(path+name_hcp, hcp_raw1)"
   ]
  },
  {
   "cell_type": "code",
   "execution_count": 206,
   "metadata": {},
   "outputs": [
    {
     "data": {
      "text/plain": [
       "array([3, 8])"
      ]
     },
     "execution_count": 206,
     "metadata": {},
     "output_type": "execute_result"
    }
   ],
   "source": [
    "a = np.array([[1,2,3], [3,4,8]])\n",
    "a[:,2]"
   ]
  },
  {
   "cell_type": "code",
   "execution_count": 195,
   "metadata": {},
   "outputs": [
    {
     "data": {
      "text/plain": [
       "True"
      ]
     },
     "execution_count": 195,
     "metadata": {},
     "output_type": "execute_result"
    }
   ],
   "source": [
    "cv2.imwrite(path+name_new, img)"
   ]
  },
  {
   "cell_type": "code",
   "execution_count": null,
   "metadata": {},
   "outputs": [],
   "source": [
    "#*True fraction of HCP\n",
    "path = '//NAS-INUILAB/Data_Users/WangZhi/Image data/EBSDdata/nonEter_sup/'\n",
    "name_fcc = '4020_fcc.bmp'\n",
    "name_hcp = '4020_hcp_new.bmp'"
   ]
  }
 ],
 "metadata": {
  "kernelspec": {
   "display_name": "Python 3.9.7 ('base')",
   "language": "python",
   "name": "python3"
  },
  "language_info": {
   "codemirror_mode": {
    "name": "ipython",
    "version": 3
   },
   "file_extension": ".py",
   "mimetype": "text/x-python",
   "name": "python",
   "nbconvert_exporter": "python",
   "pygments_lexer": "ipython3",
   "version": "3.9.7"
  },
  "orig_nbformat": 4,
  "vscode": {
   "interpreter": {
    "hash": "68475d8e8ba7c27bff5b0c1dcce162ecdafd8f583568d2d03f898fe272d0ccc7"
   }
  }
 },
 "nbformat": 4,
 "nbformat_minor": 2
}
